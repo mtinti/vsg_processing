{
 "cells": [
  {
   "cell_type": "code",
   "execution_count": 1,
   "id": "0badf910-6980-42b2-a3a7-0b4fe97cc8a9",
   "metadata": {},
   "outputs": [],
   "source": [
    "import pandas as pd\n",
    "import numpy as np\n",
    "import plotly.graph_objects as go\n",
    "from plotly.subplots import make_subplots\n",
    "#process myRna-seq output and prepare table for web visualization"
   ]
  },
  {
   "cell_type": "code",
   "execution_count": 2,
   "id": "393730f1-2968-45d2-8cc8-6f15a5069a2f",
   "metadata": {},
   "outputs": [
    {
     "name": "stdout",
     "output_type": "stream",
     "text": [
      "\u001b[96m\n",
      "╔════════════════════════════════════════════════════════╗\n",
      "║          🧬 VSG META-ANALYSIS PIPELINE 🧬              ║\n",
      "║                                                        ║\n",
      "║  Analyzing Variant Surface Glycoprotein Expression    ║\n",
      "║           in Trypanosoma brucei                       ║\n",
      "╚════════════════════════════════════════════════════════╝\n",
      "\u001b[0m\n",
      "\n",
      "2025-10-06 10:40:33,450 - INFO - Starting VSG meta-analysis pipeline...\n",
      "2025-10-06 10:40:33,451 - INFO - Loading experiment table...\n",
      "2025-10-06 10:40:33,469 - INFO - Loaded 432 samples\n",
      "2025-10-06 10:40:33,469 - INFO - Loading VSG dictionary...\n",
      "2025-10-06 10:40:33,472 - INFO - Loaded 299 VSG mappings\n",
      "2025-10-06 10:40:33,472 - INFO - Validating files...\n",
      "2025-10-06 10:40:33,486 - INFO - Identifying top VSGs...\n",
      "Processing samples: 100%|█████████████████████| 432/432 [00:07<00:00, 58.52it/s]\n",
      "2025-10-06 10:40:40,877 - INFO - Top VSG distribution:\n",
      "top_vsgs\n",
      "Tb427VSG-2      328\n",
      "Tb427VSG-3       27\n",
      "Tb427VSG-22      21\n",
      "Tb427VSG-9       16\n",
      "Tb427VSG-653     14\n",
      "Name: count, dtype: int64\n",
      "2025-10-06 10:40:40,877 - INFO - Generating experiment configuration...\n",
      "2025-10-06 10:40:40,916 - INFO - Generated configuration for 78 experiments\n",
      "2025-10-06 10:40:40,919 - INFO - Saved experiment configuration to vsgs_web_server/data/exp_config.json\n",
      "2025-10-06 10:40:40,919 - INFO - Analyzing silent VSG expression...\n",
      "Processing experiments: 100%|███████████████████| 78/78 [00:13<00:00,  5.59it/s]\n",
      "2025-10-06 10:40:54,876 - INFO - Silent VSG analysis complete. Shape: (78, 5)\n",
      "2025-10-06 10:40:54,878 - INFO - Saved silent VSG data to vsgs_web_server/data/silentCsvData.csv\n",
      "2025-10-06 10:40:54,878 - INFO - Analyzing main VSG expression...\n",
      "Processing experiments: 100%|███████████████████| 78/78 [00:13<00:00,  5.77it/s]\n",
      "2025-10-06 10:41:08,408 - INFO - Main VSG analysis complete. Shape: (78, 1)\n",
      "2025-10-06 10:41:08,410 - INFO - Saved main VSG data to vsgs_web_server/data/mainCsvData.csv\n",
      "2025-10-06 10:41:08,410 - INFO - Calculating QC metrics...\n",
      "Calculating QC: 100%|███████████████████████████| 78/78 [00:17<00:00,  4.38it/s]\n",
      "2025-10-06 10:41:26,235 - INFO - QC metrics calculated for 78 experiments\n",
      "2025-10-06 10:41:26,237 - INFO - Saved QC metrics to vsgs_web_server/data/QC.csv\n",
      "2025-10-06 10:41:26,238 - INFO - Pipeline completed successfully!\n",
      "\n",
      "==================================================\n",
      "PIPELINE SUMMARY\n",
      "==================================================\n",
      "Total experiments processed: 78\n",
      "Total samples analyzed: 432\n",
      "\n",
      "Silent VSG families detected: 4\n",
      "Top 5 derepressed experiments (silent VSGs):\n",
      "Family                    sum\n",
      "TbRAP1_2_dMyb      158.380870\n",
      "VEX1and2_1_RNAi48  152.858447\n",
      "VEX1and2_1_RNAi24  127.007331\n",
      "PIP5Pase_1_KO       96.754221\n",
      "TbRAP1_1_KO         91.663110\n",
      "\n",
      "Top 5 experiments with main VSG downregulation:\n",
      "                    counts\n",
      "BET151_1_Drug72h -3.099144\n",
      "BET151_1_Drug48h -2.576212\n",
      "TbESB1_2_KO48    -2.511187\n",
      "H3H4_3_KO48      -2.039470\n",
      "TbRAP1_1_5A      -2.012854\n",
      "\n",
      "QC Summary:\n",
      "  Mean main VSG percentage: 3.81%\n",
      "  Mean mitochondrial percentage: 0.61%\n",
      "==================================================\n"
     ]
    }
   ],
   "source": [
    "!python vsg_analysis_pipeline.py \\\n",
    "--output vsgs_web_server/data \\\n",
    "--experiment-table experiment_table.txt \\\n",
    "--vsg-dict vsg_dic.txt \\\n",
    "--base-path ../myRna-seq/results/result_vsgs "
   ]
  },
  {
   "cell_type": "code",
   "execution_count": 3,
   "id": "eeb90bbd-0cdc-499d-8cf6-dbe106755be0",
   "metadata": {},
   "outputs": [
    {
     "data": {
      "text/html": [
       "<div>\n",
       "<style scoped>\n",
       "    .dataframe tbody tr th:only-of-type {\n",
       "        vertical-align: middle;\n",
       "    }\n",
       "\n",
       "    .dataframe tbody tr th {\n",
       "        vertical-align: top;\n",
       "    }\n",
       "\n",
       "    .dataframe thead th {\n",
       "        text-align: right;\n",
       "    }\n",
       "</style>\n",
       "<table border=\"1\" class=\"dataframe\">\n",
       "  <thead>\n",
       "    <tr style=\"text-align: right;\">\n",
       "      <th></th>\n",
       "      <th>main_vsg</th>\n",
       "    </tr>\n",
       "    <tr>\n",
       "      <th>experiment</th>\n",
       "      <th></th>\n",
       "    </tr>\n",
       "  </thead>\n",
       "  <tbody>\n",
       "    <tr>\n",
       "      <th>BDF2_1_KO48</th>\n",
       "      <td>-0.371607</td>\n",
       "    </tr>\n",
       "    <tr>\n",
       "      <th>BDF3_1_KO24</th>\n",
       "      <td>-0.555349</td>\n",
       "    </tr>\n",
       "    <tr>\n",
       "      <th>BET151_1_Drug12h</th>\n",
       "      <td>-0.027553</td>\n",
       "    </tr>\n",
       "    <tr>\n",
       "      <th>BET151_1_Drug24h</th>\n",
       "      <td>-0.709358</td>\n",
       "    </tr>\n",
       "    <tr>\n",
       "      <th>BET151_1_Drug3h</th>\n",
       "      <td>0.482766</td>\n",
       "    </tr>\n",
       "  </tbody>\n",
       "</table>\n",
       "</div>"
      ],
      "text/plain": [
       "                  main_vsg\n",
       "experiment                \n",
       "BDF2_1_KO48      -0.371607\n",
       "BDF3_1_KO24      -0.555349\n",
       "BET151_1_Drug12h -0.027553\n",
       "BET151_1_Drug24h -0.709358\n",
       "BET151_1_Drug3h   0.482766"
      ]
     },
     "execution_count": 3,
     "metadata": {},
     "output_type": "execute_result"
    }
   ],
   "source": [
    "df_1 = pd.read_csv('vsgs_web_server/data/mainCsvData.csv')\n",
    "df_1.columns = ['experiment','main_vsg']\n",
    "df_1 = df_1.set_index('experiment')\n",
    "df_1.head()"
   ]
  },
  {
   "cell_type": "code",
   "execution_count": 4,
   "id": "a7776550-a304-4b73-9b87-9984e0a9f741",
   "metadata": {},
   "outputs": [
    {
     "data": {
      "text/html": [
       "<div>\n",
       "<style scoped>\n",
       "    .dataframe tbody tr th:only-of-type {\n",
       "        vertical-align: middle;\n",
       "    }\n",
       "\n",
       "    .dataframe tbody tr th {\n",
       "        vertical-align: top;\n",
       "    }\n",
       "\n",
       "    .dataframe thead th {\n",
       "        text-align: right;\n",
       "    }\n",
       "</style>\n",
       "<table border=\"1\" class=\"dataframe\">\n",
       "  <thead>\n",
       "    <tr style=\"text-align: right;\">\n",
       "      <th></th>\n",
       "      <th>BES</th>\n",
       "      <th>MC</th>\n",
       "      <th>MES</th>\n",
       "      <th>array</th>\n",
       "      <th>sum</th>\n",
       "    </tr>\n",
       "    <tr>\n",
       "      <th>experiment</th>\n",
       "      <th></th>\n",
       "      <th></th>\n",
       "      <th></th>\n",
       "      <th></th>\n",
       "      <th></th>\n",
       "    </tr>\n",
       "  </thead>\n",
       "  <tbody>\n",
       "    <tr>\n",
       "      <th>BDF2_1_KO48</th>\n",
       "      <td>1.054660</td>\n",
       "      <td>1.000000</td>\n",
       "      <td>1.429394</td>\n",
       "      <td>1.000000</td>\n",
       "      <td>4.484054</td>\n",
       "    </tr>\n",
       "    <tr>\n",
       "      <th>BDF3_1_KO24</th>\n",
       "      <td>2.459381</td>\n",
       "      <td>1.025548</td>\n",
       "      <td>6.231531</td>\n",
       "      <td>1.025548</td>\n",
       "      <td>10.742007</td>\n",
       "    </tr>\n",
       "    <tr>\n",
       "      <th>BET151_1_Drug12h</th>\n",
       "      <td>1.000000</td>\n",
       "      <td>1.000000</td>\n",
       "      <td>0.967858</td>\n",
       "      <td>1.000000</td>\n",
       "      <td>3.967858</td>\n",
       "    </tr>\n",
       "    <tr>\n",
       "      <th>BET151_1_Drug24h</th>\n",
       "      <td>0.862891</td>\n",
       "      <td>1.000000</td>\n",
       "      <td>0.920897</td>\n",
       "      <td>1.000000</td>\n",
       "      <td>3.783788</td>\n",
       "    </tr>\n",
       "    <tr>\n",
       "      <th>BET151_1_Drug3h</th>\n",
       "      <td>1.077385</td>\n",
       "      <td>1.000000</td>\n",
       "      <td>1.093596</td>\n",
       "      <td>1.000000</td>\n",
       "      <td>4.170982</td>\n",
       "    </tr>\n",
       "  </tbody>\n",
       "</table>\n",
       "</div>"
      ],
      "text/plain": [
       "                       BES        MC       MES     array        sum\n",
       "experiment                                                         \n",
       "BDF2_1_KO48       1.054660  1.000000  1.429394  1.000000   4.484054\n",
       "BDF3_1_KO24       2.459381  1.025548  6.231531  1.025548  10.742007\n",
       "BET151_1_Drug12h  1.000000  1.000000  0.967858  1.000000   3.967858\n",
       "BET151_1_Drug24h  0.862891  1.000000  0.920897  1.000000   3.783788\n",
       "BET151_1_Drug3h   1.077385  1.000000  1.093596  1.000000   4.170982"
      ]
     },
     "execution_count": 4,
     "metadata": {},
     "output_type": "execute_result"
    }
   ],
   "source": [
    "df_2 = pd.read_csv('vsgs_web_server/data/silentCSVdata.csv')\n",
    "df_2.columns = ['experiment']+list(df_2.columns)[1:]\n",
    "df_2=df_2.set_index('experiment')\n",
    "#df_2=np.log2(df_2)\n",
    "df_2.head()"
   ]
  },
  {
   "cell_type": "code",
   "execution_count": 5,
   "id": "a030d27f-f518-43ef-942c-b6fc3e5ffdc1",
   "metadata": {},
   "outputs": [],
   "source": [
    "merge = df_2.join(df_1)"
   ]
  },
  {
   "cell_type": "code",
   "execution_count": 6,
   "id": "b2264822-8bae-4c96-8ad8-70cc4db0fef3",
   "metadata": {},
   "outputs": [
    {
     "data": {
      "text/html": [
       "<div>\n",
       "<style scoped>\n",
       "    .dataframe tbody tr th:only-of-type {\n",
       "        vertical-align: middle;\n",
       "    }\n",
       "\n",
       "    .dataframe tbody tr th {\n",
       "        vertical-align: top;\n",
       "    }\n",
       "\n",
       "    .dataframe thead th {\n",
       "        text-align: right;\n",
       "    }\n",
       "</style>\n",
       "<table border=\"1\" class=\"dataframe\">\n",
       "  <thead>\n",
       "    <tr style=\"text-align: right;\">\n",
       "      <th></th>\n",
       "      <th>BES</th>\n",
       "      <th>MC</th>\n",
       "      <th>MES</th>\n",
       "      <th>array</th>\n",
       "      <th>sum</th>\n",
       "      <th>main_vsg</th>\n",
       "    </tr>\n",
       "    <tr>\n",
       "      <th>experiment</th>\n",
       "      <th></th>\n",
       "      <th></th>\n",
       "      <th></th>\n",
       "      <th></th>\n",
       "      <th></th>\n",
       "      <th></th>\n",
       "    </tr>\n",
       "  </thead>\n",
       "  <tbody>\n",
       "    <tr>\n",
       "      <th>BDF2_1_KO48</th>\n",
       "      <td>1.054660</td>\n",
       "      <td>1.000000</td>\n",
       "      <td>1.429394</td>\n",
       "      <td>1.000000</td>\n",
       "      <td>4.484054</td>\n",
       "      <td>-0.371607</td>\n",
       "    </tr>\n",
       "    <tr>\n",
       "      <th>BDF3_1_KO24</th>\n",
       "      <td>2.459381</td>\n",
       "      <td>1.025548</td>\n",
       "      <td>6.231531</td>\n",
       "      <td>1.025548</td>\n",
       "      <td>10.742007</td>\n",
       "      <td>-0.555349</td>\n",
       "    </tr>\n",
       "    <tr>\n",
       "      <th>BET151_1_Drug12h</th>\n",
       "      <td>1.000000</td>\n",
       "      <td>1.000000</td>\n",
       "      <td>0.967858</td>\n",
       "      <td>1.000000</td>\n",
       "      <td>3.967858</td>\n",
       "      <td>-0.027553</td>\n",
       "    </tr>\n",
       "    <tr>\n",
       "      <th>BET151_1_Drug24h</th>\n",
       "      <td>0.862891</td>\n",
       "      <td>1.000000</td>\n",
       "      <td>0.920897</td>\n",
       "      <td>1.000000</td>\n",
       "      <td>3.783788</td>\n",
       "      <td>-0.709358</td>\n",
       "    </tr>\n",
       "    <tr>\n",
       "      <th>BET151_1_Drug3h</th>\n",
       "      <td>1.077385</td>\n",
       "      <td>1.000000</td>\n",
       "      <td>1.093596</td>\n",
       "      <td>1.000000</td>\n",
       "      <td>4.170982</td>\n",
       "      <td>0.482766</td>\n",
       "    </tr>\n",
       "  </tbody>\n",
       "</table>\n",
       "</div>"
      ],
      "text/plain": [
       "                       BES        MC       MES     array        sum  main_vsg\n",
       "experiment                                                                   \n",
       "BDF2_1_KO48       1.054660  1.000000  1.429394  1.000000   4.484054 -0.371607\n",
       "BDF3_1_KO24       2.459381  1.025548  6.231531  1.025548  10.742007 -0.555349\n",
       "BET151_1_Drug12h  1.000000  1.000000  0.967858  1.000000   3.967858 -0.027553\n",
       "BET151_1_Drug24h  0.862891  1.000000  0.920897  1.000000   3.783788 -0.709358\n",
       "BET151_1_Drug3h   1.077385  1.000000  1.093596  1.000000   4.170982  0.482766"
      ]
     },
     "execution_count": 6,
     "metadata": {},
     "output_type": "execute_result"
    }
   ],
   "source": [
    "merge.head()"
   ]
  },
  {
   "cell_type": "code",
   "execution_count": 7,
   "id": "237dc7ac-1516-4c56-9cd8-75a1b3d28988",
   "metadata": {},
   "outputs": [
    {
     "data": {
      "text/plain": [
       "Index(['BES', 'MC', 'MES', 'array', 'sum', 'main_vsg'], dtype='object')"
      ]
     },
     "execution_count": 7,
     "metadata": {},
     "output_type": "execute_result"
    }
   ],
   "source": [
    "merge.to_csv('plot_data.csv')\n",
    "merge.columns"
   ]
  },
  {
   "cell_type": "code",
   "execution_count": 8,
   "id": "19306a8c-38ac-4d19-8e6d-a101169377ba",
   "metadata": {},
   "outputs": [],
   "source": [
    "from ProjectUtility.core import clean_axes"
   ]
  },
  {
   "cell_type": "code",
   "execution_count": 9,
   "id": "b0e4d860-b7be-4a2e-88a3-aacfa36093e9",
   "metadata": {},
   "outputs": [
    {
     "data": {
      "image/png": "[encoded data removed]",
      "text/plain": [
       "<Figure size 640x480 with 1 Axes>"
      ]
     },
     "metadata": {},
     "output_type": "display_data"
    }
   ],
   "source": [
    "import matplotlib.pyplot as plt\n",
    "fig,ax=plt.subplots()\n",
    "merge.plot(x='BES',y='main_vsg',ax=ax,kind='scatter')\n",
    "clean_axes(ax)\n",
    "plt.show()"
   ]
  },
  {
   "cell_type": "code",
   "execution_count": 10,
   "id": "29300b02-94a2-4645-a9ae-b8f7fec0685b",
   "metadata": {},
   "outputs": [],
   "source": [
    "# prepare interactive plots for web server"
   ]
  },
  {
   "cell_type": "code",
   "execution_count": 11,
   "id": "73015383-b842-4ccd-ac13-27c7b63e40c1",
   "metadata": {},
   "outputs": [
    {
     "data": {
      "application/vnd.plotly.v1+json": {
       "config": {
        "plotlyServerURL": "https://plot.ly"
       },
       "data": [
        {
         "hoverinfo": "text",
         "mode": "markers",
         "name": "scatter",
         "showlegend": false,
         "text": [
          "BDF2_1_KO48",
          "BDF3_1_KO24",
          "BET151_1_Drug12h",
          "BET151_1_Drug24h",
          "BET151_1_Drug3h",
          "BET151_1_Drug48h",
          "BET151_1_Drug6h",
          "BET151_1_Drug72h",
          "CAF1b_1_RNAi24",
          "CFB2_1_RNAi9",
          "DFO_1_DFO",
          "DFO_1_DFOFe",
          "DFO_1_Fe",
          "DRBD18_1_RNAi12",
          "H1_1_RNAi96",
          "H3H4_1_KOH3",
          "H3H4_1_KOH3J",
          "H3H4_1_KOH4",
          "H3H4_1_KOH4J",
          "H3H4_1_KOJ2",
          "H3H4_2_KO48",
          "H3H4_3_KO48",
          "H3_1_KOH3",
          "H3_1_KOH3J",
          "H3_1_KOJ",
          "IPMK_1_RNAi36",
          "IPMK_2_RNAi36",
          "MCMBP_1_KO24",
          "MCMBP_1_KO48",
          "PIP5Pase_1_KO",
          "PIP5Pase_2_D360A_N362A",
          "PNUTS_1_RNAi48",
          "RBP10_1_RNAi24",
          "RBP10_2_RNAi24",
          "RBP10_3_RNAi24",
          "RBP33_1_RNAi48",
          "RBP42_1_KO24",
          "RBP42_1_KO48",
          "RBP42_1_KO72",
          "RNaseH1_1_KO",
          "RNaseH2A_1_RNAi24",
          "RNaseH2A_2_RNAi36",
          "SET27_1_KO",
          "SET27_1_sKO",
          "SNF2PH_1_RNAi48",
          "TFR_1_RNAi24",
          "TbATR_1_RNAi24",
          "TbATR_2_RNAi36",
          "TbESB1_1_RNAi24",
          "TbESB1_2_KO48",
          "TbESB1_3_OE24",
          "TbHAT_1_RNAi48HAT1",
          "TbHAT_1_RNAi48HAT2",
          "TbPP1one_1_RNAi24",
          "TbPP1seven_1_RNAi24",
          "TbRAP1_1_2SD",
          "TbRAP1_1_5A",
          "TbRAP1_1_KO",
          "TbRAP1_2_dMyb",
          "TbSAP_1_RNAi72",
          "VEX1_1_Oe72",
          "VEX1_2_RNAi72",
          "VEX1_4_RNAi24",
          "VEX1_5_RNAi48",
          "VEX1_6_RNAi72",
          "VEX1and2_1_RNAi24",
          "VEX1and2_1_RNAi48",
          "VEX2_1_RNAi24",
          "VEX2_1_RNAi48",
          "ZC3H28_1_RNAi10",
          "ZC3H28_1_RNAi14",
          "ZC3H28_1_RNAi16",
          "ZC3H28_1_RNAi24",
          "ZC3H40_1_RNAi72",
          "ZC3H5_2_RNAi12",
          "ZC3H5_3_RNAi12",
          "ZC3H5_4_RNAi12",
          "ZC3H5_5_RNAi12"
         ],
         "type": "scatter",
         "x": {
          "bdata": "CvZy6uLf8D8LNra6z6wDQAAAAAAAAPA/4hndrs2c6z9FrW2O+DzxP1u7nKSzPOg/5oA1AsFR8D/1iCZnjjvrP8Ytjqs7EAxAWIQzIJdR8D9LWqDU8RDwP6YIyTcZC/A/YCtjzKwj8D83MgmyRvbvP7f0l82DWQ9AatysR5/z+D/skCcWIVoHQAAAAAAAAPA/9VhiYWS38D9y+ssNzgfpP4dQ9NN73wBAcvh/WRkJ/z+ZrN0t04kCQGjmFt8wrABAOR08rZuA7D/UtFCtrT/wPwAAAAAAAPA/O2gjyCK0BEDH7xkR79saQA50o9NqjklAlNqoGQCTJkClZPB61CwDQBU+iEhdSPE/AAAAAAAA8D8u8ru42QjvP+k9usrVxvQ/O0goYLXQ8z91WX4VS7/sP8eJK3WDIuw/wOpu/qy28D83FR1zOTz5P4/1ZyvjP/o/1yBmPeAVD0CnW2Xu/ysAQJEsjHykJvM/kp4/UjsN9D9mfufJTmEDQGBtbVcGMChAkojkuRjE/j8fH0mhKIjlP2rx0/UqKAhAXG7l8a0d3j+8Tec00uzuPz6LVP2y8EZAzz98QEfa5z+uApItkfg6QNj5qsQ4kTNAbiP12zNYTED1azmNMcdWQIviMRu/pwVA+FmxRj5bGEAWUNi/goUAQJepOhhVafQ/8xNZ0TDl+j+wjOrzMUYAQBDN5vyN7k9Agp6ljkQtTUC0vNMoahBIQD+Nx3HR3EdAYDpGd5a77z+zdiBVWgHuP8o5Qc6ps+0/yTREi5BO7T9N39nM3IP/P9smcDdJZO8/fCWeoro97T/KWZLnr1LuP1SMc+HXNuU/",
          "dtype": "f8"
         },
         "xaxis": "x",
         "y": {
          "bdata": "gmaXC2nI17/ILHm0asXhv1ZDAUPFNpy/rLmsyg6z5r/onqjRoeXeP8FTvOcUnATALZKdJfwbuD8U8O37C8sIwPAUCLwxTt2/NJMiholO9r/Fm0pMuG6hP2BbPXtI4qS/0B34f5Cwqz+1+tNB6k/Uv8ZOXiDp7OC/tMDG9/7s1L9+MyHNKZy+v8bVT0KP0+W/eTq2gWZ55L+kG51AaGnvv66Exnfbh/W/G7PjyNVQAMDsDBHAvyaxv640B3pHKbc/z/U30q1IgT+AJT+gsf3Rv4qEa2SDNMa/NYyQ86E6x794rlDWlZDmv/TN0ezTheC/a3xV07Gf9b9+beQtOya8v/bJODLGeOW/efxjCdgD5r+bzpMD8CLlv1uRTpnXvvG/rqoac6ukxj/o/f1GRGCSv2V/dnihNsy/Kr5xaWlFwr8BrvtRXrjav6E8Yzk0BPi/c9QoLTYzyD+v8O5IMyW6vyRKBiiXmI6/i0hCqckmsL8JvmwbBpLMv3pWqWEsqeW/h5u2wCzG/b/E/kc36RYEwEhEdDmj1M+/Hn/iJQEi0L+Om/QTyonKv84G8b4I9sG/0r2leA0e5b8H7m2fvPH1vwzy9wpTGgDA0njDnBtZ3b+8S7LV14znv+fT4A0h9IO/+w3z9feZyr+kQd3YnW25P5FDFJh96Z2/AR1/Hd2Gv7+riMln+/+Gv7F+pGAWst2/FIGeA66P7L+B0KX+T3jjv6vVya5HcOW/QUJut9cRxL/X8AITanfuv3iwqLt0Sem/XFUJ36nb8b+NWxfDQL3Qv8p1nzJeV8K/0CTg9pjKor99yUaBHxLkP35EAF8quMC/",
          "dtype": "f8"
         },
         "yaxis": "y"
        }
       ],
       "layout": {
        "height": 500,
        "hovermode": "closest",
        "showlegend": false,
        "template": {
         "data": {
          "bar": [
           {
            "error_x": {
             "color": "#2a3f5f"
            },
            "error_y": {
             "color": "#2a3f5f"
            },
            "marker": {
             "line": {
              "color": "#E5ECF6",
              "width": 0.5
             },
             "pattern": {
              "fillmode": "overlay",
              "size": 10,
              "solidity": 0.2
             }
            },
            "type": "bar"
           }
          ],
          "barpolar": [
           {
            "marker": {
             "line": {
              "color": "#E5ECF6",
              "width": 0.5
             },
             "pattern": {
              "fillmode": "overlay",
              "size": 10,
              "solidity": 0.2
             }
            },
            "type": "barpolar"
           }
          ],
          "carpet": [
           {
            "aaxis": {
             "endlinecolor": "#2a3f5f",
             "gridcolor": "white",
             "linecolor": "white",
             "minorgridcolor": "white",
             "startlinecolor": "#2a3f5f"
            },
            "baxis": {
             "endlinecolor": "#2a3f5f",
             "gridcolor": "white",
             "linecolor": "white",
             "minorgridcolor": "white",
             "startlinecolor": "#2a3f5f"
            },
            "type": "carpet"
           }
          ],
          "choropleth": [
           {
            "colorbar": {
             "outlinewidth": 0,
             "ticks": ""
            },
            "type": "choropleth"
           }
          ],
          "contour": [
           {
            "colorbar": {
             "outlinewidth": 0,
             "ticks": ""
            },
            "colorscale": [
             [
              0,
              "#0d0887"
             ],
             [
              0.1111111111111111,
              "#46039f"
             ],
             [
              0.2222222222222222,
              "#7201a8"
             ],
             [
              0.3333333333333333,
              "#9c179e"
             ],
             [
              0.4444444444444444,
              "#bd3786"
             ],
             [
              0.5555555555555556,
              "#d8576b"
             ],
             [
              0.6666666666666666,
              "#ed7953"
             ],
             [
              0.7777777777777778,
              "#fb9f3a"
             ],
             [
              0.8888888888888888,
              "#fdca26"
             ],
             [
              1,
              "#f0f921"
             ]
            ],
            "type": "contour"
           }
          ],
          "contourcarpet": [
           {
            "colorbar": {
             "outlinewidth": 0,
             "ticks": ""
            },
            "type": "contourcarpet"
           }
          ],
          "heatmap": [
           {
            "colorbar": {
             "outlinewidth": 0,
             "ticks": ""
            },
            "colorscale": [
             [
              0,
              "#0d0887"
             ],
             [
              0.1111111111111111,
              "#46039f"
             ],
             [
              0.2222222222222222,
              "#7201a8"
             ],
             [
              0.3333333333333333,
              "#9c179e"
             ],
             [
              0.4444444444444444,
              "#bd3786"
             ],
             [
              0.5555555555555556,
              "#d8576b"
             ],
             [
              0.6666666666666666,
              "#ed7953"
             ],
             [
              0.7777777777777778,
              "#fb9f3a"
             ],
             [
              0.8888888888888888,
              "#fdca26"
             ],
             [
              1,
              "#f0f921"
             ]
            ],
            "type": "heatmap"
           }
          ],
          "histogram": [
           {
            "marker": {
             "pattern": {
              "fillmode": "overlay",
              "size": 10,
              "solidity": 0.2
             }
            },
            "type": "histogram"
           }
          ],
          "histogram2d": [
           {
            "colorbar": {
             "outlinewidth": 0,
             "ticks": ""
            },
            "colorscale": [
             [
              0,
              "#0d0887"
             ],
             [
              0.1111111111111111,
              "#46039f"
             ],
             [
              0.2222222222222222,
              "#7201a8"
             ],
             [
              0.3333333333333333,
              "#9c179e"
             ],
             [
              0.4444444444444444,
              "#bd3786"
             ],
             [
              0.5555555555555556,
              "#d8576b"
             ],
             [
              0.6666666666666666,
              "#ed7953"
             ],
             [
              0.7777777777777778,
              "#fb9f3a"
             ],
             [
              0.8888888888888888,
              "#fdca26"
             ],
             [
              1,
              "#f0f921"
             ]
            ],
            "type": "histogram2d"
           }
          ],
          "histogram2dcontour": [
           {
            "colorbar": {
             "outlinewidth": 0,
             "ticks": ""
            },
            "colorscale": [
             [
              0,
              "#0d0887"
             ],
             [
              0.1111111111111111,
              "#46039f"
             ],
             [
              0.2222222222222222,
              "#7201a8"
             ],
             [
              0.3333333333333333,
              "#9c179e"
             ],
             [
              0.4444444444444444,
              "#bd3786"
             ],
             [
              0.5555555555555556,
              "#d8576b"
             ],
             [
              0.6666666666666666,
              "#ed7953"
             ],
             [
              0.7777777777777778,
              "#fb9f3a"
             ],
             [
              0.8888888888888888,
              "#fdca26"
             ],
             [
              1,
              "#f0f921"
             ]
            ],
            "type": "histogram2dcontour"
           }
          ],
          "mesh3d": [
           {
            "colorbar": {
             "outlinewidth": 0,
             "ticks": ""
            },
            "type": "mesh3d"
           }
          ],
          "parcoords": [
           {
            "line": {
             "colorbar": {
              "outlinewidth": 0,
              "ticks": ""
             }
            },
            "type": "parcoords"
           }
          ],
          "pie": [
           {
            "automargin": true,
            "type": "pie"
           }
          ],
          "scatter": [
           {
            "fillpattern": {
             "fillmode": "overlay",
             "size": 10,
             "solidity": 0.2
            },
            "type": "scatter"
           }
          ],
          "scatter3d": [
           {
            "line": {
             "colorbar": {
              "outlinewidth": 0,
              "ticks": ""
             }
            },
            "marker": {
             "colorbar": {
              "outlinewidth": 0,
              "ticks": ""
             }
            },
            "type": "scatter3d"
           }
          ],
          "scattercarpet": [
           {
            "marker": {
             "colorbar": {
              "outlinewidth": 0,
              "ticks": ""
             }
            },
            "type": "scattercarpet"
           }
          ],
          "scattergeo": [
           {
            "marker": {
             "colorbar": {
              "outlinewidth": 0,
              "ticks": ""
             }
            },
            "type": "scattergeo"
           }
          ],
          "scattergl": [
           {
            "marker": {
             "colorbar": {
              "outlinewidth": 0,
              "ticks": ""
             }
            },
            "type": "scattergl"
           }
          ],
          "scattermap": [
           {
            "marker": {
             "colorbar": {
              "outlinewidth": 0,
              "ticks": ""
             }
            },
            "type": "scattermap"
           }
          ],
          "scattermapbox": [
           {
            "marker": {
             "colorbar": {
              "outlinewidth": 0,
              "ticks": ""
             }
            },
            "type": "scattermapbox"
           }
          ],
          "scatterpolar": [
           {
            "marker": {
             "colorbar": {
              "outlinewidth": 0,
              "ticks": ""
             }
            },
            "type": "scatterpolar"
           }
          ],
          "scatterpolargl": [
           {
            "marker": {
             "colorbar": {
              "outlinewidth": 0,
              "ticks": ""
             }
            },
            "type": "scatterpolargl"
           }
          ],
          "scatterternary": [
           {
            "marker": {
             "colorbar": {
              "outlinewidth": 0,
              "ticks": ""
             }
            },
            "type": "scatterternary"
           }
          ],
          "surface": [
           {
            "colorbar": {
             "outlinewidth": 0,
             "ticks": ""
            },
            "colorscale": [
             [
              0,
              "#0d0887"
             ],
             [
              0.1111111111111111,
              "#46039f"
             ],
             [
              0.2222222222222222,
              "#7201a8"
             ],
             [
              0.3333333333333333,
              "#9c179e"
             ],
             [
              0.4444444444444444,
              "#bd3786"
             ],
             [
              0.5555555555555556,
              "#d8576b"
             ],
             [
              0.6666666666666666,
              "#ed7953"
             ],
             [
              0.7777777777777778,
              "#fb9f3a"
             ],
             [
              0.8888888888888888,
              "#fdca26"
             ],
             [
              1,
              "#f0f921"
             ]
            ],
            "type": "surface"
           }
          ],
          "table": [
           {
            "cells": {
             "fill": {
              "color": "#EBF0F8"
             },
             "line": {
              "color": "white"
             }
            },
            "header": {
             "fill": {
              "color": "#C8D4E3"
             },
             "line": {
              "color": "white"
             }
            },
            "type": "table"
           }
          ]
         },
         "layout": {
          "annotationdefaults": {
           "arrowcolor": "#2a3f5f",
           "arrowhead": 0,
           "arrowwidth": 1
          },
          "autotypenumbers": "strict",
          "coloraxis": {
           "colorbar": {
            "outlinewidth": 0,
            "ticks": ""
           }
          },
          "colorscale": {
           "diverging": [
            [
             0,
             "#8e0152"
            ],
            [
             0.1,
             "#c51b7d"
            ],
            [
             0.2,
             "#de77ae"
            ],
            [
             0.3,
             "#f1b6da"
            ],
            [
             0.4,
             "#fde0ef"
            ],
            [
             0.5,
             "#f7f7f7"
            ],
            [
             0.6,
             "#e6f5d0"
            ],
            [
             0.7,
             "#b8e186"
            ],
            [
             0.8,
             "#7fbc41"
            ],
            [
             0.9,
             "#4d9221"
            ],
            [
             1,
             "#276419"
            ]
           ],
           "sequential": [
            [
             0,
             "#0d0887"
            ],
            [
             0.1111111111111111,
             "#46039f"
            ],
            [
             0.2222222222222222,
             "#7201a8"
            ],
            [
             0.3333333333333333,
             "#9c179e"
            ],
            [
             0.4444444444444444,
             "#bd3786"
            ],
            [
             0.5555555555555556,
             "#d8576b"
            ],
            [
             0.6666666666666666,
             "#ed7953"
            ],
            [
             0.7777777777777778,
             "#fb9f3a"
            ],
            [
             0.8888888888888888,
             "#fdca26"
            ],
            [
             1,
             "#f0f921"
            ]
           ],
           "sequentialminus": [
            [
             0,
             "#0d0887"
            ],
            [
             0.1111111111111111,
             "#46039f"
            ],
            [
             0.2222222222222222,
             "#7201a8"
            ],
            [
             0.3333333333333333,
             "#9c179e"
            ],
            [
             0.4444444444444444,
             "#bd3786"
            ],
            [
             0.5555555555555556,
             "#d8576b"
            ],
            [
             0.6666666666666666,
             "#ed7953"
            ],
            [
             0.7777777777777778,
             "#fb9f3a"
            ],
            [
             0.8888888888888888,
             "#fdca26"
            ],
            [
             1,
             "#f0f921"
            ]
           ]
          },
          "colorway": [
           "#636efa",
           "#EF553B",
           "#00cc96",
           "#ab63fa",
           "#FFA15A",
           "#19d3f3",
           "#FF6692",
           "#B6E880",
           "#FF97FF",
           "#FECB52"
          ],
          "font": {
           "color": "#2a3f5f"
          },
          "geo": {
           "bgcolor": "white",
           "lakecolor": "white",
           "landcolor": "#E5ECF6",
           "showlakes": true,
           "showland": true,
           "subunitcolor": "white"
          },
          "hoverlabel": {
           "align": "left"
          },
          "hovermode": "closest",
          "mapbox": {
           "style": "light"
          },
          "paper_bgcolor": "white",
          "plot_bgcolor": "#E5ECF6",
          "polar": {
           "angularaxis": {
            "gridcolor": "white",
            "linecolor": "white",
            "ticks": ""
           },
           "bgcolor": "#E5ECF6",
           "radialaxis": {
            "gridcolor": "white",
            "linecolor": "white",
            "ticks": ""
           }
          },
          "scene": {
           "xaxis": {
            "backgroundcolor": "#E5ECF6",
            "gridcolor": "white",
            "gridwidth": 2,
            "linecolor": "white",
            "showbackground": true,
            "ticks": "",
            "zerolinecolor": "white"
           },
           "yaxis": {
            "backgroundcolor": "#E5ECF6",
            "gridcolor": "white",
            "gridwidth": 2,
            "linecolor": "white",
            "showbackground": true,
            "ticks": "",
            "zerolinecolor": "white"
           },
           "zaxis": {
            "backgroundcolor": "#E5ECF6",
            "gridcolor": "white",
            "gridwidth": 2,
            "linecolor": "white",
            "showbackground": true,
            "ticks": "",
            "zerolinecolor": "white"
           }
          },
          "shapedefaults": {
           "line": {
            "color": "#2a3f5f"
           }
          },
          "ternary": {
           "aaxis": {
            "gridcolor": "white",
            "linecolor": "white",
            "ticks": ""
           },
           "baxis": {
            "gridcolor": "white",
            "linecolor": "white",
            "ticks": ""
           },
           "bgcolor": "#E5ECF6",
           "caxis": {
            "gridcolor": "white",
            "linecolor": "white",
            "ticks": ""
           }
          },
          "title": {
           "x": 0.05
          },
          "xaxis": {
           "automargin": true,
           "gridcolor": "white",
           "linecolor": "white",
           "ticks": "",
           "title": {
            "standoff": 15
           },
           "zerolinecolor": "white",
           "zerolinewidth": 2
          },
          "yaxis": {
           "automargin": true,
           "gridcolor": "white",
           "linecolor": "white",
           "ticks": "",
           "title": {
            "standoff": 15
           },
           "zerolinecolor": "white",
           "zerolinewidth": 2
          }
         }
        },
        "width": 500,
        "xaxis": {
         "anchor": "y",
         "domain": [
          0,
          1
         ],
         "title": {
          "text": "BES Average Fold Change"
         }
        },
        "yaxis": {
         "anchor": "x",
         "domain": [
          0,
          1
         ],
         "title": {
          "text": "Main VSG Log2 Fold Change"
         }
        }
       }
      }
     },
     "metadata": {},
     "output_type": "display_data"
    }
   ],
   "source": [
    "from plotly.subplots import make_subplots\n",
    "import plotly.graph_objects as go\n",
    "import plotly.io as pio\n",
    "\n",
    "fig = make_subplots(\n",
    "    rows=1,\n",
    "    cols=1,\n",
    "    #subplot_titles=[\"BES vs Main VSG\"],\n",
    ")\n",
    "\n",
    "scatter = go.Scatter(\n",
    "    x=merge['BES'],\n",
    "    y=merge['main_vsg'],\n",
    "    mode='markers',\n",
    "    text=list(merge.index.values),\n",
    "    hoverinfo='text',\n",
    "    name='scatter',\n",
    "    showlegend=False,\n",
    "    # hovertemplate='%{text}'\n",
    ")\n",
    "fig.add_trace(scatter, row=1, col=1)\n",
    "\n",
    "fig.update_layout(\n",
    "    width=500,\n",
    "    height=500,\n",
    "    showlegend=False,\n",
    "    hovermode='closest',\n",
    "    xaxis_title=\"BES Average Fold Change\",\n",
    "    yaxis_title=\"Main VSG Log2 Fold Change\",\n",
    ")\n",
    "\n",
    "# Save as an exportable HTML file\n",
    "pio.write_html(\n",
    "    fig,\n",
    "    file=\"bes_vs_main_vsg.html\",   # change path/name if you like\n",
    "    include_plotlyjs=\"cdn\",\n",
    "    full_html=True,\n",
    "    auto_open=False,\n",
    ")\n",
    "fig"
   ]
  },
  {
   "cell_type": "code",
   "execution_count": 12,
   "id": "bf9eb324-983f-4e9f-a560-dddf18820c25",
   "metadata": {},
   "outputs": [
    {
     "data": {
      "application/vnd.plotly.v1+json": {
       "config": {
        "plotlyServerURL": "https://plot.ly"
       },
       "data": [
        {
         "hoverinfo": "text",
         "mode": "markers",
         "name": "scatter",
         "showlegend": false,
         "text": [
          "BDF2_1_KO48",
          "BDF3_1_KO24",
          "BET151_1_Drug12h",
          "BET151_1_Drug24h",
          "BET151_1_Drug3h",
          "BET151_1_Drug48h",
          "BET151_1_Drug6h",
          "BET151_1_Drug72h",
          "CAF1b_1_RNAi24",
          "CFB2_1_RNAi9",
          "DFO_1_DFO",
          "DFO_1_DFOFe",
          "DFO_1_Fe",
          "DRBD18_1_RNAi12",
          "H1_1_RNAi96",
          "H3H4_1_KOH3",
          "H3H4_1_KOH3J",
          "H3H4_1_KOH4",
          "H3H4_1_KOH4J",
          "H3H4_1_KOJ2",
          "H3H4_2_KO48",
          "H3H4_3_KO48",
          "H3_1_KOH3",
          "H3_1_KOH3J",
          "H3_1_KOJ",
          "IPMK_1_RNAi36",
          "IPMK_2_RNAi36",
          "MCMBP_1_KO24",
          "MCMBP_1_KO48",
          "PIP5Pase_1_KO",
          "PIP5Pase_2_D360A_N362A",
          "PNUTS_1_RNAi48",
          "RBP10_1_RNAi24",
          "RBP10_2_RNAi24",
          "RBP10_3_RNAi24",
          "RBP33_1_RNAi48",
          "RBP42_1_KO24",
          "RBP42_1_KO48",
          "RBP42_1_KO72",
          "RNaseH1_1_KO",
          "RNaseH2A_1_RNAi24",
          "RNaseH2A_2_RNAi36",
          "SET27_1_KO",
          "SET27_1_sKO",
          "SNF2PH_1_RNAi48",
          "TFR_1_RNAi24",
          "TbATR_1_RNAi24",
          "TbATR_2_RNAi36",
          "TbESB1_1_RNAi24",
          "TbESB1_2_KO48",
          "TbESB1_3_OE24",
          "TbHAT_1_RNAi48HAT1",
          "TbHAT_1_RNAi48HAT2",
          "TbPP1one_1_RNAi24",
          "TbPP1seven_1_RNAi24",
          "TbRAP1_1_2SD",
          "TbRAP1_1_5A",
          "TbRAP1_1_KO",
          "TbRAP1_2_dMyb",
          "TbSAP_1_RNAi72",
          "VEX1_1_Oe72",
          "VEX1_2_RNAi72",
          "VEX1_4_RNAi24",
          "VEX1_5_RNAi48",
          "VEX1_6_RNAi72",
          "VEX1and2_1_RNAi24",
          "VEX1and2_1_RNAi48",
          "VEX2_1_RNAi24",
          "VEX2_1_RNAi48",
          "ZC3H28_1_RNAi10",
          "ZC3H28_1_RNAi14",
          "ZC3H28_1_RNAi16",
          "ZC3H28_1_RNAi24",
          "ZC3H40_1_RNAi72",
          "ZC3H5_2_RNAi12",
          "ZC3H5_3_RNAi12",
          "ZC3H5_4_RNAi12",
          "ZC3H5_5_RNAi12"
         ],
         "type": "scatter",
         "x": {
          "bdata": "AAAAAAAA8D/OUk2QpGjwPwAAAAAAAPA/AAAAAAAA8D8AAAAAAADwPwAAAAAAAPA/AAAAAAAA8D9SWyP7XpzwP1lAJZt2xvA/8fLLvxDF7z8AAAAAAADwPwAAAAAAAPA/AAAAAAAA8D8AAAAAAADwPwAAAAAAAPA/AAAAAAAA8D8AAAAAAADwPwAAAAAAAPA/AAAAAAAA8D8AAAAAAADwP/FFr2j1yvA/rDTmZkeU8D8AAAAAAADwP7M60ie2FvA/AAAAAAAA8D/2cUySVQHwPwAAAAAAAPA/rAZFTo9b8D8BwFFRJs7yP9rkg2VVWDBAEv/MGcUREEBB5vWZ/9zwPwAAAAAAAPA/AAAAAAAA8D8AAAAAAADwP8Z7059qdwVAsZkPfs4D8D8x6oaoDTLwP78etbsh1vE/AAAAAAAA8D8AAAAAAADwP4b59JV2tPA/2HUVjfn+8D8AAAAAAADwPwAAAAAAAPA/2zLRJnoV8D/9r8pg3znwP/Ml2kbJ1/E/dXQNQjBD8D9aLxjs69TwPwAAAAAAAPA/AAAAAAAA8D+RJ4BBqAbwP7HbvCm8lhBAAAAAAAAA8D81qMq0DMkZQGC2ro4Zqw1AzMx7bb2aEUCSQyRrzcYhQIFE5aHqC/E/AvDjQVEr8T8AAAAAAADwPwAAAAAAAPA/AAAAAAAA8D8AAAAAAADwP/cRavQsOvA/7EPfwz6P8D+udIOva0vwP3ks08oQc/A/Nh7opxih7z8AAAAAAADwP0y1hRVsue8/TtBeLzeN7z8AAAAAAADwP1sQMZjPBPE/AAAAAAAA8D8AAAAAAADwPwAAAAAAAPA/",
          "dtype": "f8"
         },
         "xaxis": "x",
         "y": {
          "bdata": "gmaXC2nI17/ILHm0asXhv1ZDAUPFNpy/rLmsyg6z5r/onqjRoeXeP8FTvOcUnATALZKdJfwbuD8U8O37C8sIwPAUCLwxTt2/NJMiholO9r/Fm0pMuG6hP2BbPXtI4qS/0B34f5Cwqz+1+tNB6k/Uv8ZOXiDp7OC/tMDG9/7s1L9+MyHNKZy+v8bVT0KP0+W/eTq2gWZ55L+kG51AaGnvv66Exnfbh/W/G7PjyNVQAMDsDBHAvyaxv640B3pHKbc/z/U30q1IgT+AJT+gsf3Rv4qEa2SDNMa/NYyQ86E6x794rlDWlZDmv/TN0ezTheC/a3xV07Gf9b9+beQtOya8v/bJODLGeOW/efxjCdgD5r+bzpMD8CLlv1uRTpnXvvG/rqoac6ukxj/o/f1GRGCSv2V/dnihNsy/Kr5xaWlFwr8BrvtRXrjav6E8Yzk0BPi/c9QoLTYzyD+v8O5IMyW6vyRKBiiXmI6/i0hCqckmsL8JvmwbBpLMv3pWqWEsqeW/h5u2wCzG/b/E/kc36RYEwEhEdDmj1M+/Hn/iJQEi0L+Om/QTyonKv84G8b4I9sG/0r2leA0e5b8H7m2fvPH1vwzy9wpTGgDA0njDnBtZ3b+8S7LV14znv+fT4A0h9IO/+w3z9feZyr+kQd3YnW25P5FDFJh96Z2/AR1/Hd2Gv7+riMln+/+Gv7F+pGAWst2/FIGeA66P7L+B0KX+T3jjv6vVya5HcOW/QUJut9cRxL/X8AITanfuv3iwqLt0Sem/XFUJ36nb8b+NWxfDQL3Qv8p1nzJeV8K/0CTg9pjKor99yUaBHxLkP35EAF8quMC/",
          "dtype": "f8"
         },
         "yaxis": "y"
        }
       ],
       "layout": {
        "height": 500,
        "hovermode": "closest",
        "showlegend": false,
        "template": {
         "data": {
          "bar": [
           {
            "error_x": {
             "color": "#2a3f5f"
            },
            "error_y": {
             "color": "#2a3f5f"
            },
            "marker": {
             "line": {
              "color": "#E5ECF6",
              "width": 0.5
             },
             "pattern": {
              "fillmode": "overlay",
              "size": 10,
              "solidity": 0.2
             }
            },
            "type": "bar"
           }
          ],
          "barpolar": [
           {
            "marker": {
             "line": {
              "color": "#E5ECF6",
              "width": 0.5
             },
             "pattern": {
              "fillmode": "overlay",
              "size": 10,
              "solidity": 0.2
             }
            },
            "type": "barpolar"
           }
          ],
          "carpet": [
           {
            "aaxis": {
             "endlinecolor": "#2a3f5f",
             "gridcolor": "white",
             "linecolor": "white",
             "minorgridcolor": "white",
             "startlinecolor": "#2a3f5f"
            },
            "baxis": {
             "endlinecolor": "#2a3f5f",
             "gridcolor": "white",
             "linecolor": "white",
             "minorgridcolor": "white",
             "startlinecolor": "#2a3f5f"
            },
            "type": "carpet"
           }
          ],
          "choropleth": [
           {
            "colorbar": {
             "outlinewidth": 0,
             "ticks": ""
            },
            "type": "choropleth"
           }
          ],
          "contour": [
           {
            "colorbar": {
             "outlinewidth": 0,
             "ticks": ""
            },
            "colorscale": [
             [
              0,
              "#0d0887"
             ],
             [
              0.1111111111111111,
              "#46039f"
             ],
             [
              0.2222222222222222,
              "#7201a8"
             ],
             [
              0.3333333333333333,
              "#9c179e"
             ],
             [
              0.4444444444444444,
              "#bd3786"
             ],
             [
              0.5555555555555556,
              "#d8576b"
             ],
             [
              0.6666666666666666,
              "#ed7953"
             ],
             [
              0.7777777777777778,
              "#fb9f3a"
             ],
             [
              0.8888888888888888,
              "#fdca26"
             ],
             [
              1,
              "#f0f921"
             ]
            ],
            "type": "contour"
           }
          ],
          "contourcarpet": [
           {
            "colorbar": {
             "outlinewidth": 0,
             "ticks": ""
            },
            "type": "contourcarpet"
           }
          ],
          "heatmap": [
           {
            "colorbar": {
             "outlinewidth": 0,
             "ticks": ""
            },
            "colorscale": [
             [
              0,
              "#0d0887"
             ],
             [
              0.1111111111111111,
              "#46039f"
             ],
             [
              0.2222222222222222,
              "#7201a8"
             ],
             [
              0.3333333333333333,
              "#9c179e"
             ],
             [
              0.4444444444444444,
              "#bd3786"
             ],
             [
              0.5555555555555556,
              "#d8576b"
             ],
             [
              0.6666666666666666,
              "#ed7953"
             ],
             [
              0.7777777777777778,
              "#fb9f3a"
             ],
             [
              0.8888888888888888,
              "#fdca26"
             ],
             [
              1,
              "#f0f921"
             ]
            ],
            "type": "heatmap"
           }
          ],
          "histogram": [
           {
            "marker": {
             "pattern": {
              "fillmode": "overlay",
              "size": 10,
              "solidity": 0.2
             }
            },
            "type": "histogram"
           }
          ],
          "histogram2d": [
           {
            "colorbar": {
             "outlinewidth": 0,
             "ticks": ""
            },
            "colorscale": [
             [
              0,
              "#0d0887"
             ],
             [
              0.1111111111111111,
              "#46039f"
             ],
             [
              0.2222222222222222,
              "#7201a8"
             ],
             [
              0.3333333333333333,
              "#9c179e"
             ],
             [
              0.4444444444444444,
              "#bd3786"
             ],
             [
              0.5555555555555556,
              "#d8576b"
             ],
             [
              0.6666666666666666,
              "#ed7953"
             ],
             [
              0.7777777777777778,
              "#fb9f3a"
             ],
             [
              0.8888888888888888,
              "#fdca26"
             ],
             [
              1,
              "#f0f921"
             ]
            ],
            "type": "histogram2d"
           }
          ],
          "histogram2dcontour": [
           {
            "colorbar": {
             "outlinewidth": 0,
             "ticks": ""
            },
            "colorscale": [
             [
              0,
              "#0d0887"
             ],
             [
              0.1111111111111111,
              "#46039f"
             ],
             [
              0.2222222222222222,
              "#7201a8"
             ],
             [
              0.3333333333333333,
              "#9c179e"
             ],
             [
              0.4444444444444444,
              "#bd3786"
             ],
             [
              0.5555555555555556,
              "#d8576b"
             ],
             [
              0.6666666666666666,
              "#ed7953"
             ],
             [
              0.7777777777777778,
              "#fb9f3a"
             ],
             [
              0.8888888888888888,
              "#fdca26"
             ],
             [
              1,
              "#f0f921"
             ]
            ],
            "type": "histogram2dcontour"
           }
          ],
          "mesh3d": [
           {
            "colorbar": {
             "outlinewidth": 0,
             "ticks": ""
            },
            "type": "mesh3d"
           }
          ],
          "parcoords": [
           {
            "line": {
             "colorbar": {
              "outlinewidth": 0,
              "ticks": ""
             }
            },
            "type": "parcoords"
           }
          ],
          "pie": [
           {
            "automargin": true,
            "type": "pie"
           }
          ],
          "scatter": [
           {
            "fillpattern": {
             "fillmode": "overlay",
             "size": 10,
             "solidity": 0.2
            },
            "type": "scatter"
           }
          ],
          "scatter3d": [
           {
            "line": {
             "colorbar": {
              "outlinewidth": 0,
              "ticks": ""
             }
            },
            "marker": {
             "colorbar": {
              "outlinewidth": 0,
              "ticks": ""
             }
            },
            "type": "scatter3d"
           }
          ],
          "scattercarpet": [
           {
            "marker": {
             "colorbar": {
              "outlinewidth": 0,
              "ticks": ""
             }
            },
            "type": "scattercarpet"
           }
          ],
          "scattergeo": [
           {
            "marker": {
             "colorbar": {
              "outlinewidth": 0,
              "ticks": ""
             }
            },
            "type": "scattergeo"
           }
          ],
          "scattergl": [
           {
            "marker": {
             "colorbar": {
              "outlinewidth": 0,
              "ticks": ""
             }
            },
            "type": "scattergl"
           }
          ],
          "scattermap": [
           {
            "marker": {
             "colorbar": {
              "outlinewidth": 0,
              "ticks": ""
             }
            },
            "type": "scattermap"
           }
          ],
          "scattermapbox": [
           {
            "marker": {
             "colorbar": {
              "outlinewidth": 0,
              "ticks": ""
             }
            },
            "type": "scattermapbox"
           }
          ],
          "scatterpolar": [
           {
            "marker": {
             "colorbar": {
              "outlinewidth": 0,
              "ticks": ""
             }
            },
            "type": "scatterpolar"
           }
          ],
          "scatterpolargl": [
           {
            "marker": {
             "colorbar": {
              "outlinewidth": 0,
              "ticks": ""
             }
            },
            "type": "scatterpolargl"
           }
          ],
          "scatterternary": [
           {
            "marker": {
             "colorbar": {
              "outlinewidth": 0,
              "ticks": ""
             }
            },
            "type": "scatterternary"
           }
          ],
          "surface": [
           {
            "colorbar": {
             "outlinewidth": 0,
             "ticks": ""
            },
            "colorscale": [
             [
              0,
              "#0d0887"
             ],
             [
              0.1111111111111111,
              "#46039f"
             ],
             [
              0.2222222222222222,
              "#7201a8"
             ],
             [
              0.3333333333333333,
              "#9c179e"
             ],
             [
              0.4444444444444444,
              "#bd3786"
             ],
             [
              0.5555555555555556,
              "#d8576b"
             ],
             [
              0.6666666666666666,
              "#ed7953"
             ],
             [
              0.7777777777777778,
              "#fb9f3a"
             ],
             [
              0.8888888888888888,
              "#fdca26"
             ],
             [
              1,
              "#f0f921"
             ]
            ],
            "type": "surface"
           }
          ],
          "table": [
           {
            "cells": {
             "fill": {
              "color": "#EBF0F8"
             },
             "line": {
              "color": "white"
             }
            },
            "header": {
             "fill": {
              "color": "#C8D4E3"
             },
             "line": {
              "color": "white"
             }
            },
            "type": "table"
           }
          ]
         },
         "layout": {
          "annotationdefaults": {
           "arrowcolor": "#2a3f5f",
           "arrowhead": 0,
           "arrowwidth": 1
          },
          "autotypenumbers": "strict",
          "coloraxis": {
           "colorbar": {
            "outlinewidth": 0,
            "ticks": ""
           }
          },
          "colorscale": {
           "diverging": [
            [
             0,
             "#8e0152"
            ],
            [
             0.1,
             "#c51b7d"
            ],
            [
             0.2,
             "#de77ae"
            ],
            [
             0.3,
             "#f1b6da"
            ],
            [
             0.4,
             "#fde0ef"
            ],
            [
             0.5,
             "#f7f7f7"
            ],
            [
             0.6,
             "#e6f5d0"
            ],
            [
             0.7,
             "#b8e186"
            ],
            [
             0.8,
             "#7fbc41"
            ],
            [
             0.9,
             "#4d9221"
            ],
            [
             1,
             "#276419"
            ]
           ],
           "sequential": [
            [
             0,
             "#0d0887"
            ],
            [
             0.1111111111111111,
             "#46039f"
            ],
            [
             0.2222222222222222,
             "#7201a8"
            ],
            [
             0.3333333333333333,
             "#9c179e"
            ],
            [
             0.4444444444444444,
             "#bd3786"
            ],
            [
             0.5555555555555556,
             "#d8576b"
            ],
            [
             0.6666666666666666,
             "#ed7953"
            ],
            [
             0.7777777777777778,
             "#fb9f3a"
            ],
            [
             0.8888888888888888,
             "#fdca26"
            ],
            [
             1,
             "#f0f921"
            ]
           ],
           "sequentialminus": [
            [
             0,
             "#0d0887"
            ],
            [
             0.1111111111111111,
             "#46039f"
            ],
            [
             0.2222222222222222,
             "#7201a8"
            ],
            [
             0.3333333333333333,
             "#9c179e"
            ],
            [
             0.4444444444444444,
             "#bd3786"
            ],
            [
             0.5555555555555556,
             "#d8576b"
            ],
            [
             0.6666666666666666,
             "#ed7953"
            ],
            [
             0.7777777777777778,
             "#fb9f3a"
            ],
            [
             0.8888888888888888,
             "#fdca26"
            ],
            [
             1,
             "#f0f921"
            ]
           ]
          },
          "colorway": [
           "#636efa",
           "#EF553B",
           "#00cc96",
           "#ab63fa",
           "#FFA15A",
           "#19d3f3",
           "#FF6692",
           "#B6E880",
           "#FF97FF",
           "#FECB52"
          ],
          "font": {
           "color": "#2a3f5f"
          },
          "geo": {
           "bgcolor": "white",
           "lakecolor": "white",
           "landcolor": "#E5ECF6",
           "showlakes": true,
           "showland": true,
           "subunitcolor": "white"
          },
          "hoverlabel": {
           "align": "left"
          },
          "hovermode": "closest",
          "mapbox": {
           "style": "light"
          },
          "paper_bgcolor": "white",
          "plot_bgcolor": "#E5ECF6",
          "polar": {
           "angularaxis": {
            "gridcolor": "white",
            "linecolor": "white",
            "ticks": ""
           },
           "bgcolor": "#E5ECF6",
           "radialaxis": {
            "gridcolor": "white",
            "linecolor": "white",
            "ticks": ""
           }
          },
          "scene": {
           "xaxis": {
            "backgroundcolor": "#E5ECF6",
            "gridcolor": "white",
            "gridwidth": 2,
            "linecolor": "white",
            "showbackground": true,
            "ticks": "",
            "zerolinecolor": "white"
           },
           "yaxis": {
            "backgroundcolor": "#E5ECF6",
            "gridcolor": "white",
            "gridwidth": 2,
            "linecolor": "white",
            "showbackground": true,
            "ticks": "",
            "zerolinecolor": "white"
           },
           "zaxis": {
            "backgroundcolor": "#E5ECF6",
            "gridcolor": "white",
            "gridwidth": 2,
            "linecolor": "white",
            "showbackground": true,
            "ticks": "",
            "zerolinecolor": "white"
           }
          },
          "shapedefaults": {
           "line": {
            "color": "#2a3f5f"
           }
          },
          "ternary": {
           "aaxis": {
            "gridcolor": "white",
            "linecolor": "white",
            "ticks": ""
           },
           "baxis": {
            "gridcolor": "white",
            "linecolor": "white",
            "ticks": ""
           },
           "bgcolor": "#E5ECF6",
           "caxis": {
            "gridcolor": "white",
            "linecolor": "white",
            "ticks": ""
           }
          },
          "title": {
           "x": 0.05
          },
          "xaxis": {
           "automargin": true,
           "gridcolor": "white",
           "linecolor": "white",
           "ticks": "",
           "title": {
            "standoff": 15
           },
           "zerolinecolor": "white",
           "zerolinewidth": 2
          },
          "yaxis": {
           "automargin": true,
           "gridcolor": "white",
           "linecolor": "white",
           "ticks": "",
           "title": {
            "standoff": 15
           },
           "zerolinecolor": "white",
           "zerolinewidth": 2
          }
         }
        },
        "width": 500,
        "xaxis": {
         "anchor": "y",
         "domain": [
          0,
          1
         ],
         "title": {
          "text": "Array Average Fold Change"
         }
        },
        "yaxis": {
         "anchor": "x",
         "domain": [
          0,
          1
         ],
         "title": {
          "text": "Main VSG Log2 Fold Change"
         }
        }
       }
      }
     },
     "metadata": {},
     "output_type": "display_data"
    }
   ],
   "source": [
    "from plotly.subplots import make_subplots\n",
    "import plotly.graph_objects as go\n",
    "import plotly.io as pio\n",
    "\n",
    "fig = make_subplots(\n",
    "    rows=1,\n",
    "    cols=1,\n",
    "    #subplot_titles=[\"array vs Main VSG\"],\n",
    ")\n",
    "\n",
    "scatter = go.Scatter(\n",
    "    x=merge['array'],\n",
    "    y=merge['main_vsg'],\n",
    "    mode='markers',\n",
    "    text=list(merge.index.values),\n",
    "    hoverinfo='text',\n",
    "    name='scatter',\n",
    "    showlegend=False,\n",
    "    # hovertemplate='%{text}'\n",
    ")\n",
    "fig.add_trace(scatter, row=1, col=1)\n",
    "\n",
    "fig.update_layout(\n",
    "    width=500,\n",
    "    height=500,\n",
    "    showlegend=False,\n",
    "    hovermode='closest',\n",
    "    xaxis_title=\"Array Average Fold Change\",\n",
    "    yaxis_title=\"Main VSG Log2 Fold Change\",\n",
    ")\n",
    "\n",
    "# Save as an exportable HTML file\n",
    "pio.write_html(\n",
    "    fig,\n",
    "    file=\"array_vs_main_vsg.html\",   # change path/name if you like\n",
    "    include_plotlyjs=\"cdn\",\n",
    "    full_html=True,\n",
    "    auto_open=False,\n",
    ")\n",
    "fig"
   ]
  },
  {
   "cell_type": "code",
   "execution_count": 13,
   "id": "5edb7731-f297-402b-979c-c9db77f20785",
   "metadata": {},
   "outputs": [
    {
     "data": {
      "application/vnd.plotly.v1+json": {
       "config": {
        "plotlyServerURL": "https://plot.ly"
       },
       "data": [
        {
         "hoverinfo": "text",
         "mode": "markers",
         "name": "scatter",
         "showlegend": false,
         "text": [
          "BDF2_1_KO48",
          "BDF3_1_KO24",
          "BET151_1_Drug12h",
          "BET151_1_Drug24h",
          "BET151_1_Drug3h",
          "BET151_1_Drug48h",
          "BET151_1_Drug6h",
          "BET151_1_Drug72h",
          "CAF1b_1_RNAi24",
          "CFB2_1_RNAi9",
          "DFO_1_DFO",
          "DFO_1_DFOFe",
          "DFO_1_Fe",
          "DRBD18_1_RNAi12",
          "H1_1_RNAi96",
          "H3H4_1_KOH3",
          "H3H4_1_KOH3J",
          "H3H4_1_KOH4",
          "H3H4_1_KOH4J",
          "H3H4_1_KOJ2",
          "H3H4_2_KO48",
          "H3H4_3_KO48",
          "H3_1_KOH3",
          "H3_1_KOH3J",
          "H3_1_KOJ",
          "IPMK_1_RNAi36",
          "IPMK_2_RNAi36",
          "MCMBP_1_KO24",
          "MCMBP_1_KO48",
          "PIP5Pase_1_KO",
          "PIP5Pase_2_D360A_N362A",
          "PNUTS_1_RNAi48",
          "RBP10_1_RNAi24",
          "RBP10_2_RNAi24",
          "RBP10_3_RNAi24",
          "RBP33_1_RNAi48",
          "RBP42_1_KO24",
          "RBP42_1_KO48",
          "RBP42_1_KO72",
          "RNaseH1_1_KO",
          "RNaseH2A_1_RNAi24",
          "RNaseH2A_2_RNAi36",
          "SET27_1_KO",
          "SET27_1_sKO",
          "SNF2PH_1_RNAi48",
          "TFR_1_RNAi24",
          "TbATR_1_RNAi24",
          "TbATR_2_RNAi36",
          "TbESB1_1_RNAi24",
          "TbESB1_2_KO48",
          "TbESB1_3_OE24",
          "TbHAT_1_RNAi48HAT1",
          "TbHAT_1_RNAi48HAT2",
          "TbPP1one_1_RNAi24",
          "TbPP1seven_1_RNAi24",
          "TbRAP1_1_2SD",
          "TbRAP1_1_5A",
          "TbRAP1_1_KO",
          "TbRAP1_2_dMyb",
          "TbSAP_1_RNAi72",
          "VEX1_1_Oe72",
          "VEX1_2_RNAi72",
          "VEX1_4_RNAi24",
          "VEX1_5_RNAi48",
          "VEX1_6_RNAi72",
          "VEX1and2_1_RNAi24",
          "VEX1and2_1_RNAi48",
          "VEX2_1_RNAi24",
          "VEX2_1_RNAi48",
          "ZC3H28_1_RNAi10",
          "ZC3H28_1_RNAi14",
          "ZC3H28_1_RNAi16",
          "ZC3H28_1_RNAi24",
          "ZC3H40_1_RNAi72",
          "ZC3H5_2_RNAi12",
          "ZC3H5_3_RNAi12",
          "ZC3H5_4_RNAi12",
          "ZC3H5_5_RNAi12"
         ],
         "type": "scatter",
         "x": {
          "bdata": "AAAAAAAA8D/OUk2QpGjwPwAAAAAAAPA/AAAAAAAA8D8AAAAAAADwPwAAAAAAAPA/AAAAAAAA8D8AAAAAAADwP5UB+MVAhvA/E0wAJWHI7z8AAAAAAADwPwAAAAAAAPA/AAAAAAAA8D8AAAAAAADwPwAAAAAAAPA/YEXlO9JD8D+KxBF2cJjxPwAAAAAAAPA/AAAAAAAA8D8AAAAAAADwP28luks/WPI/gAaNBLvq8T/32j5mAT7wP5PmVrKkqPA/AAAAAAAA8D8AAAAAAADwPwAAAAAAAPA/OuKgV7kI8D8UeIpfg/LxP4ySLZMPghJAENHyXCD/AUAht2o2BiPxPwAAAAAAAPA/AAAAAAAA8D8AAAAAAADwP1nXVIjQTfQ//78GdA4H8D+ieu2GKxXwP4AmokBYD/E/AAAAAAAA8D8AAAAAAADwP3lXGRqkCvE/YF6/PVBf8D8AAAAAAADwPwAAAAAAAPA/+Fka+D8B8D+8yfTN1EXwP2TwTixUH/I/AjmhZiwv8D8ockjE2FjwP5Fy2Obc9u8/0p6YUT/B7j/z3KHcAxLvPy0BSIdwDgJAAZvXpKWz7z/j9fzf8DUFQKUjt+5czPk/DSaNNa8wAUASL+/7zMsMQJQTPL80CfE/1oQ4OweW8D8bfpHKSWXwPwAAAAAAAPA/AAAAAAAA8D8AAAAAAADwPwcJ87/Bb/A/A1WetCDR8D/8EWwgCEjwP9aBBmBGnPA/bE1YnmSl7z8YZOBnPXPwP2jVT3MgDvA/t6nnHE1h7z/pye6XhwTwP/9B8BzXDfE/AAAAAAAA8D8AAAAAAADwPwAAAAAAAPA/",
          "dtype": "f8"
         },
         "xaxis": "x",
         "y": {
          "bdata": "gmaXC2nI17/ILHm0asXhv1ZDAUPFNpy/rLmsyg6z5r/onqjRoeXeP8FTvOcUnATALZKdJfwbuD8U8O37C8sIwPAUCLwxTt2/NJMiholO9r/Fm0pMuG6hP2BbPXtI4qS/0B34f5Cwqz+1+tNB6k/Uv8ZOXiDp7OC/tMDG9/7s1L9+MyHNKZy+v8bVT0KP0+W/eTq2gWZ55L+kG51AaGnvv66Exnfbh/W/G7PjyNVQAMDsDBHAvyaxv640B3pHKbc/z/U30q1IgT+AJT+gsf3Rv4qEa2SDNMa/NYyQ86E6x794rlDWlZDmv/TN0ezTheC/a3xV07Gf9b9+beQtOya8v/bJODLGeOW/efxjCdgD5r+bzpMD8CLlv1uRTpnXvvG/rqoac6ukxj/o/f1GRGCSv2V/dnihNsy/Kr5xaWlFwr8BrvtRXrjav6E8Yzk0BPi/c9QoLTYzyD+v8O5IMyW6vyRKBiiXmI6/i0hCqckmsL8JvmwbBpLMv3pWqWEsqeW/h5u2wCzG/b/E/kc36RYEwEhEdDmj1M+/Hn/iJQEi0L+Om/QTyonKv84G8b4I9sG/0r2leA0e5b8H7m2fvPH1vwzy9wpTGgDA0njDnBtZ3b+8S7LV14znv+fT4A0h9IO/+w3z9feZyr+kQd3YnW25P5FDFJh96Z2/AR1/Hd2Gv7+riMln+/+Gv7F+pGAWst2/FIGeA66P7L+B0KX+T3jjv6vVya5HcOW/QUJut9cRxL/X8AITanfuv3iwqLt0Sem/XFUJ36nb8b+NWxfDQL3Qv8p1nzJeV8K/0CTg9pjKor99yUaBHxLkP35EAF8quMC/",
          "dtype": "f8"
         },
         "yaxis": "y"
        }
       ],
       "layout": {
        "height": 500,
        "hovermode": "closest",
        "showlegend": false,
        "template": {
         "data": {
          "bar": [
           {
            "error_x": {
             "color": "#2a3f5f"
            },
            "error_y": {
             "color": "#2a3f5f"
            },
            "marker": {
             "line": {
              "color": "#E5ECF6",
              "width": 0.5
             },
             "pattern": {
              "fillmode": "overlay",
              "size": 10,
              "solidity": 0.2
             }
            },
            "type": "bar"
           }
          ],
          "barpolar": [
           {
            "marker": {
             "line": {
              "color": "#E5ECF6",
              "width": 0.5
             },
             "pattern": {
              "fillmode": "overlay",
              "size": 10,
              "solidity": 0.2
             }
            },
            "type": "barpolar"
           }
          ],
          "carpet": [
           {
            "aaxis": {
             "endlinecolor": "#2a3f5f",
             "gridcolor": "white",
             "linecolor": "white",
             "minorgridcolor": "white",
             "startlinecolor": "#2a3f5f"
            },
            "baxis": {
             "endlinecolor": "#2a3f5f",
             "gridcolor": "white",
             "linecolor": "white",
             "minorgridcolor": "white",
             "startlinecolor": "#2a3f5f"
            },
            "type": "carpet"
           }
          ],
          "choropleth": [
           {
            "colorbar": {
             "outlinewidth": 0,
             "ticks": ""
            },
            "type": "choropleth"
           }
          ],
          "contour": [
           {
            "colorbar": {
             "outlinewidth": 0,
             "ticks": ""
            },
            "colorscale": [
             [
              0,
              "#0d0887"
             ],
             [
              0.1111111111111111,
              "#46039f"
             ],
             [
              0.2222222222222222,
              "#7201a8"
             ],
             [
              0.3333333333333333,
              "#9c179e"
             ],
             [
              0.4444444444444444,
              "#bd3786"
             ],
             [
              0.5555555555555556,
              "#d8576b"
             ],
             [
              0.6666666666666666,
              "#ed7953"
             ],
             [
              0.7777777777777778,
              "#fb9f3a"
             ],
             [
              0.8888888888888888,
              "#fdca26"
             ],
             [
              1,
              "#f0f921"
             ]
            ],
            "type": "contour"
           }
          ],
          "contourcarpet": [
           {
            "colorbar": {
             "outlinewidth": 0,
             "ticks": ""
            },
            "type": "contourcarpet"
           }
          ],
          "heatmap": [
           {
            "colorbar": {
             "outlinewidth": 0,
             "ticks": ""
            },
            "colorscale": [
             [
              0,
              "#0d0887"
             ],
             [
              0.1111111111111111,
              "#46039f"
             ],
             [
              0.2222222222222222,
              "#7201a8"
             ],
             [
              0.3333333333333333,
              "#9c179e"
             ],
             [
              0.4444444444444444,
              "#bd3786"
             ],
             [
              0.5555555555555556,
              "#d8576b"
             ],
             [
              0.6666666666666666,
              "#ed7953"
             ],
             [
              0.7777777777777778,
              "#fb9f3a"
             ],
             [
              0.8888888888888888,
              "#fdca26"
             ],
             [
              1,
              "#f0f921"
             ]
            ],
            "type": "heatmap"
           }
          ],
          "histogram": [
           {
            "marker": {
             "pattern": {
              "fillmode": "overlay",
              "size": 10,
              "solidity": 0.2
             }
            },
            "type": "histogram"
           }
          ],
          "histogram2d": [
           {
            "colorbar": {
             "outlinewidth": 0,
             "ticks": ""
            },
            "colorscale": [
             [
              0,
              "#0d0887"
             ],
             [
              0.1111111111111111,
              "#46039f"
             ],
             [
              0.2222222222222222,
              "#7201a8"
             ],
             [
              0.3333333333333333,
              "#9c179e"
             ],
             [
              0.4444444444444444,
              "#bd3786"
             ],
             [
              0.5555555555555556,
              "#d8576b"
             ],
             [
              0.6666666666666666,
              "#ed7953"
             ],
             [
              0.7777777777777778,
              "#fb9f3a"
             ],
             [
              0.8888888888888888,
              "#fdca26"
             ],
             [
              1,
              "#f0f921"
             ]
            ],
            "type": "histogram2d"
           }
          ],
          "histogram2dcontour": [
           {
            "colorbar": {
             "outlinewidth": 0,
             "ticks": ""
            },
            "colorscale": [
             [
              0,
              "#0d0887"
             ],
             [
              0.1111111111111111,
              "#46039f"
             ],
             [
              0.2222222222222222,
              "#7201a8"
             ],
             [
              0.3333333333333333,
              "#9c179e"
             ],
             [
              0.4444444444444444,
              "#bd3786"
             ],
             [
              0.5555555555555556,
              "#d8576b"
             ],
             [
              0.6666666666666666,
              "#ed7953"
             ],
             [
              0.7777777777777778,
              "#fb9f3a"
             ],
             [
              0.8888888888888888,
              "#fdca26"
             ],
             [
              1,
              "#f0f921"
             ]
            ],
            "type": "histogram2dcontour"
           }
          ],
          "mesh3d": [
           {
            "colorbar": {
             "outlinewidth": 0,
             "ticks": ""
            },
            "type": "mesh3d"
           }
          ],
          "parcoords": [
           {
            "line": {
             "colorbar": {
              "outlinewidth": 0,
              "ticks": ""
             }
            },
            "type": "parcoords"
           }
          ],
          "pie": [
           {
            "automargin": true,
            "type": "pie"
           }
          ],
          "scatter": [
           {
            "fillpattern": {
             "fillmode": "overlay",
             "size": 10,
             "solidity": 0.2
            },
            "type": "scatter"
           }
          ],
          "scatter3d": [
           {
            "line": {
             "colorbar": {
              "outlinewidth": 0,
              "ticks": ""
             }
            },
            "marker": {
             "colorbar": {
              "outlinewidth": 0,
              "ticks": ""
             }
            },
            "type": "scatter3d"
           }
          ],
          "scattercarpet": [
           {
            "marker": {
             "colorbar": {
              "outlinewidth": 0,
              "ticks": ""
             }
            },
            "type": "scattercarpet"
           }
          ],
          "scattergeo": [
           {
            "marker": {
             "colorbar": {
              "outlinewidth": 0,
              "ticks": ""
             }
            },
            "type": "scattergeo"
           }
          ],
          "scattergl": [
           {
            "marker": {
             "colorbar": {
              "outlinewidth": 0,
              "ticks": ""
             }
            },
            "type": "scattergl"
           }
          ],
          "scattermap": [
           {
            "marker": {
             "colorbar": {
              "outlinewidth": 0,
              "ticks": ""
             }
            },
            "type": "scattermap"
           }
          ],
          "scattermapbox": [
           {
            "marker": {
             "colorbar": {
              "outlinewidth": 0,
              "ticks": ""
             }
            },
            "type": "scattermapbox"
           }
          ],
          "scatterpolar": [
           {
            "marker": {
             "colorbar": {
              "outlinewidth": 0,
              "ticks": ""
             }
            },
            "type": "scatterpolar"
           }
          ],
          "scatterpolargl": [
           {
            "marker": {
             "colorbar": {
              "outlinewidth": 0,
              "ticks": ""
             }
            },
            "type": "scatterpolargl"
           }
          ],
          "scatterternary": [
           {
            "marker": {
             "colorbar": {
              "outlinewidth": 0,
              "ticks": ""
             }
            },
            "type": "scatterternary"
           }
          ],
          "surface": [
           {
            "colorbar": {
             "outlinewidth": 0,
             "ticks": ""
            },
            "colorscale": [
             [
              0,
              "#0d0887"
             ],
             [
              0.1111111111111111,
              "#46039f"
             ],
             [
              0.2222222222222222,
              "#7201a8"
             ],
             [
              0.3333333333333333,
              "#9c179e"
             ],
             [
              0.4444444444444444,
              "#bd3786"
             ],
             [
              0.5555555555555556,
              "#d8576b"
             ],
             [
              0.6666666666666666,
              "#ed7953"
             ],
             [
              0.7777777777777778,
              "#fb9f3a"
             ],
             [
              0.8888888888888888,
              "#fdca26"
             ],
             [
              1,
              "#f0f921"
             ]
            ],
            "type": "surface"
           }
          ],
          "table": [
           {
            "cells": {
             "fill": {
              "color": "#EBF0F8"
             },
             "line": {
              "color": "white"
             }
            },
            "header": {
             "fill": {
              "color": "#C8D4E3"
             },
             "line": {
              "color": "white"
             }
            },
            "type": "table"
           }
          ]
         },
         "layout": {
          "annotationdefaults": {
           "arrowcolor": "#2a3f5f",
           "arrowhead": 0,
           "arrowwidth": 1
          },
          "autotypenumbers": "strict",
          "coloraxis": {
           "colorbar": {
            "outlinewidth": 0,
            "ticks": ""
           }
          },
          "colorscale": {
           "diverging": [
            [
             0,
             "#8e0152"
            ],
            [
             0.1,
             "#c51b7d"
            ],
            [
             0.2,
             "#de77ae"
            ],
            [
             0.3,
             "#f1b6da"
            ],
            [
             0.4,
             "#fde0ef"
            ],
            [
             0.5,
             "#f7f7f7"
            ],
            [
             0.6,
             "#e6f5d0"
            ],
            [
             0.7,
             "#b8e186"
            ],
            [
             0.8,
             "#7fbc41"
            ],
            [
             0.9,
             "#4d9221"
            ],
            [
             1,
             "#276419"
            ]
           ],
           "sequential": [
            [
             0,
             "#0d0887"
            ],
            [
             0.1111111111111111,
             "#46039f"
            ],
            [
             0.2222222222222222,
             "#7201a8"
            ],
            [
             0.3333333333333333,
             "#9c179e"
            ],
            [
             0.4444444444444444,
             "#bd3786"
            ],
            [
             0.5555555555555556,
             "#d8576b"
            ],
            [
             0.6666666666666666,
             "#ed7953"
            ],
            [
             0.7777777777777778,
             "#fb9f3a"
            ],
            [
             0.8888888888888888,
             "#fdca26"
            ],
            [
             1,
             "#f0f921"
            ]
           ],
           "sequentialminus": [
            [
             0,
             "#0d0887"
            ],
            [
             0.1111111111111111,
             "#46039f"
            ],
            [
             0.2222222222222222,
             "#7201a8"
            ],
            [
             0.3333333333333333,
             "#9c179e"
            ],
            [
             0.4444444444444444,
             "#bd3786"
            ],
            [
             0.5555555555555556,
             "#d8576b"
            ],
            [
             0.6666666666666666,
             "#ed7953"
            ],
            [
             0.7777777777777778,
             "#fb9f3a"
            ],
            [
             0.8888888888888888,
             "#fdca26"
            ],
            [
             1,
             "#f0f921"
            ]
           ]
          },
          "colorway": [
           "#636efa",
           "#EF553B",
           "#00cc96",
           "#ab63fa",
           "#FFA15A",
           "#19d3f3",
           "#FF6692",
           "#B6E880",
           "#FF97FF",
           "#FECB52"
          ],
          "font": {
           "color": "#2a3f5f"
          },
          "geo": {
           "bgcolor": "white",
           "lakecolor": "white",
           "landcolor": "#E5ECF6",
           "showlakes": true,
           "showland": true,
           "subunitcolor": "white"
          },
          "hoverlabel": {
           "align": "left"
          },
          "hovermode": "closest",
          "mapbox": {
           "style": "light"
          },
          "paper_bgcolor": "white",
          "plot_bgcolor": "#E5ECF6",
          "polar": {
           "angularaxis": {
            "gridcolor": "white",
            "linecolor": "white",
            "ticks": ""
           },
           "bgcolor": "#E5ECF6",
           "radialaxis": {
            "gridcolor": "white",
            "linecolor": "white",
            "ticks": ""
           }
          },
          "scene": {
           "xaxis": {
            "backgroundcolor": "#E5ECF6",
            "gridcolor": "white",
            "gridwidth": 2,
            "linecolor": "white",
            "showbackground": true,
            "ticks": "",
            "zerolinecolor": "white"
           },
           "yaxis": {
            "backgroundcolor": "#E5ECF6",
            "gridcolor": "white",
            "gridwidth": 2,
            "linecolor": "white",
            "showbackground": true,
            "ticks": "",
            "zerolinecolor": "white"
           },
           "zaxis": {
            "backgroundcolor": "#E5ECF6",
            "gridcolor": "white",
            "gridwidth": 2,
            "linecolor": "white",
            "showbackground": true,
            "ticks": "",
            "zerolinecolor": "white"
           }
          },
          "shapedefaults": {
           "line": {
            "color": "#2a3f5f"
           }
          },
          "ternary": {
           "aaxis": {
            "gridcolor": "white",
            "linecolor": "white",
            "ticks": ""
           },
           "baxis": {
            "gridcolor": "white",
            "linecolor": "white",
            "ticks": ""
           },
           "bgcolor": "#E5ECF6",
           "caxis": {
            "gridcolor": "white",
            "linecolor": "white",
            "ticks": ""
           }
          },
          "title": {
           "x": 0.05
          },
          "xaxis": {
           "automargin": true,
           "gridcolor": "white",
           "linecolor": "white",
           "ticks": "",
           "title": {
            "standoff": 15
           },
           "zerolinecolor": "white",
           "zerolinewidth": 2
          },
          "yaxis": {
           "automargin": true,
           "gridcolor": "white",
           "linecolor": "white",
           "ticks": "",
           "title": {
            "standoff": 15
           },
           "zerolinecolor": "white",
           "zerolinewidth": 2
          }
         }
        },
        "width": 500,
        "xaxis": {
         "anchor": "y",
         "domain": [
          0,
          1
         ],
         "title": {
          "text": "MC Average Fold Change"
         }
        },
        "yaxis": {
         "anchor": "x",
         "domain": [
          0,
          1
         ],
         "title": {
          "text": "Main VSG Log2 Fold Change"
         }
        }
       }
      }
     },
     "metadata": {},
     "output_type": "display_data"
    }
   ],
   "source": [
    "from plotly.subplots import make_subplots\n",
    "import plotly.graph_objects as go\n",
    "import plotly.io as pio\n",
    "\n",
    "fig = make_subplots(\n",
    "    rows=1,\n",
    "    cols=1,\n",
    "    #subplot_titles=[\"MC vs Main VSG\"],\n",
    ")\n",
    "\n",
    "scatter = go.Scatter(\n",
    "    x=merge['MC'],\n",
    "    y=merge['main_vsg'],\n",
    "    mode='markers',\n",
    "    text=list(merge.index.values),\n",
    "    hoverinfo='text',\n",
    "    name='scatter',\n",
    "    showlegend=False,\n",
    "    # hovertemplate='%{text}'\n",
    ")\n",
    "fig.add_trace(scatter, row=1, col=1)\n",
    "\n",
    "fig.update_layout(\n",
    "    width=500,\n",
    "    height=500,\n",
    "    showlegend=False,\n",
    "    hovermode='closest',\n",
    "    xaxis_title=\"MC Average Fold Change\",\n",
    "    yaxis_title=\"Main VSG Log2 Fold Change\",\n",
    ")\n",
    "\n",
    "# Save as an exportable HTML file\n",
    "pio.write_html(\n",
    "    fig,\n",
    "    file=\"MC_vs_main_vsg.html\",   # change path/name if you like\n",
    "    include_plotlyjs=\"cdn\",\n",
    "    full_html=True,\n",
    "    auto_open=False,\n",
    ")\n",
    "fig"
   ]
  },
  {
   "cell_type": "code",
   "execution_count": 14,
   "id": "b0fb3c4d-5522-4560-a85c-73a1a0fbfece",
   "metadata": {},
   "outputs": [
    {
     "data": {
      "application/vnd.plotly.v1+json": {
       "config": {
        "plotlyServerURL": "https://plot.ly"
       },
       "data": [
        {
         "hoverinfo": "text",
         "mode": "markers",
         "name": "scatter",
         "showlegend": false,
         "text": [
          "BDF2_1_KO48",
          "BDF3_1_KO24",
          "BET151_1_Drug12h",
          "BET151_1_Drug24h",
          "BET151_1_Drug3h",
          "BET151_1_Drug48h",
          "BET151_1_Drug6h",
          "BET151_1_Drug72h",
          "CAF1b_1_RNAi24",
          "CFB2_1_RNAi9",
          "DFO_1_DFO",
          "DFO_1_DFOFe",
          "DFO_1_Fe",
          "DRBD18_1_RNAi12",
          "H1_1_RNAi96",
          "H3H4_1_KOH3",
          "H3H4_1_KOH3J",
          "H3H4_1_KOH4",
          "H3H4_1_KOH4J",
          "H3H4_1_KOJ2",
          "H3H4_2_KO48",
          "H3H4_3_KO48",
          "H3_1_KOH3",
          "H3_1_KOH3J",
          "H3_1_KOJ",
          "IPMK_1_RNAi36",
          "IPMK_2_RNAi36",
          "MCMBP_1_KO24",
          "MCMBP_1_KO48",
          "PIP5Pase_1_KO",
          "PIP5Pase_2_D360A_N362A",
          "PNUTS_1_RNAi48",
          "RBP10_1_RNAi24",
          "RBP10_2_RNAi24",
          "RBP10_3_RNAi24",
          "RBP33_1_RNAi48",
          "RBP42_1_KO24",
          "RBP42_1_KO48",
          "RBP42_1_KO72",
          "RNaseH1_1_KO",
          "RNaseH2A_1_RNAi24",
          "RNaseH2A_2_RNAi36",
          "SET27_1_KO",
          "SET27_1_sKO",
          "SNF2PH_1_RNAi48",
          "TFR_1_RNAi24",
          "TbATR_1_RNAi24",
          "TbATR_2_RNAi36",
          "TbESB1_1_RNAi24",
          "TbESB1_2_KO48",
          "TbESB1_3_OE24",
          "TbHAT_1_RNAi48HAT1",
          "TbHAT_1_RNAi48HAT2",
          "TbPP1one_1_RNAi24",
          "TbPP1seven_1_RNAi24",
          "TbRAP1_1_2SD",
          "TbRAP1_1_5A",
          "TbRAP1_1_KO",
          "TbRAP1_2_dMyb",
          "TbSAP_1_RNAi72",
          "VEX1_1_Oe72",
          "VEX1_2_RNAi72",
          "VEX1_4_RNAi24",
          "VEX1_5_RNAi48",
          "VEX1_6_RNAi72",
          "VEX1and2_1_RNAi24",
          "VEX1and2_1_RNAi48",
          "VEX2_1_RNAi24",
          "VEX2_1_RNAi48",
          "ZC3H28_1_RNAi10",
          "ZC3H28_1_RNAi14",
          "ZC3H28_1_RNAi16",
          "ZC3H28_1_RNAi24",
          "ZC3H40_1_RNAi72",
          "ZC3H5_2_RNAi12",
          "ZC3H5_3_RNAi12",
          "ZC3H5_4_RNAi12",
          "ZC3H5_5_RNAi12"
         ],
         "type": "scatter",
         "x": {
          "bdata": "B+/oRsze9j9RjwF2Fu0YQOxMQ6mw+O4/jGhcBfx37T/JQV/sXn/xP+kmvsCvRwVARAYK4vbL8T/9zaQmc5MlQBQ2c44grkJAop1oP0SgBkCFkZUz2uvwP3dbAWxjR+4/stWiAxVU7z9A63YXp7rqPyUrlQiJAgNA3Xe3TMpPAkAqn36vpM4TQAONxPYRvOA/M+yFhnoW6T9ECyo4HNfUP1Lqs+A3hyVAR0E/1h31L0B8VpwwOVsSQCzrgXD2hxhAiKZRStL58D9UFkWR14PxP1K5TSq8luw/w8+j+0ETE0As9cZdR5MqQMLrTLZlqzhA95Ha9R7TJkBcHSX35PMkQKyi2C3HX+w/v2m/6min7T/J0fPMeI7kPzbtOsuhLidA0RsGeX4h9T8kiBeyjOzzP0dvLwV5ygNAzidxcdAd8T/bZVcSlbkEQFH2+rTzZh9AtmwhmZ6XDUAgQ5yOUsL/P0XlbWo11QZAslkn0a/C9j96EmPVarELQKmm5V6EDjBAYno0yQWsAEBZ4qhZ194AQDNo3WYTeR1AqvpygNEAB0CrF88IEq4MQDVhtBzOsEFAC7FHInCV4j848PMaaRExQGRCy7PZdidAmkA5kpRsPEALNKgV7WNLQBxIA1CnRCdAjYM/ehQ0HkAqiIJ0T7kTQCCYqqL0IQpAwUcTMKINIECNtUDUG5MeQKxCMMYSjU5AdRbYBs0aV0BtwDHuVHkxQMq9tl1ygSVARndTCDh37z/XiSHadwfoPzHAyy6rAOg/NzLyizL37T/bAmd8K18CQNuJcxcZG/I/bSQha5aG8j/b5dsRjAH+P9UQPvIozu0/",
          "dtype": "f8"
         },
         "xaxis": "x",
         "y": {
          "bdata": "gmaXC2nI17/ILHm0asXhv1ZDAUPFNpy/rLmsyg6z5r/onqjRoeXeP8FTvOcUnATALZKdJfwbuD8U8O37C8sIwPAUCLwxTt2/NJMiholO9r/Fm0pMuG6hP2BbPXtI4qS/0B34f5Cwqz+1+tNB6k/Uv8ZOXiDp7OC/tMDG9/7s1L9+MyHNKZy+v8bVT0KP0+W/eTq2gWZ55L+kG51AaGnvv66Exnfbh/W/G7PjyNVQAMDsDBHAvyaxv640B3pHKbc/z/U30q1IgT+AJT+gsf3Rv4qEa2SDNMa/NYyQ86E6x794rlDWlZDmv/TN0ezTheC/a3xV07Gf9b9+beQtOya8v/bJODLGeOW/efxjCdgD5r+bzpMD8CLlv1uRTpnXvvG/rqoac6ukxj/o/f1GRGCSv2V/dnihNsy/Kr5xaWlFwr8BrvtRXrjav6E8Yzk0BPi/c9QoLTYzyD+v8O5IMyW6vyRKBiiXmI6/i0hCqckmsL8JvmwbBpLMv3pWqWEsqeW/h5u2wCzG/b/E/kc36RYEwEhEdDmj1M+/Hn/iJQEi0L+Om/QTyonKv84G8b4I9sG/0r2leA0e5b8H7m2fvPH1vwzy9wpTGgDA0njDnBtZ3b+8S7LV14znv+fT4A0h9IO/+w3z9feZyr+kQd3YnW25P5FDFJh96Z2/AR1/Hd2Gv7+riMln+/+Gv7F+pGAWst2/FIGeA66P7L+B0KX+T3jjv6vVya5HcOW/QUJut9cRxL/X8AITanfuv3iwqLt0Sem/XFUJ36nb8b+NWxfDQL3Qv8p1nzJeV8K/0CTg9pjKor99yUaBHxLkP35EAF8quMC/",
          "dtype": "f8"
         },
         "yaxis": "y"
        }
       ],
       "layout": {
        "height": 500,
        "hovermode": "closest",
        "showlegend": false,
        "template": {
         "data": {
          "bar": [
           {
            "error_x": {
             "color": "#2a3f5f"
            },
            "error_y": {
             "color": "#2a3f5f"
            },
            "marker": {
             "line": {
              "color": "#E5ECF6",
              "width": 0.5
             },
             "pattern": {
              "fillmode": "overlay",
              "size": 10,
              "solidity": 0.2
             }
            },
            "type": "bar"
           }
          ],
          "barpolar": [
           {
            "marker": {
             "line": {
              "color": "#E5ECF6",
              "width": 0.5
             },
             "pattern": {
              "fillmode": "overlay",
              "size": 10,
              "solidity": 0.2
             }
            },
            "type": "barpolar"
           }
          ],
          "carpet": [
           {
            "aaxis": {
             "endlinecolor": "#2a3f5f",
             "gridcolor": "white",
             "linecolor": "white",
             "minorgridcolor": "white",
             "startlinecolor": "#2a3f5f"
            },
            "baxis": {
             "endlinecolor": "#2a3f5f",
             "gridcolor": "white",
             "linecolor": "white",
             "minorgridcolor": "white",
             "startlinecolor": "#2a3f5f"
            },
            "type": "carpet"
           }
          ],
          "choropleth": [
           {
            "colorbar": {
             "outlinewidth": 0,
             "ticks": ""
            },
            "type": "choropleth"
           }
          ],
          "contour": [
           {
            "colorbar": {
             "outlinewidth": 0,
             "ticks": ""
            },
            "colorscale": [
             [
              0,
              "#0d0887"
             ],
             [
              0.1111111111111111,
              "#46039f"
             ],
             [
              0.2222222222222222,
              "#7201a8"
             ],
             [
              0.3333333333333333,
              "#9c179e"
             ],
             [
              0.4444444444444444,
              "#bd3786"
             ],
             [
              0.5555555555555556,
              "#d8576b"
             ],
             [
              0.6666666666666666,
              "#ed7953"
             ],
             [
              0.7777777777777778,
              "#fb9f3a"
             ],
             [
              0.8888888888888888,
              "#fdca26"
             ],
             [
              1,
              "#f0f921"
             ]
            ],
            "type": "contour"
           }
          ],
          "contourcarpet": [
           {
            "colorbar": {
             "outlinewidth": 0,
             "ticks": ""
            },
            "type": "contourcarpet"
           }
          ],
          "heatmap": [
           {
            "colorbar": {
             "outlinewidth": 0,
             "ticks": ""
            },
            "colorscale": [
             [
              0,
              "#0d0887"
             ],
             [
              0.1111111111111111,
              "#46039f"
             ],
             [
              0.2222222222222222,
              "#7201a8"
             ],
             [
              0.3333333333333333,
              "#9c179e"
             ],
             [
              0.4444444444444444,
              "#bd3786"
             ],
             [
              0.5555555555555556,
              "#d8576b"
             ],
             [
              0.6666666666666666,
              "#ed7953"
             ],
             [
              0.7777777777777778,
              "#fb9f3a"
             ],
             [
              0.8888888888888888,
              "#fdca26"
             ],
             [
              1,
              "#f0f921"
             ]
            ],
            "type": "heatmap"
           }
          ],
          "histogram": [
           {
            "marker": {
             "pattern": {
              "fillmode": "overlay",
              "size": 10,
              "solidity": 0.2
             }
            },
            "type": "histogram"
           }
          ],
          "histogram2d": [
           {
            "colorbar": {
             "outlinewidth": 0,
             "ticks": ""
            },
            "colorscale": [
             [
              0,
              "#0d0887"
             ],
             [
              0.1111111111111111,
              "#46039f"
             ],
             [
              0.2222222222222222,
              "#7201a8"
             ],
             [
              0.3333333333333333,
              "#9c179e"
             ],
             [
              0.4444444444444444,
              "#bd3786"
             ],
             [
              0.5555555555555556,
              "#d8576b"
             ],
             [
              0.6666666666666666,
              "#ed7953"
             ],
             [
              0.7777777777777778,
              "#fb9f3a"
             ],
             [
              0.8888888888888888,
              "#fdca26"
             ],
             [
              1,
              "#f0f921"
             ]
            ],
            "type": "histogram2d"
           }
          ],
          "histogram2dcontour": [
           {
            "colorbar": {
             "outlinewidth": 0,
             "ticks": ""
            },
            "colorscale": [
             [
              0,
              "#0d0887"
             ],
             [
              0.1111111111111111,
              "#46039f"
             ],
             [
              0.2222222222222222,
              "#7201a8"
             ],
             [
              0.3333333333333333,
              "#9c179e"
             ],
             [
              0.4444444444444444,
              "#bd3786"
             ],
             [
              0.5555555555555556,
              "#d8576b"
             ],
             [
              0.6666666666666666,
              "#ed7953"
             ],
             [
              0.7777777777777778,
              "#fb9f3a"
             ],
             [
              0.8888888888888888,
              "#fdca26"
             ],
             [
              1,
              "#f0f921"
             ]
            ],
            "type": "histogram2dcontour"
           }
          ],
          "mesh3d": [
           {
            "colorbar": {
             "outlinewidth": 0,
             "ticks": ""
            },
            "type": "mesh3d"
           }
          ],
          "parcoords": [
           {
            "line": {
             "colorbar": {
              "outlinewidth": 0,
              "ticks": ""
             }
            },
            "type": "parcoords"
           }
          ],
          "pie": [
           {
            "automargin": true,
            "type": "pie"
           }
          ],
          "scatter": [
           {
            "fillpattern": {
             "fillmode": "overlay",
             "size": 10,
             "solidity": 0.2
            },
            "type": "scatter"
           }
          ],
          "scatter3d": [
           {
            "line": {
             "colorbar": {
              "outlinewidth": 0,
              "ticks": ""
             }
            },
            "marker": {
             "colorbar": {
              "outlinewidth": 0,
              "ticks": ""
             }
            },
            "type": "scatter3d"
           }
          ],
          "scattercarpet": [
           {
            "marker": {
             "colorbar": {
              "outlinewidth": 0,
              "ticks": ""
             }
            },
            "type": "scattercarpet"
           }
          ],
          "scattergeo": [
           {
            "marker": {
             "colorbar": {
              "outlinewidth": 0,
              "ticks": ""
             }
            },
            "type": "scattergeo"
           }
          ],
          "scattergl": [
           {
            "marker": {
             "colorbar": {
              "outlinewidth": 0,
              "ticks": ""
             }
            },
            "type": "scattergl"
           }
          ],
          "scattermap": [
           {
            "marker": {
             "colorbar": {
              "outlinewidth": 0,
              "ticks": ""
             }
            },
            "type": "scattermap"
           }
          ],
          "scattermapbox": [
           {
            "marker": {
             "colorbar": {
              "outlinewidth": 0,
              "ticks": ""
             }
            },
            "type": "scattermapbox"
           }
          ],
          "scatterpolar": [
           {
            "marker": {
             "colorbar": {
              "outlinewidth": 0,
              "ticks": ""
             }
            },
            "type": "scatterpolar"
           }
          ],
          "scatterpolargl": [
           {
            "marker": {
             "colorbar": {
              "outlinewidth": 0,
              "ticks": ""
             }
            },
            "type": "scatterpolargl"
           }
          ],
          "scatterternary": [
           {
            "marker": {
             "colorbar": {
              "outlinewidth": 0,
              "ticks": ""
             }
            },
            "type": "scatterternary"
           }
          ],
          "surface": [
           {
            "colorbar": {
             "outlinewidth": 0,
             "ticks": ""
            },
            "colorscale": [
             [
              0,
              "#0d0887"
             ],
             [
              0.1111111111111111,
              "#46039f"
             ],
             [
              0.2222222222222222,
              "#7201a8"
             ],
             [
              0.3333333333333333,
              "#9c179e"
             ],
             [
              0.4444444444444444,
              "#bd3786"
             ],
             [
              0.5555555555555556,
              "#d8576b"
             ],
             [
              0.6666666666666666,
              "#ed7953"
             ],
             [
              0.7777777777777778,
              "#fb9f3a"
             ],
             [
              0.8888888888888888,
              "#fdca26"
             ],
             [
              1,
              "#f0f921"
             ]
            ],
            "type": "surface"
           }
          ],
          "table": [
           {
            "cells": {
             "fill": {
              "color": "#EBF0F8"
             },
             "line": {
              "color": "white"
             }
            },
            "header": {
             "fill": {
              "color": "#C8D4E3"
             },
             "line": {
              "color": "white"
             }
            },
            "type": "table"
           }
          ]
         },
         "layout": {
          "annotationdefaults": {
           "arrowcolor": "#2a3f5f",
           "arrowhead": 0,
           "arrowwidth": 1
          },
          "autotypenumbers": "strict",
          "coloraxis": {
           "colorbar": {
            "outlinewidth": 0,
            "ticks": ""
           }
          },
          "colorscale": {
           "diverging": [
            [
             0,
             "#8e0152"
            ],
            [
             0.1,
             "#c51b7d"
            ],
            [
             0.2,
             "#de77ae"
            ],
            [
             0.3,
             "#f1b6da"
            ],
            [
             0.4,
             "#fde0ef"
            ],
            [
             0.5,
             "#f7f7f7"
            ],
            [
             0.6,
             "#e6f5d0"
            ],
            [
             0.7,
             "#b8e186"
            ],
            [
             0.8,
             "#7fbc41"
            ],
            [
             0.9,
             "#4d9221"
            ],
            [
             1,
             "#276419"
            ]
           ],
           "sequential": [
            [
             0,
             "#0d0887"
            ],
            [
             0.1111111111111111,
             "#46039f"
            ],
            [
             0.2222222222222222,
             "#7201a8"
            ],
            [
             0.3333333333333333,
             "#9c179e"
            ],
            [
             0.4444444444444444,
             "#bd3786"
            ],
            [
             0.5555555555555556,
             "#d8576b"
            ],
            [
             0.6666666666666666,
             "#ed7953"
            ],
            [
             0.7777777777777778,
             "#fb9f3a"
            ],
            [
             0.8888888888888888,
             "#fdca26"
            ],
            [
             1,
             "#f0f921"
            ]
           ],
           "sequentialminus": [
            [
             0,
             "#0d0887"
            ],
            [
             0.1111111111111111,
             "#46039f"
            ],
            [
             0.2222222222222222,
             "#7201a8"
            ],
            [
             0.3333333333333333,
             "#9c179e"
            ],
            [
             0.4444444444444444,
             "#bd3786"
            ],
            [
             0.5555555555555556,
             "#d8576b"
            ],
            [
             0.6666666666666666,
             "#ed7953"
            ],
            [
             0.7777777777777778,
             "#fb9f3a"
            ],
            [
             0.8888888888888888,
             "#fdca26"
            ],
            [
             1,
             "#f0f921"
            ]
           ]
          },
          "colorway": [
           "#636efa",
           "#EF553B",
           "#00cc96",
           "#ab63fa",
           "#FFA15A",
           "#19d3f3",
           "#FF6692",
           "#B6E880",
           "#FF97FF",
           "#FECB52"
          ],
          "font": {
           "color": "#2a3f5f"
          },
          "geo": {
           "bgcolor": "white",
           "lakecolor": "white",
           "landcolor": "#E5ECF6",
           "showlakes": true,
           "showland": true,
           "subunitcolor": "white"
          },
          "hoverlabel": {
           "align": "left"
          },
          "hovermode": "closest",
          "mapbox": {
           "style": "light"
          },
          "paper_bgcolor": "white",
          "plot_bgcolor": "#E5ECF6",
          "polar": {
           "angularaxis": {
            "gridcolor": "white",
            "linecolor": "white",
            "ticks": ""
           },
           "bgcolor": "#E5ECF6",
           "radialaxis": {
            "gridcolor": "white",
            "linecolor": "white",
            "ticks": ""
           }
          },
          "scene": {
           "xaxis": {
            "backgroundcolor": "#E5ECF6",
            "gridcolor": "white",
            "gridwidth": 2,
            "linecolor": "white",
            "showbackground": true,
            "ticks": "",
            "zerolinecolor": "white"
           },
           "yaxis": {
            "backgroundcolor": "#E5ECF6",
            "gridcolor": "white",
            "gridwidth": 2,
            "linecolor": "white",
            "showbackground": true,
            "ticks": "",
            "zerolinecolor": "white"
           },
           "zaxis": {
            "backgroundcolor": "#E5ECF6",
            "gridcolor": "white",
            "gridwidth": 2,
            "linecolor": "white",
            "showbackground": true,
            "ticks": "",
            "zerolinecolor": "white"
           }
          },
          "shapedefaults": {
           "line": {
            "color": "#2a3f5f"
           }
          },
          "ternary": {
           "aaxis": {
            "gridcolor": "white",
            "linecolor": "white",
            "ticks": ""
           },
           "baxis": {
            "gridcolor": "white",
            "linecolor": "white",
            "ticks": ""
           },
           "bgcolor": "#E5ECF6",
           "caxis": {
            "gridcolor": "white",
            "linecolor": "white",
            "ticks": ""
           }
          },
          "title": {
           "x": 0.05
          },
          "xaxis": {
           "automargin": true,
           "gridcolor": "white",
           "linecolor": "white",
           "ticks": "",
           "title": {
            "standoff": 15
           },
           "zerolinecolor": "white",
           "zerolinewidth": 2
          },
          "yaxis": {
           "automargin": true,
           "gridcolor": "white",
           "linecolor": "white",
           "ticks": "",
           "title": {
            "standoff": 15
           },
           "zerolinecolor": "white",
           "zerolinewidth": 2
          }
         }
        },
        "width": 500,
        "xaxis": {
         "anchor": "y",
         "domain": [
          0,
          1
         ],
         "title": {
          "text": "MES Average Fold Change"
         }
        },
        "yaxis": {
         "anchor": "x",
         "domain": [
          0,
          1
         ],
         "title": {
          "text": "Main VSG Log2 Fold Change"
         }
        }
       }
      }
     },
     "metadata": {},
     "output_type": "display_data"
    }
   ],
   "source": [
    "from plotly.subplots import make_subplots\n",
    "import plotly.graph_objects as go\n",
    "import plotly.io as pio\n",
    "\n",
    "fig = make_subplots(\n",
    "    rows=1,\n",
    "    cols=1,\n",
    "    #subplot_titles=[\"MES vs Main VSG\"],\n",
    ")\n",
    "\n",
    "scatter = go.Scatter(\n",
    "    x=merge['MES'],\n",
    "    y=merge['main_vsg'],\n",
    "    mode='markers',\n",
    "    text=list(merge.index.values),\n",
    "    hoverinfo='text',\n",
    "    name='scatter',\n",
    "    showlegend=False,\n",
    "    # hovertemplate='%{text}'\n",
    ")\n",
    "fig.add_trace(scatter, row=1, col=1)\n",
    "\n",
    "fig.update_layout(\n",
    "    width=500,\n",
    "    height=500,\n",
    "    showlegend=False,\n",
    "    hovermode='closest',\n",
    "    xaxis_title=\"MES Average Fold Change\",\n",
    "    yaxis_title=\"Main VSG Log2 Fold Change\",\n",
    ")\n",
    "\n",
    "# Save as an exportable HTML file\n",
    "pio.write_html(\n",
    "    fig,\n",
    "    file=\"MES_vs_main_vsg.html\",   # change path/name if you like\n",
    "    include_plotlyjs=\"cdn\",\n",
    "    full_html=True,\n",
    "    auto_open=False,\n",
    ")\n",
    "fig"
   ]
  },
  {
   "cell_type": "code",
   "execution_count": 15,
   "id": "0fc20dfa-21a7-46b3-9745-d20d46b04122",
   "metadata": {},
   "outputs": [
    {
     "data": {
      "application/vnd.plotly.v1+json": {
       "config": {
        "plotlyServerURL": "https://plot.ly"
       },
       "data": [
        {
         "hoverinfo": "text",
         "mode": "markers",
         "name": "scatter",
         "showlegend": false,
         "text": [
          "BDF2_1_KO48",
          "BDF3_1_KO24",
          "BET151_1_Drug12h",
          "BET151_1_Drug24h",
          "BET151_1_Drug3h",
          "BET151_1_Drug48h",
          "BET151_1_Drug6h",
          "BET151_1_Drug72h",
          "CAF1b_1_RNAi24",
          "CFB2_1_RNAi9",
          "DFO_1_DFO",
          "DFO_1_DFOFe",
          "DFO_1_Fe",
          "DRBD18_1_RNAi12",
          "H1_1_RNAi96",
          "H3H4_1_KOH3",
          "H3H4_1_KOH3J",
          "H3H4_1_KOH4",
          "H3H4_1_KOH4J",
          "H3H4_1_KOJ2",
          "H3H4_2_KO48",
          "H3H4_3_KO48",
          "H3_1_KOH3",
          "H3_1_KOH3J",
          "H3_1_KOJ",
          "IPMK_1_RNAi36",
          "IPMK_2_RNAi36",
          "MCMBP_1_KO24",
          "MCMBP_1_KO48",
          "PIP5Pase_1_KO",
          "PIP5Pase_2_D360A_N362A",
          "PNUTS_1_RNAi48",
          "RBP10_1_RNAi24",
          "RBP10_2_RNAi24",
          "RBP10_3_RNAi24",
          "RBP33_1_RNAi48",
          "RBP42_1_KO24",
          "RBP42_1_KO48",
          "RBP42_1_KO72",
          "RNaseH1_1_KO",
          "RNaseH2A_1_RNAi24",
          "RNaseH2A_2_RNAi36",
          "SET27_1_KO",
          "SET27_1_sKO",
          "SNF2PH_1_RNAi48",
          "TFR_1_RNAi24",
          "TbATR_1_RNAi24",
          "TbATR_2_RNAi36",
          "TbESB1_1_RNAi24",
          "TbESB1_2_KO48",
          "TbESB1_3_OE24",
          "TbHAT_1_RNAi48HAT1",
          "TbHAT_1_RNAi48HAT2",
          "TbPP1one_1_RNAi24",
          "TbPP1seven_1_RNAi24",
          "TbRAP1_1_2SD",
          "TbRAP1_1_5A",
          "TbRAP1_1_KO",
          "TbRAP1_2_dMyb",
          "TbSAP_1_RNAi72",
          "VEX1_1_Oe72",
          "VEX1_2_RNAi72",
          "VEX1_4_RNAi24",
          "VEX1_5_RNAi48",
          "VEX1_6_RNAi72",
          "VEX1and2_1_RNAi24",
          "VEX1and2_1_RNAi48",
          "VEX2_1_RNAi24",
          "VEX2_1_RNAi48",
          "ZC3H28_1_RNAi10",
          "ZC3H28_1_RNAi14",
          "ZC3H28_1_RNAi16",
          "ZC3H28_1_RNAi24",
          "ZC3H40_1_RNAi72",
          "ZC3H5_2_RNAi12",
          "ZC3H5_3_RNAi12",
          "ZC3H5_4_RNAi12",
          "ZC3H5_5_RNAi12"
         ],
         "type": "scatter",
         "x": {
          "bdata": "CvZy6uLf8D8LNra6z6wDQAAAAAAAAPA/4hndrs2c6z9FrW2O+DzxP1u7nKSzPOg/5oA1AsFR8D/1iCZnjjvrP8Ytjqs7EAxAWIQzIJdR8D9LWqDU8RDwP6YIyTcZC/A/YCtjzKwj8D83MgmyRvbvP7f0l82DWQ9AatysR5/z+D/skCcWIVoHQAAAAAAAAPA/9VhiYWS38D9y+ssNzgfpP4dQ9NN73wBAcvh/WRkJ/z+ZrN0t04kCQGjmFt8wrABAOR08rZuA7D/UtFCtrT/wPwAAAAAAAPA/O2gjyCK0BEDH7xkR79saQA50o9NqjklAlNqoGQCTJkClZPB61CwDQBU+iEhdSPE/AAAAAAAA8D8u8ru42QjvP+k9usrVxvQ/O0goYLXQ8z91WX4VS7/sP8eJK3WDIuw/wOpu/qy28D83FR1zOTz5P4/1ZyvjP/o/1yBmPeAVD0CnW2Xu/ysAQJEsjHykJvM/kp4/UjsN9D9mfufJTmEDQGBtbVcGMChAkojkuRjE/j8fH0mhKIjlP2rx0/UqKAhAXG7l8a0d3j+8Tec00uzuPz6LVP2y8EZAzz98QEfa5z+uApItkfg6QNj5qsQ4kTNAbiP12zNYTED1azmNMcdWQIviMRu/pwVA+FmxRj5bGEAWUNi/goUAQJepOhhVafQ/8xNZ0TDl+j+wjOrzMUYAQBDN5vyN7k9Agp6ljkQtTUC0vNMoahBIQD+Nx3HR3EdAYDpGd5a77z+zdiBVWgHuP8o5Qc6ps+0/yTREi5BO7T9N39nM3IP/P9smcDdJZO8/fCWeoro97T/KWZLnr1LuP1SMc+HXNuU/",
          "dtype": "f8"
         },
         "xaxis": "x",
         "y": {
          "bdata": "B+/oRsze9j9RjwF2Fu0YQOxMQ6mw+O4/jGhcBfx37T/JQV/sXn/xP+kmvsCvRwVARAYK4vbL8T/9zaQmc5MlQBQ2c44grkJAop1oP0SgBkCFkZUz2uvwP3dbAWxjR+4/stWiAxVU7z9A63YXp7rqPyUrlQiJAgNA3Xe3TMpPAkAqn36vpM4TQAONxPYRvOA/M+yFhnoW6T9ECyo4HNfUP1Lqs+A3hyVAR0E/1h31L0B8VpwwOVsSQCzrgXD2hxhAiKZRStL58D9UFkWR14PxP1K5TSq8luw/w8+j+0ETE0As9cZdR5MqQMLrTLZlqzhA95Ha9R7TJkBcHSX35PMkQKyi2C3HX+w/v2m/6min7T/J0fPMeI7kPzbtOsuhLidA0RsGeX4h9T8kiBeyjOzzP0dvLwV5ygNAzidxcdAd8T/bZVcSlbkEQFH2+rTzZh9AtmwhmZ6XDUAgQ5yOUsL/P0XlbWo11QZAslkn0a/C9j96EmPVarELQKmm5V6EDjBAYno0yQWsAEBZ4qhZ194AQDNo3WYTeR1AqvpygNEAB0CrF88IEq4MQDVhtBzOsEFAC7FHInCV4j848PMaaRExQGRCy7PZdidAmkA5kpRsPEALNKgV7WNLQBxIA1CnRCdAjYM/ehQ0HkAqiIJ0T7kTQCCYqqL0IQpAwUcTMKINIECNtUDUG5MeQKxCMMYSjU5AdRbYBs0aV0BtwDHuVHkxQMq9tl1ygSVARndTCDh37z/XiSHadwfoPzHAyy6rAOg/NzLyizL37T/bAmd8K18CQNuJcxcZG/I/bSQha5aG8j/b5dsRjAH+P9UQPvIozu0/",
          "dtype": "f8"
         },
         "yaxis": "y"
        }
       ],
       "layout": {
        "height": 500,
        "hovermode": "closest",
        "showlegend": false,
        "template": {
         "data": {
          "bar": [
           {
            "error_x": {
             "color": "#2a3f5f"
            },
            "error_y": {
             "color": "#2a3f5f"
            },
            "marker": {
             "line": {
              "color": "#E5ECF6",
              "width": 0.5
             },
             "pattern": {
              "fillmode": "overlay",
              "size": 10,
              "solidity": 0.2
             }
            },
            "type": "bar"
           }
          ],
          "barpolar": [
           {
            "marker": {
             "line": {
              "color": "#E5ECF6",
              "width": 0.5
             },
             "pattern": {
              "fillmode": "overlay",
              "size": 10,
              "solidity": 0.2
             }
            },
            "type": "barpolar"
           }
          ],
          "carpet": [
           {
            "aaxis": {
             "endlinecolor": "#2a3f5f",
             "gridcolor": "white",
             "linecolor": "white",
             "minorgridcolor": "white",
             "startlinecolor": "#2a3f5f"
            },
            "baxis": {
             "endlinecolor": "#2a3f5f",
             "gridcolor": "white",
             "linecolor": "white",
             "minorgridcolor": "white",
             "startlinecolor": "#2a3f5f"
            },
            "type": "carpet"
           }
          ],
          "choropleth": [
           {
            "colorbar": {
             "outlinewidth": 0,
             "ticks": ""
            },
            "type": "choropleth"
           }
          ],
          "contour": [
           {
            "colorbar": {
             "outlinewidth": 0,
             "ticks": ""
            },
            "colorscale": [
             [
              0,
              "#0d0887"
             ],
             [
              0.1111111111111111,
              "#46039f"
             ],
             [
              0.2222222222222222,
              "#7201a8"
             ],
             [
              0.3333333333333333,
              "#9c179e"
             ],
             [
              0.4444444444444444,
              "#bd3786"
             ],
             [
              0.5555555555555556,
              "#d8576b"
             ],
             [
              0.6666666666666666,
              "#ed7953"
             ],
             [
              0.7777777777777778,
              "#fb9f3a"
             ],
             [
              0.8888888888888888,
              "#fdca26"
             ],
             [
              1,
              "#f0f921"
             ]
            ],
            "type": "contour"
           }
          ],
          "contourcarpet": [
           {
            "colorbar": {
             "outlinewidth": 0,
             "ticks": ""
            },
            "type": "contourcarpet"
           }
          ],
          "heatmap": [
           {
            "colorbar": {
             "outlinewidth": 0,
             "ticks": ""
            },
            "colorscale": [
             [
              0,
              "#0d0887"
             ],
             [
              0.1111111111111111,
              "#46039f"
             ],
             [
              0.2222222222222222,
              "#7201a8"
             ],
             [
              0.3333333333333333,
              "#9c179e"
             ],
             [
              0.4444444444444444,
              "#bd3786"
             ],
             [
              0.5555555555555556,
              "#d8576b"
             ],
             [
              0.6666666666666666,
              "#ed7953"
             ],
             [
              0.7777777777777778,
              "#fb9f3a"
             ],
             [
              0.8888888888888888,
              "#fdca26"
             ],
             [
              1,
              "#f0f921"
             ]
            ],
            "type": "heatmap"
           }
          ],
          "histogram": [
           {
            "marker": {
             "pattern": {
              "fillmode": "overlay",
              "size": 10,
              "solidity": 0.2
             }
            },
            "type": "histogram"
           }
          ],
          "histogram2d": [
           {
            "colorbar": {
             "outlinewidth": 0,
             "ticks": ""
            },
            "colorscale": [
             [
              0,
              "#0d0887"
             ],
             [
              0.1111111111111111,
              "#46039f"
             ],
             [
              0.2222222222222222,
              "#7201a8"
             ],
             [
              0.3333333333333333,
              "#9c179e"
             ],
             [
              0.4444444444444444,
              "#bd3786"
             ],
             [
              0.5555555555555556,
              "#d8576b"
             ],
             [
              0.6666666666666666,
              "#ed7953"
             ],
             [
              0.7777777777777778,
              "#fb9f3a"
             ],
             [
              0.8888888888888888,
              "#fdca26"
             ],
             [
              1,
              "#f0f921"
             ]
            ],
            "type": "histogram2d"
           }
          ],
          "histogram2dcontour": [
           {
            "colorbar": {
             "outlinewidth": 0,
             "ticks": ""
            },
            "colorscale": [
             [
              0,
              "#0d0887"
             ],
             [
              0.1111111111111111,
              "#46039f"
             ],
             [
              0.2222222222222222,
              "#7201a8"
             ],
             [
              0.3333333333333333,
              "#9c179e"
             ],
             [
              0.4444444444444444,
              "#bd3786"
             ],
             [
              0.5555555555555556,
              "#d8576b"
             ],
             [
              0.6666666666666666,
              "#ed7953"
             ],
             [
              0.7777777777777778,
              "#fb9f3a"
             ],
             [
              0.8888888888888888,
              "#fdca26"
             ],
             [
              1,
              "#f0f921"
             ]
            ],
            "type": "histogram2dcontour"
           }
          ],
          "mesh3d": [
           {
            "colorbar": {
             "outlinewidth": 0,
             "ticks": ""
            },
            "type": "mesh3d"
           }
          ],
          "parcoords": [
           {
            "line": {
             "colorbar": {
              "outlinewidth": 0,
              "ticks": ""
             }
            },
            "type": "parcoords"
           }
          ],
          "pie": [
           {
            "automargin": true,
            "type": "pie"
           }
          ],
          "scatter": [
           {
            "fillpattern": {
             "fillmode": "overlay",
             "size": 10,
             "solidity": 0.2
            },
            "type": "scatter"
           }
          ],
          "scatter3d": [
           {
            "line": {
             "colorbar": {
              "outlinewidth": 0,
              "ticks": ""
             }
            },
            "marker": {
             "colorbar": {
              "outlinewidth": 0,
              "ticks": ""
             }
            },
            "type": "scatter3d"
           }
          ],
          "scattercarpet": [
           {
            "marker": {
             "colorbar": {
              "outlinewidth": 0,
              "ticks": ""
             }
            },
            "type": "scattercarpet"
           }
          ],
          "scattergeo": [
           {
            "marker": {
             "colorbar": {
              "outlinewidth": 0,
              "ticks": ""
             }
            },
            "type": "scattergeo"
           }
          ],
          "scattergl": [
           {
            "marker": {
             "colorbar": {
              "outlinewidth": 0,
              "ticks": ""
             }
            },
            "type": "scattergl"
           }
          ],
          "scattermap": [
           {
            "marker": {
             "colorbar": {
              "outlinewidth": 0,
              "ticks": ""
             }
            },
            "type": "scattermap"
           }
          ],
          "scattermapbox": [
           {
            "marker": {
             "colorbar": {
              "outlinewidth": 0,
              "ticks": ""
             }
            },
            "type": "scattermapbox"
           }
          ],
          "scatterpolar": [
           {
            "marker": {
             "colorbar": {
              "outlinewidth": 0,
              "ticks": ""
             }
            },
            "type": "scatterpolar"
           }
          ],
          "scatterpolargl": [
           {
            "marker": {
             "colorbar": {
              "outlinewidth": 0,
              "ticks": ""
             }
            },
            "type": "scatterpolargl"
           }
          ],
          "scatterternary": [
           {
            "marker": {
             "colorbar": {
              "outlinewidth": 0,
              "ticks": ""
             }
            },
            "type": "scatterternary"
           }
          ],
          "surface": [
           {
            "colorbar": {
             "outlinewidth": 0,
             "ticks": ""
            },
            "colorscale": [
             [
              0,
              "#0d0887"
             ],
             [
              0.1111111111111111,
              "#46039f"
             ],
             [
              0.2222222222222222,
              "#7201a8"
             ],
             [
              0.3333333333333333,
              "#9c179e"
             ],
             [
              0.4444444444444444,
              "#bd3786"
             ],
             [
              0.5555555555555556,
              "#d8576b"
             ],
             [
              0.6666666666666666,
              "#ed7953"
             ],
             [
              0.7777777777777778,
              "#fb9f3a"
             ],
             [
              0.8888888888888888,
              "#fdca26"
             ],
             [
              1,
              "#f0f921"
             ]
            ],
            "type": "surface"
           }
          ],
          "table": [
           {
            "cells": {
             "fill": {
              "color": "#EBF0F8"
             },
             "line": {
              "color": "white"
             }
            },
            "header": {
             "fill": {
              "color": "#C8D4E3"
             },
             "line": {
              "color": "white"
             }
            },
            "type": "table"
           }
          ]
         },
         "layout": {
          "annotationdefaults": {
           "arrowcolor": "#2a3f5f",
           "arrowhead": 0,
           "arrowwidth": 1
          },
          "autotypenumbers": "strict",
          "coloraxis": {
           "colorbar": {
            "outlinewidth": 0,
            "ticks": ""
           }
          },
          "colorscale": {
           "diverging": [
            [
             0,
             "#8e0152"
            ],
            [
             0.1,
             "#c51b7d"
            ],
            [
             0.2,
             "#de77ae"
            ],
            [
             0.3,
             "#f1b6da"
            ],
            [
             0.4,
             "#fde0ef"
            ],
            [
             0.5,
             "#f7f7f7"
            ],
            [
             0.6,
             "#e6f5d0"
            ],
            [
             0.7,
             "#b8e186"
            ],
            [
             0.8,
             "#7fbc41"
            ],
            [
             0.9,
             "#4d9221"
            ],
            [
             1,
             "#276419"
            ]
           ],
           "sequential": [
            [
             0,
             "#0d0887"
            ],
            [
             0.1111111111111111,
             "#46039f"
            ],
            [
             0.2222222222222222,
             "#7201a8"
            ],
            [
             0.3333333333333333,
             "#9c179e"
            ],
            [
             0.4444444444444444,
             "#bd3786"
            ],
            [
             0.5555555555555556,
             "#d8576b"
            ],
            [
             0.6666666666666666,
             "#ed7953"
            ],
            [
             0.7777777777777778,
             "#fb9f3a"
            ],
            [
             0.8888888888888888,
             "#fdca26"
            ],
            [
             1,
             "#f0f921"
            ]
           ],
           "sequentialminus": [
            [
             0,
             "#0d0887"
            ],
            [
             0.1111111111111111,
             "#46039f"
            ],
            [
             0.2222222222222222,
             "#7201a8"
            ],
            [
             0.3333333333333333,
             "#9c179e"
            ],
            [
             0.4444444444444444,
             "#bd3786"
            ],
            [
             0.5555555555555556,
             "#d8576b"
            ],
            [
             0.6666666666666666,
             "#ed7953"
            ],
            [
             0.7777777777777778,
             "#fb9f3a"
            ],
            [
             0.8888888888888888,
             "#fdca26"
            ],
            [
             1,
             "#f0f921"
            ]
           ]
          },
          "colorway": [
           "#636efa",
           "#EF553B",
           "#00cc96",
           "#ab63fa",
           "#FFA15A",
           "#19d3f3",
           "#FF6692",
           "#B6E880",
           "#FF97FF",
           "#FECB52"
          ],
          "font": {
           "color": "#2a3f5f"
          },
          "geo": {
           "bgcolor": "white",
           "lakecolor": "white",
           "landcolor": "#E5ECF6",
           "showlakes": true,
           "showland": true,
           "subunitcolor": "white"
          },
          "hoverlabel": {
           "align": "left"
          },
          "hovermode": "closest",
          "mapbox": {
           "style": "light"
          },
          "paper_bgcolor": "white",
          "plot_bgcolor": "#E5ECF6",
          "polar": {
           "angularaxis": {
            "gridcolor": "white",
            "linecolor": "white",
            "ticks": ""
           },
           "bgcolor": "#E5ECF6",
           "radialaxis": {
            "gridcolor": "white",
            "linecolor": "white",
            "ticks": ""
           }
          },
          "scene": {
           "xaxis": {
            "backgroundcolor": "#E5ECF6",
            "gridcolor": "white",
            "gridwidth": 2,
            "linecolor": "white",
            "showbackground": true,
            "ticks": "",
            "zerolinecolor": "white"
           },
           "yaxis": {
            "backgroundcolor": "#E5ECF6",
            "gridcolor": "white",
            "gridwidth": 2,
            "linecolor": "white",
            "showbackground": true,
            "ticks": "",
            "zerolinecolor": "white"
           },
           "zaxis": {
            "backgroundcolor": "#E5ECF6",
            "gridcolor": "white",
            "gridwidth": 2,
            "linecolor": "white",
            "showbackground": true,
            "ticks": "",
            "zerolinecolor": "white"
           }
          },
          "shapedefaults": {
           "line": {
            "color": "#2a3f5f"
           }
          },
          "ternary": {
           "aaxis": {
            "gridcolor": "white",
            "linecolor": "white",
            "ticks": ""
           },
           "baxis": {
            "gridcolor": "white",
            "linecolor": "white",
            "ticks": ""
           },
           "bgcolor": "#E5ECF6",
           "caxis": {
            "gridcolor": "white",
            "linecolor": "white",
            "ticks": ""
           }
          },
          "title": {
           "x": 0.05
          },
          "xaxis": {
           "automargin": true,
           "gridcolor": "white",
           "linecolor": "white",
           "ticks": "",
           "title": {
            "standoff": 15
           },
           "zerolinecolor": "white",
           "zerolinewidth": 2
          },
          "yaxis": {
           "automargin": true,
           "gridcolor": "white",
           "linecolor": "white",
           "ticks": "",
           "title": {
            "standoff": 15
           },
           "zerolinecolor": "white",
           "zerolinewidth": 2
          }
         }
        },
        "width": 500,
        "xaxis": {
         "anchor": "y",
         "domain": [
          0,
          1
         ],
         "title": {
          "text": "BES Average Fold Change"
         }
        },
        "yaxis": {
         "anchor": "x",
         "domain": [
          0,
          1
         ],
         "title": {
          "text": "MES Average Fold Change"
         }
        }
       }
      }
     },
     "metadata": {},
     "output_type": "display_data"
    }
   ],
   "source": [
    "\n",
    "# MC MES array\n",
    "from plotly.subplots import make_subplots\n",
    "import plotly.graph_objects as go\n",
    "import plotly.io as pio\n",
    "\n",
    "fig = make_subplots(\n",
    "    rows=1,\n",
    "    cols=1,\n",
    "    #subplot_titles=[\"MES vs Main VSG\"],\n",
    ")\n",
    "\n",
    "scatter = go.Scatter(\n",
    "    x=merge['BES'],\n",
    "    y=merge['MES'],\n",
    "    mode='markers',\n",
    "    text=list(merge.index.values),\n",
    "    hoverinfo='text',\n",
    "    name='scatter',\n",
    "    showlegend=False,\n",
    "    # hovertemplate='%{text}'\n",
    ")\n",
    "fig.add_trace(scatter, row=1, col=1)\n",
    "\n",
    "fig.update_layout(\n",
    "    width=500,\n",
    "    height=500,\n",
    "    showlegend=False,\n",
    "    hovermode='closest',\n",
    "    xaxis_title=\"BES Average Fold Change\",\n",
    "    yaxis_title=\"MES Average Fold Change\",\n",
    ")\n",
    "\n",
    "# Save as an exportable HTML file\n",
    "pio.write_html(\n",
    "    fig,\n",
    "    file=\"BES_vs_MES.html\",   # change path/name if you like\n",
    "    include_plotlyjs=\"cdn\",\n",
    "    full_html=True,\n",
    "    auto_open=False,\n",
    ")\n",
    "fig"
   ]
  },
  {
   "cell_type": "code",
   "execution_count": 16,
   "id": "9d88061d-eeba-4ec6-a288-ff6e1a0deaca",
   "metadata": {},
   "outputs": [
    {
     "data": {
      "application/vnd.plotly.v1+json": {
       "config": {
        "plotlyServerURL": "https://plot.ly"
       },
       "data": [
        {
         "hoverinfo": "text",
         "mode": "markers",
         "name": "scatter",
         "showlegend": false,
         "text": [
          "BDF2_1_KO48",
          "BDF3_1_KO24",
          "BET151_1_Drug12h",
          "BET151_1_Drug24h",
          "BET151_1_Drug3h",
          "BET151_1_Drug48h",
          "BET151_1_Drug6h",
          "BET151_1_Drug72h",
          "CAF1b_1_RNAi24",
          "CFB2_1_RNAi9",
          "DFO_1_DFO",
          "DFO_1_DFOFe",
          "DFO_1_Fe",
          "DRBD18_1_RNAi12",
          "H1_1_RNAi96",
          "H3H4_1_KOH3",
          "H3H4_1_KOH3J",
          "H3H4_1_KOH4",
          "H3H4_1_KOH4J",
          "H3H4_1_KOJ2",
          "H3H4_2_KO48",
          "H3H4_3_KO48",
          "H3_1_KOH3",
          "H3_1_KOH3J",
          "H3_1_KOJ",
          "IPMK_1_RNAi36",
          "IPMK_2_RNAi36",
          "MCMBP_1_KO24",
          "MCMBP_1_KO48",
          "PIP5Pase_1_KO",
          "PIP5Pase_2_D360A_N362A",
          "PNUTS_1_RNAi48",
          "RBP10_1_RNAi24",
          "RBP10_2_RNAi24",
          "RBP10_3_RNAi24",
          "RBP33_1_RNAi48",
          "RBP42_1_KO24",
          "RBP42_1_KO48",
          "RBP42_1_KO72",
          "RNaseH1_1_KO",
          "RNaseH2A_1_RNAi24",
          "RNaseH2A_2_RNAi36",
          "SET27_1_KO",
          "SET27_1_sKO",
          "SNF2PH_1_RNAi48",
          "TFR_1_RNAi24",
          "TbATR_1_RNAi24",
          "TbATR_2_RNAi36",
          "TbESB1_1_RNAi24",
          "TbESB1_2_KO48",
          "TbESB1_3_OE24",
          "TbHAT_1_RNAi48HAT1",
          "TbHAT_1_RNAi48HAT2",
          "TbPP1one_1_RNAi24",
          "TbPP1seven_1_RNAi24",
          "TbRAP1_1_2SD",
          "TbRAP1_1_5A",
          "TbRAP1_1_KO",
          "TbRAP1_2_dMyb",
          "TbSAP_1_RNAi72",
          "VEX1_1_Oe72",
          "VEX1_2_RNAi72",
          "VEX1_4_RNAi24",
          "VEX1_5_RNAi48",
          "VEX1_6_RNAi72",
          "VEX1and2_1_RNAi24",
          "VEX1and2_1_RNAi48",
          "VEX2_1_RNAi24",
          "VEX2_1_RNAi48",
          "ZC3H28_1_RNAi10",
          "ZC3H28_1_RNAi14",
          "ZC3H28_1_RNAi16",
          "ZC3H28_1_RNAi24",
          "ZC3H40_1_RNAi72",
          "ZC3H5_2_RNAi12",
          "ZC3H5_3_RNAi12",
          "ZC3H5_4_RNAi12",
          "ZC3H5_5_RNAi12"
         ],
         "type": "scatter",
         "x": {
          "bdata": "CvZy6uLf8D8LNra6z6wDQAAAAAAAAPA/4hndrs2c6z9FrW2O+DzxP1u7nKSzPOg/5oA1AsFR8D/1iCZnjjvrP8Ytjqs7EAxAWIQzIJdR8D9LWqDU8RDwP6YIyTcZC/A/YCtjzKwj8D83MgmyRvbvP7f0l82DWQ9AatysR5/z+D/skCcWIVoHQAAAAAAAAPA/9VhiYWS38D9y+ssNzgfpP4dQ9NN73wBAcvh/WRkJ/z+ZrN0t04kCQGjmFt8wrABAOR08rZuA7D/UtFCtrT/wPwAAAAAAAPA/O2gjyCK0BEDH7xkR79saQA50o9NqjklAlNqoGQCTJkClZPB61CwDQBU+iEhdSPE/AAAAAAAA8D8u8ru42QjvP+k9usrVxvQ/O0goYLXQ8z91WX4VS7/sP8eJK3WDIuw/wOpu/qy28D83FR1zOTz5P4/1ZyvjP/o/1yBmPeAVD0CnW2Xu/ysAQJEsjHykJvM/kp4/UjsN9D9mfufJTmEDQGBtbVcGMChAkojkuRjE/j8fH0mhKIjlP2rx0/UqKAhAXG7l8a0d3j+8Tec00uzuPz6LVP2y8EZAzz98QEfa5z+uApItkfg6QNj5qsQ4kTNAbiP12zNYTED1azmNMcdWQIviMRu/pwVA+FmxRj5bGEAWUNi/goUAQJepOhhVafQ/8xNZ0TDl+j+wjOrzMUYAQBDN5vyN7k9Agp6ljkQtTUC0vNMoahBIQD+Nx3HR3EdAYDpGd5a77z+zdiBVWgHuP8o5Qc6ps+0/yTREi5BO7T9N39nM3IP/P9smcDdJZO8/fCWeoro97T/KWZLnr1LuP1SMc+HXNuU/",
          "dtype": "f8"
         },
         "xaxis": "x",
         "y": {
          "bdata": "AAAAAAAA8D/OUk2QpGjwPwAAAAAAAPA/AAAAAAAA8D8AAAAAAADwPwAAAAAAAPA/AAAAAAAA8D8AAAAAAADwP5UB+MVAhvA/E0wAJWHI7z8AAAAAAADwPwAAAAAAAPA/AAAAAAAA8D8AAAAAAADwPwAAAAAAAPA/YEXlO9JD8D+KxBF2cJjxPwAAAAAAAPA/AAAAAAAA8D8AAAAAAADwP28luks/WPI/gAaNBLvq8T/32j5mAT7wP5PmVrKkqPA/AAAAAAAA8D8AAAAAAADwPwAAAAAAAPA/OuKgV7kI8D8UeIpfg/LxP4ySLZMPghJAENHyXCD/AUAht2o2BiPxPwAAAAAAAPA/AAAAAAAA8D8AAAAAAADwP1nXVIjQTfQ//78GdA4H8D+ieu2GKxXwP4AmokBYD/E/AAAAAAAA8D8AAAAAAADwP3lXGRqkCvE/YF6/PVBf8D8AAAAAAADwPwAAAAAAAPA/+Fka+D8B8D+8yfTN1EXwP2TwTixUH/I/AjmhZiwv8D8ockjE2FjwP5Fy2Obc9u8/0p6YUT/B7j/z3KHcAxLvPy0BSIdwDgJAAZvXpKWz7z/j9fzf8DUFQKUjt+5czPk/DSaNNa8wAUASL+/7zMsMQJQTPL80CfE/1oQ4OweW8D8bfpHKSWXwPwAAAAAAAPA/AAAAAAAA8D8AAAAAAADwPwcJ87/Bb/A/A1WetCDR8D/8EWwgCEjwP9aBBmBGnPA/bE1YnmSl7z8YZOBnPXPwP2jVT3MgDvA/t6nnHE1h7z/pye6XhwTwP/9B8BzXDfE/AAAAAAAA8D8AAAAAAADwPwAAAAAAAPA/",
          "dtype": "f8"
         },
         "yaxis": "y"
        }
       ],
       "layout": {
        "height": 500,
        "hovermode": "closest",
        "showlegend": false,
        "template": {
         "data": {
          "bar": [
           {
            "error_x": {
             "color": "#2a3f5f"
            },
            "error_y": {
             "color": "#2a3f5f"
            },
            "marker": {
             "line": {
              "color": "#E5ECF6",
              "width": 0.5
             },
             "pattern": {
              "fillmode": "overlay",
              "size": 10,
              "solidity": 0.2
             }
            },
            "type": "bar"
           }
          ],
          "barpolar": [
           {
            "marker": {
             "line": {
              "color": "#E5ECF6",
              "width": 0.5
             },
             "pattern": {
              "fillmode": "overlay",
              "size": 10,
              "solidity": 0.2
             }
            },
            "type": "barpolar"
           }
          ],
          "carpet": [
           {
            "aaxis": {
             "endlinecolor": "#2a3f5f",
             "gridcolor": "white",
             "linecolor": "white",
             "minorgridcolor": "white",
             "startlinecolor": "#2a3f5f"
            },
            "baxis": {
             "endlinecolor": "#2a3f5f",
             "gridcolor": "white",
             "linecolor": "white",
             "minorgridcolor": "white",
             "startlinecolor": "#2a3f5f"
            },
            "type": "carpet"
           }
          ],
          "choropleth": [
           {
            "colorbar": {
             "outlinewidth": 0,
             "ticks": ""
            },
            "type": "choropleth"
           }
          ],
          "contour": [
           {
            "colorbar": {
             "outlinewidth": 0,
             "ticks": ""
            },
            "colorscale": [
             [
              0,
              "#0d0887"
             ],
             [
              0.1111111111111111,
              "#46039f"
             ],
             [
              0.2222222222222222,
              "#7201a8"
             ],
             [
              0.3333333333333333,
              "#9c179e"
             ],
             [
              0.4444444444444444,
              "#bd3786"
             ],
             [
              0.5555555555555556,
              "#d8576b"
             ],
             [
              0.6666666666666666,
              "#ed7953"
             ],
             [
              0.7777777777777778,
              "#fb9f3a"
             ],
             [
              0.8888888888888888,
              "#fdca26"
             ],
             [
              1,
              "#f0f921"
             ]
            ],
            "type": "contour"
           }
          ],
          "contourcarpet": [
           {
            "colorbar": {
             "outlinewidth": 0,
             "ticks": ""
            },
            "type": "contourcarpet"
           }
          ],
          "heatmap": [
           {
            "colorbar": {
             "outlinewidth": 0,
             "ticks": ""
            },
            "colorscale": [
             [
              0,
              "#0d0887"
             ],
             [
              0.1111111111111111,
              "#46039f"
             ],
             [
              0.2222222222222222,
              "#7201a8"
             ],
             [
              0.3333333333333333,
              "#9c179e"
             ],
             [
              0.4444444444444444,
              "#bd3786"
             ],
             [
              0.5555555555555556,
              "#d8576b"
             ],
             [
              0.6666666666666666,
              "#ed7953"
             ],
             [
              0.7777777777777778,
              "#fb9f3a"
             ],
             [
              0.8888888888888888,
              "#fdca26"
             ],
             [
              1,
              "#f0f921"
             ]
            ],
            "type": "heatmap"
           }
          ],
          "histogram": [
           {
            "marker": {
             "pattern": {
              "fillmode": "overlay",
              "size": 10,
              "solidity": 0.2
             }
            },
            "type": "histogram"
           }
          ],
          "histogram2d": [
           {
            "colorbar": {
             "outlinewidth": 0,
             "ticks": ""
            },
            "colorscale": [
             [
              0,
              "#0d0887"
             ],
             [
              0.1111111111111111,
              "#46039f"
             ],
             [
              0.2222222222222222,
              "#7201a8"
             ],
             [
              0.3333333333333333,
              "#9c179e"
             ],
             [
              0.4444444444444444,
              "#bd3786"
             ],
             [
              0.5555555555555556,
              "#d8576b"
             ],
             [
              0.6666666666666666,
              "#ed7953"
             ],
             [
              0.7777777777777778,
              "#fb9f3a"
             ],
             [
              0.8888888888888888,
              "#fdca26"
             ],
             [
              1,
              "#f0f921"
             ]
            ],
            "type": "histogram2d"
           }
          ],
          "histogram2dcontour": [
           {
            "colorbar": {
             "outlinewidth": 0,
             "ticks": ""
            },
            "colorscale": [
             [
              0,
              "#0d0887"
             ],
             [
              0.1111111111111111,
              "#46039f"
             ],
             [
              0.2222222222222222,
              "#7201a8"
             ],
             [
              0.3333333333333333,
              "#9c179e"
             ],
             [
              0.4444444444444444,
              "#bd3786"
             ],
             [
              0.5555555555555556,
              "#d8576b"
             ],
             [
              0.6666666666666666,
              "#ed7953"
             ],
             [
              0.7777777777777778,
              "#fb9f3a"
             ],
             [
              0.8888888888888888,
              "#fdca26"
             ],
             [
              1,
              "#f0f921"
             ]
            ],
            "type": "histogram2dcontour"
           }
          ],
          "mesh3d": [
           {
            "colorbar": {
             "outlinewidth": 0,
             "ticks": ""
            },
            "type": "mesh3d"
           }
          ],
          "parcoords": [
           {
            "line": {
             "colorbar": {
              "outlinewidth": 0,
              "ticks": ""
             }
            },
            "type": "parcoords"
           }
          ],
          "pie": [
           {
            "automargin": true,
            "type": "pie"
           }
          ],
          "scatter": [
           {
            "fillpattern": {
             "fillmode": "overlay",
             "size": 10,
             "solidity": 0.2
            },
            "type": "scatter"
           }
          ],
          "scatter3d": [
           {
            "line": {
             "colorbar": {
              "outlinewidth": 0,
              "ticks": ""
             }
            },
            "marker": {
             "colorbar": {
              "outlinewidth": 0,
              "ticks": ""
             }
            },
            "type": "scatter3d"
           }
          ],
          "scattercarpet": [
           {
            "marker": {
             "colorbar": {
              "outlinewidth": 0,
              "ticks": ""
             }
            },
            "type": "scattercarpet"
           }
          ],
          "scattergeo": [
           {
            "marker": {
             "colorbar": {
              "outlinewidth": 0,
              "ticks": ""
             }
            },
            "type": "scattergeo"
           }
          ],
          "scattergl": [
           {
            "marker": {
             "colorbar": {
              "outlinewidth": 0,
              "ticks": ""
             }
            },
            "type": "scattergl"
           }
          ],
          "scattermap": [
           {
            "marker": {
             "colorbar": {
              "outlinewidth": 0,
              "ticks": ""
             }
            },
            "type": "scattermap"
           }
          ],
          "scattermapbox": [
           {
            "marker": {
             "colorbar": {
              "outlinewidth": 0,
              "ticks": ""
             }
            },
            "type": "scattermapbox"
           }
          ],
          "scatterpolar": [
           {
            "marker": {
             "colorbar": {
              "outlinewidth": 0,
              "ticks": ""
             }
            },
            "type": "scatterpolar"
           }
          ],
          "scatterpolargl": [
           {
            "marker": {
             "colorbar": {
              "outlinewidth": 0,
              "ticks": ""
             }
            },
            "type": "scatterpolargl"
           }
          ],
          "scatterternary": [
           {
            "marker": {
             "colorbar": {
              "outlinewidth": 0,
              "ticks": ""
             }
            },
            "type": "scatterternary"
           }
          ],
          "surface": [
           {
            "colorbar": {
             "outlinewidth": 0,
             "ticks": ""
            },
            "colorscale": [
             [
              0,
              "#0d0887"
             ],
             [
              0.1111111111111111,
              "#46039f"
             ],
             [
              0.2222222222222222,
              "#7201a8"
             ],
             [
              0.3333333333333333,
              "#9c179e"
             ],
             [
              0.4444444444444444,
              "#bd3786"
             ],
             [
              0.5555555555555556,
              "#d8576b"
             ],
             [
              0.6666666666666666,
              "#ed7953"
             ],
             [
              0.7777777777777778,
              "#fb9f3a"
             ],
             [
              0.8888888888888888,
              "#fdca26"
             ],
             [
              1,
              "#f0f921"
             ]
            ],
            "type": "surface"
           }
          ],
          "table": [
           {
            "cells": {
             "fill": {
              "color": "#EBF0F8"
             },
             "line": {
              "color": "white"
             }
            },
            "header": {
             "fill": {
              "color": "#C8D4E3"
             },
             "line": {
              "color": "white"
             }
            },
            "type": "table"
           }
          ]
         },
         "layout": {
          "annotationdefaults": {
           "arrowcolor": "#2a3f5f",
           "arrowhead": 0,
           "arrowwidth": 1
          },
          "autotypenumbers": "strict",
          "coloraxis": {
           "colorbar": {
            "outlinewidth": 0,
            "ticks": ""
           }
          },
          "colorscale": {
           "diverging": [
            [
             0,
             "#8e0152"
            ],
            [
             0.1,
             "#c51b7d"
            ],
            [
             0.2,
             "#de77ae"
            ],
            [
             0.3,
             "#f1b6da"
            ],
            [
             0.4,
             "#fde0ef"
            ],
            [
             0.5,
             "#f7f7f7"
            ],
            [
             0.6,
             "#e6f5d0"
            ],
            [
             0.7,
             "#b8e186"
            ],
            [
             0.8,
             "#7fbc41"
            ],
            [
             0.9,
             "#4d9221"
            ],
            [
             1,
             "#276419"
            ]
           ],
           "sequential": [
            [
             0,
             "#0d0887"
            ],
            [
             0.1111111111111111,
             "#46039f"
            ],
            [
             0.2222222222222222,
             "#7201a8"
            ],
            [
             0.3333333333333333,
             "#9c179e"
            ],
            [
             0.4444444444444444,
             "#bd3786"
            ],
            [
             0.5555555555555556,
             "#d8576b"
            ],
            [
             0.6666666666666666,
             "#ed7953"
            ],
            [
             0.7777777777777778,
             "#fb9f3a"
            ],
            [
             0.8888888888888888,
             "#fdca26"
            ],
            [
             1,
             "#f0f921"
            ]
           ],
           "sequentialminus": [
            [
             0,
             "#0d0887"
            ],
            [
             0.1111111111111111,
             "#46039f"
            ],
            [
             0.2222222222222222,
             "#7201a8"
            ],
            [
             0.3333333333333333,
             "#9c179e"
            ],
            [
             0.4444444444444444,
             "#bd3786"
            ],
            [
             0.5555555555555556,
             "#d8576b"
            ],
            [
             0.6666666666666666,
             "#ed7953"
            ],
            [
             0.7777777777777778,
             "#fb9f3a"
            ],
            [
             0.8888888888888888,
             "#fdca26"
            ],
            [
             1,
             "#f0f921"
            ]
           ]
          },
          "colorway": [
           "#636efa",
           "#EF553B",
           "#00cc96",
           "#ab63fa",
           "#FFA15A",
           "#19d3f3",
           "#FF6692",
           "#B6E880",
           "#FF97FF",
           "#FECB52"
          ],
          "font": {
           "color": "#2a3f5f"
          },
          "geo": {
           "bgcolor": "white",
           "lakecolor": "white",
           "landcolor": "#E5ECF6",
           "showlakes": true,
           "showland": true,
           "subunitcolor": "white"
          },
          "hoverlabel": {
           "align": "left"
          },
          "hovermode": "closest",
          "mapbox": {
           "style": "light"
          },
          "paper_bgcolor": "white",
          "plot_bgcolor": "#E5ECF6",
          "polar": {
           "angularaxis": {
            "gridcolor": "white",
            "linecolor": "white",
            "ticks": ""
           },
           "bgcolor": "#E5ECF6",
           "radialaxis": {
            "gridcolor": "white",
            "linecolor": "white",
            "ticks": ""
           }
          },
          "scene": {
           "xaxis": {
            "backgroundcolor": "#E5ECF6",
            "gridcolor": "white",
            "gridwidth": 2,
            "linecolor": "white",
            "showbackground": true,
            "ticks": "",
            "zerolinecolor": "white"
           },
           "yaxis": {
            "backgroundcolor": "#E5ECF6",
            "gridcolor": "white",
            "gridwidth": 2,
            "linecolor": "white",
            "showbackground": true,
            "ticks": "",
            "zerolinecolor": "white"
           },
           "zaxis": {
            "backgroundcolor": "#E5ECF6",
            "gridcolor": "white",
            "gridwidth": 2,
            "linecolor": "white",
            "showbackground": true,
            "ticks": "",
            "zerolinecolor": "white"
           }
          },
          "shapedefaults": {
           "line": {
            "color": "#2a3f5f"
           }
          },
          "ternary": {
           "aaxis": {
            "gridcolor": "white",
            "linecolor": "white",
            "ticks": ""
           },
           "baxis": {
            "gridcolor": "white",
            "linecolor": "white",
            "ticks": ""
           },
           "bgcolor": "#E5ECF6",
           "caxis": {
            "gridcolor": "white",
            "linecolor": "white",
            "ticks": ""
           }
          },
          "title": {
           "x": 0.05
          },
          "xaxis": {
           "automargin": true,
           "gridcolor": "white",
           "linecolor": "white",
           "ticks": "",
           "title": {
            "standoff": 15
           },
           "zerolinecolor": "white",
           "zerolinewidth": 2
          },
          "yaxis": {
           "automargin": true,
           "gridcolor": "white",
           "linecolor": "white",
           "ticks": "",
           "title": {
            "standoff": 15
           },
           "zerolinecolor": "white",
           "zerolinewidth": 2
          }
         }
        },
        "width": 500,
        "xaxis": {
         "anchor": "y",
         "domain": [
          0,
          1
         ],
         "title": {
          "text": "BES Average Fold Change"
         }
        },
        "yaxis": {
         "anchor": "x",
         "domain": [
          0,
          1
         ],
         "title": {
          "text": "MC Average Fold Change"
         }
        }
       }
      }
     },
     "metadata": {},
     "output_type": "display_data"
    }
   ],
   "source": [
    "# MC MES array\n",
    "from plotly.subplots import make_subplots\n",
    "import plotly.graph_objects as go\n",
    "import plotly.io as pio\n",
    "\n",
    "fig = make_subplots(\n",
    "    rows=1,\n",
    "    cols=1,\n",
    "    #subplot_titles=[\"MES vs Main VSG\"],\n",
    ")\n",
    "\n",
    "scatter = go.Scatter(\n",
    "    x=merge['BES'],\n",
    "    y=merge['MC'],\n",
    "    mode='markers',\n",
    "    text=list(merge.index.values),\n",
    "    hoverinfo='text',\n",
    "    name='scatter',\n",
    "    showlegend=False,\n",
    "    # hovertemplate='%{text}'\n",
    ")\n",
    "fig.add_trace(scatter, row=1, col=1)\n",
    "\n",
    "fig.update_layout(\n",
    "    width=500,\n",
    "    height=500,\n",
    "    showlegend=False,\n",
    "    hovermode='closest',\n",
    "    xaxis_title=\"BES Average Fold Change\",\n",
    "    yaxis_title=\"MC Average Fold Change\",\n",
    ")\n",
    "\n",
    "# Save as an exportable HTML file\n",
    "pio.write_html(\n",
    "    fig,\n",
    "    file=\"BES_vs_MC.html\",   # change path/name if you like\n",
    "    include_plotlyjs=\"cdn\",\n",
    "    full_html=True,\n",
    "    auto_open=False,\n",
    ")\n",
    "fig"
   ]
  },
  {
   "cell_type": "code",
   "execution_count": 17,
   "id": "4fcfbef1-0d80-4caa-a6d5-550d16ea79f4",
   "metadata": {},
   "outputs": [
    {
     "data": {
      "application/vnd.plotly.v1+json": {
       "config": {
        "plotlyServerURL": "https://plot.ly"
       },
       "data": [
        {
         "hoverinfo": "text",
         "mode": "markers",
         "name": "scatter",
         "showlegend": false,
         "text": [
          "BDF2_1_KO48",
          "BDF3_1_KO24",
          "BET151_1_Drug12h",
          "BET151_1_Drug24h",
          "BET151_1_Drug3h",
          "BET151_1_Drug48h",
          "BET151_1_Drug6h",
          "BET151_1_Drug72h",
          "CAF1b_1_RNAi24",
          "CFB2_1_RNAi9",
          "DFO_1_DFO",
          "DFO_1_DFOFe",
          "DFO_1_Fe",
          "DRBD18_1_RNAi12",
          "H1_1_RNAi96",
          "H3H4_1_KOH3",
          "H3H4_1_KOH3J",
          "H3H4_1_KOH4",
          "H3H4_1_KOH4J",
          "H3H4_1_KOJ2",
          "H3H4_2_KO48",
          "H3H4_3_KO48",
          "H3_1_KOH3",
          "H3_1_KOH3J",
          "H3_1_KOJ",
          "IPMK_1_RNAi36",
          "IPMK_2_RNAi36",
          "MCMBP_1_KO24",
          "MCMBP_1_KO48",
          "PIP5Pase_1_KO",
          "PIP5Pase_2_D360A_N362A",
          "PNUTS_1_RNAi48",
          "RBP10_1_RNAi24",
          "RBP10_2_RNAi24",
          "RBP10_3_RNAi24",
          "RBP33_1_RNAi48",
          "RBP42_1_KO24",
          "RBP42_1_KO48",
          "RBP42_1_KO72",
          "RNaseH1_1_KO",
          "RNaseH2A_1_RNAi24",
          "RNaseH2A_2_RNAi36",
          "SET27_1_KO",
          "SET27_1_sKO",
          "SNF2PH_1_RNAi48",
          "TFR_1_RNAi24",
          "TbATR_1_RNAi24",
          "TbATR_2_RNAi36",
          "TbESB1_1_RNAi24",
          "TbESB1_2_KO48",
          "TbESB1_3_OE24",
          "TbHAT_1_RNAi48HAT1",
          "TbHAT_1_RNAi48HAT2",
          "TbPP1one_1_RNAi24",
          "TbPP1seven_1_RNAi24",
          "TbRAP1_1_2SD",
          "TbRAP1_1_5A",
          "TbRAP1_1_KO",
          "TbRAP1_2_dMyb",
          "TbSAP_1_RNAi72",
          "VEX1_1_Oe72",
          "VEX1_2_RNAi72",
          "VEX1_4_RNAi24",
          "VEX1_5_RNAi48",
          "VEX1_6_RNAi72",
          "VEX1and2_1_RNAi24",
          "VEX1and2_1_RNAi48",
          "VEX2_1_RNAi24",
          "VEX2_1_RNAi48",
          "ZC3H28_1_RNAi10",
          "ZC3H28_1_RNAi14",
          "ZC3H28_1_RNAi16",
          "ZC3H28_1_RNAi24",
          "ZC3H40_1_RNAi72",
          "ZC3H5_2_RNAi12",
          "ZC3H5_3_RNAi12",
          "ZC3H5_4_RNAi12",
          "ZC3H5_5_RNAi12"
         ],
         "type": "scatter",
         "x": {
          "bdata": "CvZy6uLf8D8LNra6z6wDQAAAAAAAAPA/4hndrs2c6z9FrW2O+DzxP1u7nKSzPOg/5oA1AsFR8D/1iCZnjjvrP8Ytjqs7EAxAWIQzIJdR8D9LWqDU8RDwP6YIyTcZC/A/YCtjzKwj8D83MgmyRvbvP7f0l82DWQ9AatysR5/z+D/skCcWIVoHQAAAAAAAAPA/9VhiYWS38D9y+ssNzgfpP4dQ9NN73wBAcvh/WRkJ/z+ZrN0t04kCQGjmFt8wrABAOR08rZuA7D/UtFCtrT/wPwAAAAAAAPA/O2gjyCK0BEDH7xkR79saQA50o9NqjklAlNqoGQCTJkClZPB61CwDQBU+iEhdSPE/AAAAAAAA8D8u8ru42QjvP+k9usrVxvQ/O0goYLXQ8z91WX4VS7/sP8eJK3WDIuw/wOpu/qy28D83FR1zOTz5P4/1ZyvjP/o/1yBmPeAVD0CnW2Xu/ysAQJEsjHykJvM/kp4/UjsN9D9mfufJTmEDQGBtbVcGMChAkojkuRjE/j8fH0mhKIjlP2rx0/UqKAhAXG7l8a0d3j+8Tec00uzuPz6LVP2y8EZAzz98QEfa5z+uApItkfg6QNj5qsQ4kTNAbiP12zNYTED1azmNMcdWQIviMRu/pwVA+FmxRj5bGEAWUNi/goUAQJepOhhVafQ/8xNZ0TDl+j+wjOrzMUYAQBDN5vyN7k9Agp6ljkQtTUC0vNMoahBIQD+Nx3HR3EdAYDpGd5a77z+zdiBVWgHuP8o5Qc6ps+0/yTREi5BO7T9N39nM3IP/P9smcDdJZO8/fCWeoro97T/KWZLnr1LuP1SMc+HXNuU/",
          "dtype": "f8"
         },
         "xaxis": "x",
         "y": {
          "bdata": "AAAAAAAA8D/OUk2QpGjwPwAAAAAAAPA/AAAAAAAA8D8AAAAAAADwPwAAAAAAAPA/AAAAAAAA8D9SWyP7XpzwP1lAJZt2xvA/8fLLvxDF7z8AAAAAAADwPwAAAAAAAPA/AAAAAAAA8D8AAAAAAADwPwAAAAAAAPA/AAAAAAAA8D8AAAAAAADwPwAAAAAAAPA/AAAAAAAA8D8AAAAAAADwP/FFr2j1yvA/rDTmZkeU8D8AAAAAAADwP7M60ie2FvA/AAAAAAAA8D/2cUySVQHwPwAAAAAAAPA/rAZFTo9b8D8BwFFRJs7yP9rkg2VVWDBAEv/MGcUREEBB5vWZ/9zwPwAAAAAAAPA/AAAAAAAA8D8AAAAAAADwP8Z7059qdwVAsZkPfs4D8D8x6oaoDTLwP78etbsh1vE/AAAAAAAA8D8AAAAAAADwP4b59JV2tPA/2HUVjfn+8D8AAAAAAADwPwAAAAAAAPA/2zLRJnoV8D/9r8pg3znwP/Ml2kbJ1/E/dXQNQjBD8D9aLxjs69TwPwAAAAAAAPA/AAAAAAAA8D+RJ4BBqAbwP7HbvCm8lhBAAAAAAAAA8D81qMq0DMkZQGC2ro4Zqw1AzMx7bb2aEUCSQyRrzcYhQIFE5aHqC/E/AvDjQVEr8T8AAAAAAADwPwAAAAAAAPA/AAAAAAAA8D8AAAAAAADwP/cRavQsOvA/7EPfwz6P8D+udIOva0vwP3ks08oQc/A/Nh7opxih7z8AAAAAAADwP0y1hRVsue8/TtBeLzeN7z8AAAAAAADwP1sQMZjPBPE/AAAAAAAA8D8AAAAAAADwPwAAAAAAAPA/",
          "dtype": "f8"
         },
         "yaxis": "y"
        }
       ],
       "layout": {
        "height": 500,
        "hovermode": "closest",
        "showlegend": false,
        "template": {
         "data": {
          "bar": [
           {
            "error_x": {
             "color": "#2a3f5f"
            },
            "error_y": {
             "color": "#2a3f5f"
            },
            "marker": {
             "line": {
              "color": "#E5ECF6",
              "width": 0.5
             },
             "pattern": {
              "fillmode": "overlay",
              "size": 10,
              "solidity": 0.2
             }
            },
            "type": "bar"
           }
          ],
          "barpolar": [
           {
            "marker": {
             "line": {
              "color": "#E5ECF6",
              "width": 0.5
             },
             "pattern": {
              "fillmode": "overlay",
              "size": 10,
              "solidity": 0.2
             }
            },
            "type": "barpolar"
           }
          ],
          "carpet": [
           {
            "aaxis": {
             "endlinecolor": "#2a3f5f",
             "gridcolor": "white",
             "linecolor": "white",
             "minorgridcolor": "white",
             "startlinecolor": "#2a3f5f"
            },
            "baxis": {
             "endlinecolor": "#2a3f5f",
             "gridcolor": "white",
             "linecolor": "white",
             "minorgridcolor": "white",
             "startlinecolor": "#2a3f5f"
            },
            "type": "carpet"
           }
          ],
          "choropleth": [
           {
            "colorbar": {
             "outlinewidth": 0,
             "ticks": ""
            },
            "type": "choropleth"
           }
          ],
          "contour": [
           {
            "colorbar": {
             "outlinewidth": 0,
             "ticks": ""
            },
            "colorscale": [
             [
              0,
              "#0d0887"
             ],
             [
              0.1111111111111111,
              "#46039f"
             ],
             [
              0.2222222222222222,
              "#7201a8"
             ],
             [
              0.3333333333333333,
              "#9c179e"
             ],
             [
              0.4444444444444444,
              "#bd3786"
             ],
             [
              0.5555555555555556,
              "#d8576b"
             ],
             [
              0.6666666666666666,
              "#ed7953"
             ],
             [
              0.7777777777777778,
              "#fb9f3a"
             ],
             [
              0.8888888888888888,
              "#fdca26"
             ],
             [
              1,
              "#f0f921"
             ]
            ],
            "type": "contour"
           }
          ],
          "contourcarpet": [
           {
            "colorbar": {
             "outlinewidth": 0,
             "ticks": ""
            },
            "type": "contourcarpet"
           }
          ],
          "heatmap": [
           {
            "colorbar": {
             "outlinewidth": 0,
             "ticks": ""
            },
            "colorscale": [
             [
              0,
              "#0d0887"
             ],
             [
              0.1111111111111111,
              "#46039f"
             ],
             [
              0.2222222222222222,
              "#7201a8"
             ],
             [
              0.3333333333333333,
              "#9c179e"
             ],
             [
              0.4444444444444444,
              "#bd3786"
             ],
             [
              0.5555555555555556,
              "#d8576b"
             ],
             [
              0.6666666666666666,
              "#ed7953"
             ],
             [
              0.7777777777777778,
              "#fb9f3a"
             ],
             [
              0.8888888888888888,
              "#fdca26"
             ],
             [
              1,
              "#f0f921"
             ]
            ],
            "type": "heatmap"
           }
          ],
          "histogram": [
           {
            "marker": {
             "pattern": {
              "fillmode": "overlay",
              "size": 10,
              "solidity": 0.2
             }
            },
            "type": "histogram"
           }
          ],
          "histogram2d": [
           {
            "colorbar": {
             "outlinewidth": 0,
             "ticks": ""
            },
            "colorscale": [
             [
              0,
              "#0d0887"
             ],
             [
              0.1111111111111111,
              "#46039f"
             ],
             [
              0.2222222222222222,
              "#7201a8"
             ],
             [
              0.3333333333333333,
              "#9c179e"
             ],
             [
              0.4444444444444444,
              "#bd3786"
             ],
             [
              0.5555555555555556,
              "#d8576b"
             ],
             [
              0.6666666666666666,
              "#ed7953"
             ],
             [
              0.7777777777777778,
              "#fb9f3a"
             ],
             [
              0.8888888888888888,
              "#fdca26"
             ],
             [
              1,
              "#f0f921"
             ]
            ],
            "type": "histogram2d"
           }
          ],
          "histogram2dcontour": [
           {
            "colorbar": {
             "outlinewidth": 0,
             "ticks": ""
            },
            "colorscale": [
             [
              0,
              "#0d0887"
             ],
             [
              0.1111111111111111,
              "#46039f"
             ],
             [
              0.2222222222222222,
              "#7201a8"
             ],
             [
              0.3333333333333333,
              "#9c179e"
             ],
             [
              0.4444444444444444,
              "#bd3786"
             ],
             [
              0.5555555555555556,
              "#d8576b"
             ],
             [
              0.6666666666666666,
              "#ed7953"
             ],
             [
              0.7777777777777778,
              "#fb9f3a"
             ],
             [
              0.8888888888888888,
              "#fdca26"
             ],
             [
              1,
              "#f0f921"
             ]
            ],
            "type": "histogram2dcontour"
           }
          ],
          "mesh3d": [
           {
            "colorbar": {
             "outlinewidth": 0,
             "ticks": ""
            },
            "type": "mesh3d"
           }
          ],
          "parcoords": [
           {
            "line": {
             "colorbar": {
              "outlinewidth": 0,
              "ticks": ""
             }
            },
            "type": "parcoords"
           }
          ],
          "pie": [
           {
            "automargin": true,
            "type": "pie"
           }
          ],
          "scatter": [
           {
            "fillpattern": {
             "fillmode": "overlay",
             "size": 10,
             "solidity": 0.2
            },
            "type": "scatter"
           }
          ],
          "scatter3d": [
           {
            "line": {
             "colorbar": {
              "outlinewidth": 0,
              "ticks": ""
             }
            },
            "marker": {
             "colorbar": {
              "outlinewidth": 0,
              "ticks": ""
             }
            },
            "type": "scatter3d"
           }
          ],
          "scattercarpet": [
           {
            "marker": {
             "colorbar": {
              "outlinewidth": 0,
              "ticks": ""
             }
            },
            "type": "scattercarpet"
           }
          ],
          "scattergeo": [
           {
            "marker": {
             "colorbar": {
              "outlinewidth": 0,
              "ticks": ""
             }
            },
            "type": "scattergeo"
           }
          ],
          "scattergl": [
           {
            "marker": {
             "colorbar": {
              "outlinewidth": 0,
              "ticks": ""
             }
            },
            "type": "scattergl"
           }
          ],
          "scattermap": [
           {
            "marker": {
             "colorbar": {
              "outlinewidth": 0,
              "ticks": ""
             }
            },
            "type": "scattermap"
           }
          ],
          "scattermapbox": [
           {
            "marker": {
             "colorbar": {
              "outlinewidth": 0,
              "ticks": ""
             }
            },
            "type": "scattermapbox"
           }
          ],
          "scatterpolar": [
           {
            "marker": {
             "colorbar": {
              "outlinewidth": 0,
              "ticks": ""
             }
            },
            "type": "scatterpolar"
           }
          ],
          "scatterpolargl": [
           {
            "marker": {
             "colorbar": {
              "outlinewidth": 0,
              "ticks": ""
             }
            },
            "type": "scatterpolargl"
           }
          ],
          "scatterternary": [
           {
            "marker": {
             "colorbar": {
              "outlinewidth": 0,
              "ticks": ""
             }
            },
            "type": "scatterternary"
           }
          ],
          "surface": [
           {
            "colorbar": {
             "outlinewidth": 0,
             "ticks": ""
            },
            "colorscale": [
             [
              0,
              "#0d0887"
             ],
             [
              0.1111111111111111,
              "#46039f"
             ],
             [
              0.2222222222222222,
              "#7201a8"
             ],
             [
              0.3333333333333333,
              "#9c179e"
             ],
             [
              0.4444444444444444,
              "#bd3786"
             ],
             [
              0.5555555555555556,
              "#d8576b"
             ],
             [
              0.6666666666666666,
              "#ed7953"
             ],
             [
              0.7777777777777778,
              "#fb9f3a"
             ],
             [
              0.8888888888888888,
              "#fdca26"
             ],
             [
              1,
              "#f0f921"
             ]
            ],
            "type": "surface"
           }
          ],
          "table": [
           {
            "cells": {
             "fill": {
              "color": "#EBF0F8"
             },
             "line": {
              "color": "white"
             }
            },
            "header": {
             "fill": {
              "color": "#C8D4E3"
             },
             "line": {
              "color": "white"
             }
            },
            "type": "table"
           }
          ]
         },
         "layout": {
          "annotationdefaults": {
           "arrowcolor": "#2a3f5f",
           "arrowhead": 0,
           "arrowwidth": 1
          },
          "autotypenumbers": "strict",
          "coloraxis": {
           "colorbar": {
            "outlinewidth": 0,
            "ticks": ""
           }
          },
          "colorscale": {
           "diverging": [
            [
             0,
             "#8e0152"
            ],
            [
             0.1,
             "#c51b7d"
            ],
            [
             0.2,
             "#de77ae"
            ],
            [
             0.3,
             "#f1b6da"
            ],
            [
             0.4,
             "#fde0ef"
            ],
            [
             0.5,
             "#f7f7f7"
            ],
            [
             0.6,
             "#e6f5d0"
            ],
            [
             0.7,
             "#b8e186"
            ],
            [
             0.8,
             "#7fbc41"
            ],
            [
             0.9,
             "#4d9221"
            ],
            [
             1,
             "#276419"
            ]
           ],
           "sequential": [
            [
             0,
             "#0d0887"
            ],
            [
             0.1111111111111111,
             "#46039f"
            ],
            [
             0.2222222222222222,
             "#7201a8"
            ],
            [
             0.3333333333333333,
             "#9c179e"
            ],
            [
             0.4444444444444444,
             "#bd3786"
            ],
            [
             0.5555555555555556,
             "#d8576b"
            ],
            [
             0.6666666666666666,
             "#ed7953"
            ],
            [
             0.7777777777777778,
             "#fb9f3a"
            ],
            [
             0.8888888888888888,
             "#fdca26"
            ],
            [
             1,
             "#f0f921"
            ]
           ],
           "sequentialminus": [
            [
             0,
             "#0d0887"
            ],
            [
             0.1111111111111111,
             "#46039f"
            ],
            [
             0.2222222222222222,
             "#7201a8"
            ],
            [
             0.3333333333333333,
             "#9c179e"
            ],
            [
             0.4444444444444444,
             "#bd3786"
            ],
            [
             0.5555555555555556,
             "#d8576b"
            ],
            [
             0.6666666666666666,
             "#ed7953"
            ],
            [
             0.7777777777777778,
             "#fb9f3a"
            ],
            [
             0.8888888888888888,
             "#fdca26"
            ],
            [
             1,
             "#f0f921"
            ]
           ]
          },
          "colorway": [
           "#636efa",
           "#EF553B",
           "#00cc96",
           "#ab63fa",
           "#FFA15A",
           "#19d3f3",
           "#FF6692",
           "#B6E880",
           "#FF97FF",
           "#FECB52"
          ],
          "font": {
           "color": "#2a3f5f"
          },
          "geo": {
           "bgcolor": "white",
           "lakecolor": "white",
           "landcolor": "#E5ECF6",
           "showlakes": true,
           "showland": true,
           "subunitcolor": "white"
          },
          "hoverlabel": {
           "align": "left"
          },
          "hovermode": "closest",
          "mapbox": {
           "style": "light"
          },
          "paper_bgcolor": "white",
          "plot_bgcolor": "#E5ECF6",
          "polar": {
           "angularaxis": {
            "gridcolor": "white",
            "linecolor": "white",
            "ticks": ""
           },
           "bgcolor": "#E5ECF6",
           "radialaxis": {
            "gridcolor": "white",
            "linecolor": "white",
            "ticks": ""
           }
          },
          "scene": {
           "xaxis": {
            "backgroundcolor": "#E5ECF6",
            "gridcolor": "white",
            "gridwidth": 2,
            "linecolor": "white",
            "showbackground": true,
            "ticks": "",
            "zerolinecolor": "white"
           },
           "yaxis": {
            "backgroundcolor": "#E5ECF6",
            "gridcolor": "white",
            "gridwidth": 2,
            "linecolor": "white",
            "showbackground": true,
            "ticks": "",
            "zerolinecolor": "white"
           },
           "zaxis": {
            "backgroundcolor": "#E5ECF6",
            "gridcolor": "white",
            "gridwidth": 2,
            "linecolor": "white",
            "showbackground": true,
            "ticks": "",
            "zerolinecolor": "white"
           }
          },
          "shapedefaults": {
           "line": {
            "color": "#2a3f5f"
           }
          },
          "ternary": {
           "aaxis": {
            "gridcolor": "white",
            "linecolor": "white",
            "ticks": ""
           },
           "baxis": {
            "gridcolor": "white",
            "linecolor": "white",
            "ticks": ""
           },
           "bgcolor": "#E5ECF6",
           "caxis": {
            "gridcolor": "white",
            "linecolor": "white",
            "ticks": ""
           }
          },
          "title": {
           "x": 0.05
          },
          "xaxis": {
           "automargin": true,
           "gridcolor": "white",
           "linecolor": "white",
           "ticks": "",
           "title": {
            "standoff": 15
           },
           "zerolinecolor": "white",
           "zerolinewidth": 2
          },
          "yaxis": {
           "automargin": true,
           "gridcolor": "white",
           "linecolor": "white",
           "ticks": "",
           "title": {
            "standoff": 15
           },
           "zerolinecolor": "white",
           "zerolinewidth": 2
          }
         }
        },
        "width": 500,
        "xaxis": {
         "anchor": "y",
         "domain": [
          0,
          1
         ],
         "title": {
          "text": "BES Average Fold Change"
         }
        },
        "yaxis": {
         "anchor": "x",
         "domain": [
          0,
          1
         ],
         "title": {
          "text": "Array Average Fold Change"
         }
        }
       }
      },
      "image/png": "[encoded data removed]"
     },
     "metadata": {},
     "output_type": "display_data"
    }
   ],
   "source": [
    "# MC MES array\n",
    "from plotly.subplots import make_subplots\n",
    "import plotly.graph_objects as go\n",
    "import plotly.io as pio\n",
    "\n",
    "fig = make_subplots(\n",
    "    rows=1,\n",
    "    cols=1,\n",
    "    #subplot_titles=[\"MES vs Main VSG\"],\n",
    ")\n",
    "\n",
    "scatter = go.Scatter(\n",
    "    x=merge['BES'],\n",
    "    y=merge['array'],\n",
    "    mode='markers',\n",
    "    text=list(merge.index.values),\n",
    "    hoverinfo='text',\n",
    "    name='scatter',\n",
    "    showlegend=False,\n",
    "    # hovertemplate='%{text}'\n",
    ")\n",
    "fig.add_trace(scatter, row=1, col=1)\n",
    "\n",
    "fig.update_layout(\n",
    "    width=500,\n",
    "    height=500,\n",
    "    showlegend=False,\n",
    "    hovermode='closest',\n",
    "    xaxis_title=\"BES Average Fold Change\",\n",
    "    yaxis_title=\"Array Average Fold Change\",\n",
    ")\n",
    "\n",
    "# Save as an exportable HTML file\n",
    "pio.write_html(\n",
    "    fig,\n",
    "    file=\"BES_vs_array.html\",   # change path/name if you like\n",
    "    include_plotlyjs=\"cdn\",\n",
    "    full_html=True,\n",
    "    auto_open=False,\n",
    ")\n",
    "fig"
   ]
  },
  {
   "cell_type": "code",
   "execution_count": 18,
   "id": "30b4adc4-0d46-4675-a8cc-526e5b08e9d2",
   "metadata": {},
   "outputs": [
    {
     "name": "stdout",
     "output_type": "stream",
     "text": [
      "done\n"
     ]
    }
   ],
   "source": [
    "print('done')"
   ]
  },
  {
   "cell_type": "code",
   "execution_count": null,
   "id": "88583d95-8fd9-43aa-a350-8fca68338561",
   "metadata": {},
   "outputs": [],
   "source": []
  }
 ],
 "metadata": {
  "kernelspec": {
   "display_name": "Python 3 (ipykernel)",
   "language": "python",
   "name": "python3"
  },
  "language_info": {
   "codemirror_mode": {
    "name": "ipython",
    "version": 3
   },
   "file_extension": ".py",
   "mimetype": "text/x-python",
   "name": "python",
   "nbconvert_exporter": "python",
   "pygments_lexer": "ipython3",
   "version": "3.11.2"
  }
 },
 "nbformat": 4,
 "nbformat_minor": 5
}
