{
 "cells": [
  {
   "cell_type": "markdown",
   "id": "5987995a",
   "metadata": {},
   "source": [
    "# Data Preparation and Plot Generation\n",
    "\n",
    "This notebook orchestrates the full preprocessing pipeline used by the VSGS web server. It:\n",
    "\n",
    "- Loads the raw VSG expression data exported from the processing script.\n",
    "- Cleans and enriches the dataset with annotations that the application displays.\n",
    "- Generates interactive Plotly scatter plots that are embedded directly in the VSGS interface.\n",
    "\n",
    "Run the notebook from top to bottom to reproduce the datasets and visualizations that power the site."
   ]
  },
  {
   "cell_type": "code",
   "execution_count": 34,
   "id": "0badf910-6980-42b2-a3a7-0b4fe97cc8a9",
   "metadata": {},
   "outputs": [],
   "source": [
    "import pandas as pd\n",
    "import numpy as np\n",
    "import plotly.graph_objects as go\n",
    "from plotly.subplots import make_subplots\n",
    "#process myRna-seq output and prepare table for web visualization"
   ]
  },
  {
   "cell_type": "code",
   "execution_count": 35,
   "id": "393730f1-2968-45d2-8cc8-6f15a5069a2f",
   "metadata": {},
   "outputs": [
    {
     "name": "stdout",
     "output_type": "stream",
     "text": [
      "\u001b[96m\n",
      "╔════════════════════════════════════════════════════════╗\n",
      "║          🧬 VSG META-ANALYSIS PIPELINE 🧬              ║\n",
      "║                                                        ║\n",
      "║  Analyzing Variant Surface Glycoprotein Expression    ║\n",
      "║           in Trypanosoma brucei                       ║\n",
      "╚════════════════════════════════════════════════════════╝\n",
      "\u001b[0m\n",
      "\n",
      "2025-10-09 10:45:59,759 - INFO - Starting VSG meta-analysis pipeline...\n",
      "2025-10-09 10:45:59,760 - INFO - Loading experiment table...\n",
      "2025-10-09 10:45:59,777 - INFO - Loaded 434 samples\n",
      "2025-10-09 10:45:59,777 - INFO - Loading VSG dictionary...\n",
      "2025-10-09 10:45:59,782 - INFO - Loaded 299 VSG mappings\n",
      "2025-10-09 10:45:59,782 - INFO - Validating files...\n",
      "2025-10-09 10:45:59,921 - INFO - Identifying top VSGs...\n",
      "Processing samples: 100%|█████████████████████| 434/434 [00:10<00:00, 40.39it/s]\n",
      "2025-10-09 10:46:10,675 - INFO - Top VSG distribution:\n",
      "top_vsgs\n",
      "Tb427VSG-2      330\n",
      "Tb427VSG-3       27\n",
      "Tb427VSG-22      21\n",
      "Tb427VSG-9       16\n",
      "Tb427VSG-653     14\n",
      "Name: count, dtype: int64\n",
      "2025-10-09 10:46:10,675 - INFO - Generating experiment configuration...\n",
      "2025-10-09 10:46:10,716 - INFO - Generated configuration for 79 experiments\n",
      "2025-10-09 10:46:10,724 - INFO - Saved experiment configuration to vsgs_web_server/data/exp_config.json\n",
      "2025-10-09 10:46:10,724 - INFO - Analyzing silent VSG expression...\n",
      "Processing experiments: 100%|███████████████████| 79/79 [00:15<00:00,  5.22it/s]\n",
      "2025-10-09 10:46:25,863 - INFO - Silent VSG analysis complete. Shape: (79, 5)\n",
      "2025-10-09 10:46:25,870 - INFO - Saved silent VSG data to vsgs_web_server/data/silentCsvData.csv\n",
      "2025-10-09 10:46:25,870 - INFO - Analyzing main VSG expression...\n",
      "Processing experiments: 100%|███████████████████| 79/79 [00:13<00:00,  5.75it/s]\n",
      "2025-10-09 10:46:39,616 - INFO - Main VSG analysis complete. Shape: (79, 1)\n",
      "2025-10-09 10:46:39,625 - INFO - Saved main VSG data to vsgs_web_server/data/mainCsvData.csv\n",
      "2025-10-09 10:46:39,625 - INFO - Calculating QC metrics...\n",
      "Calculating QC: 100%|███████████████████████████| 79/79 [00:17<00:00,  4.48it/s]\n",
      "2025-10-09 10:46:57,242 - INFO - QC metrics calculated for 79 experiments\n",
      "2025-10-09 10:46:57,252 - INFO - Saved QC metrics to vsgs_web_server/data/QC.csv\n",
      "2025-10-09 10:46:57,252 - INFO - Pipeline completed successfully!\n",
      "\n",
      "==================================================\n",
      "PIPELINE SUMMARY\n",
      "==================================================\n",
      "Total experiments processed: 79\n",
      "Total samples analyzed: 434\n",
      "\n",
      "Silent VSG families detected: 4\n",
      "Top 5 derepressed experiments (silent VSGs):\n",
      "Family                    sum\n",
      "TbRAP1_2_dMyb      158.380870\n",
      "VEX1and2_1_RNAi48  152.858447\n",
      "VEX1and2_1_RNAi24  127.007331\n",
      "PIP5Pase_1_KO       96.754221\n",
      "TbRAP1_1_KO         91.663110\n",
      "\n",
      "Top 5 experiments with main VSG downregulation:\n",
      "                    counts\n",
      "BET151_1_Drug72h -3.099144\n",
      "BET151_1_Drug48h -2.576212\n",
      "TbESB1_2_KO48    -2.511187\n",
      "H3H4_3_KO48      -2.039470\n",
      "TbRAP1_1_5A      -2.012854\n",
      "\n",
      "QC Summary:\n",
      "  Mean main VSG percentage: 3.80%\n",
      "  Mean mitochondrial percentage: 0.61%\n",
      "==================================================\n"
     ]
    }
   ],
   "source": [
    "!python vsg_analysis_pipeline.py \\\n",
    "--output vsgs_web_server/data \\\n",
    "--experiment-table experiment_table.txt \\\n",
    "--vsg-dict vsg_dic.txt \\\n",
    "--base-path ../myRna-seq/results/result_vsgs "
   ]
  },
  {
   "cell_type": "code",
   "execution_count": 36,
   "id": "eeb90bbd-0cdc-499d-8cf6-dbe106755be0",
   "metadata": {},
   "outputs": [
    {
     "data": {
      "text/html": [
       "<div>\n",
       "<style scoped>\n",
       "    .dataframe tbody tr th:only-of-type {\n",
       "        vertical-align: middle;\n",
       "    }\n",
       "\n",
       "    .dataframe tbody tr th {\n",
       "        vertical-align: top;\n",
       "    }\n",
       "\n",
       "    .dataframe thead th {\n",
       "        text-align: right;\n",
       "    }\n",
       "</style>\n",
       "<table border=\"1\" class=\"dataframe\">\n",
       "  <thead>\n",
       "    <tr style=\"text-align: right;\">\n",
       "      <th></th>\n",
       "      <th>main_vsg</th>\n",
       "    </tr>\n",
       "    <tr>\n",
       "      <th>experiment</th>\n",
       "      <th></th>\n",
       "    </tr>\n",
       "  </thead>\n",
       "  <tbody>\n",
       "    <tr>\n",
       "      <th>BDF2_1_KO48</th>\n",
       "      <td>-0.371607</td>\n",
       "    </tr>\n",
       "    <tr>\n",
       "      <th>BDF3_1_KO24</th>\n",
       "      <td>-0.555349</td>\n",
       "    </tr>\n",
       "    <tr>\n",
       "      <th>BET151_1_Drug12h</th>\n",
       "      <td>-0.027553</td>\n",
       "    </tr>\n",
       "    <tr>\n",
       "      <th>BET151_1_Drug24h</th>\n",
       "      <td>-0.709358</td>\n",
       "    </tr>\n",
       "    <tr>\n",
       "      <th>BET151_1_Drug3h</th>\n",
       "      <td>0.482766</td>\n",
       "    </tr>\n",
       "  </tbody>\n",
       "</table>\n",
       "</div>"
      ],
      "text/plain": [
       "                  main_vsg\n",
       "experiment                \n",
       "BDF2_1_KO48      -0.371607\n",
       "BDF3_1_KO24      -0.555349\n",
       "BET151_1_Drug12h -0.027553\n",
       "BET151_1_Drug24h -0.709358\n",
       "BET151_1_Drug3h   0.482766"
      ]
     },
     "execution_count": 36,
     "metadata": {},
     "output_type": "execute_result"
    }
   ],
   "source": [
    "df_1 = pd.read_csv('vsgs_web_server/data/mainCsvData.csv')\n",
    "df_1.columns = ['experiment','main_vsg']\n",
    "df_1 = df_1.set_index('experiment')\n",
    "df_1.head()"
   ]
  },
  {
   "cell_type": "code",
   "execution_count": 37,
   "id": "a7776550-a304-4b73-9b87-9984e0a9f741",
   "metadata": {},
   "outputs": [
    {
     "data": {
      "text/html": [
       "<div>\n",
       "<style scoped>\n",
       "    .dataframe tbody tr th:only-of-type {\n",
       "        vertical-align: middle;\n",
       "    }\n",
       "\n",
       "    .dataframe tbody tr th {\n",
       "        vertical-align: top;\n",
       "    }\n",
       "\n",
       "    .dataframe thead th {\n",
       "        text-align: right;\n",
       "    }\n",
       "</style>\n",
       "<table border=\"1\" class=\"dataframe\">\n",
       "  <thead>\n",
       "    <tr style=\"text-align: right;\">\n",
       "      <th></th>\n",
       "      <th>BES</th>\n",
       "      <th>MC</th>\n",
       "      <th>MES</th>\n",
       "      <th>array</th>\n",
       "      <th>sum</th>\n",
       "    </tr>\n",
       "    <tr>\n",
       "      <th>experiment</th>\n",
       "      <th></th>\n",
       "      <th></th>\n",
       "      <th></th>\n",
       "      <th></th>\n",
       "      <th></th>\n",
       "    </tr>\n",
       "  </thead>\n",
       "  <tbody>\n",
       "    <tr>\n",
       "      <th>BDF2_1_KO48</th>\n",
       "      <td>1.054660</td>\n",
       "      <td>1.000000</td>\n",
       "      <td>1.429394</td>\n",
       "      <td>1.000000</td>\n",
       "      <td>4.484054</td>\n",
       "    </tr>\n",
       "    <tr>\n",
       "      <th>BDF3_1_KO24</th>\n",
       "      <td>2.459381</td>\n",
       "      <td>1.025548</td>\n",
       "      <td>6.231531</td>\n",
       "      <td>1.025548</td>\n",
       "      <td>10.742007</td>\n",
       "    </tr>\n",
       "    <tr>\n",
       "      <th>BET151_1_Drug12h</th>\n",
       "      <td>1.000000</td>\n",
       "      <td>1.000000</td>\n",
       "      <td>0.967858</td>\n",
       "      <td>1.000000</td>\n",
       "      <td>3.967858</td>\n",
       "    </tr>\n",
       "    <tr>\n",
       "      <th>BET151_1_Drug24h</th>\n",
       "      <td>0.862891</td>\n",
       "      <td>1.000000</td>\n",
       "      <td>0.920897</td>\n",
       "      <td>1.000000</td>\n",
       "      <td>3.783788</td>\n",
       "    </tr>\n",
       "    <tr>\n",
       "      <th>BET151_1_Drug3h</th>\n",
       "      <td>1.077385</td>\n",
       "      <td>1.000000</td>\n",
       "      <td>1.093596</td>\n",
       "      <td>1.000000</td>\n",
       "      <td>4.170982</td>\n",
       "    </tr>\n",
       "  </tbody>\n",
       "</table>\n",
       "</div>"
      ],
      "text/plain": [
       "                       BES        MC       MES     array        sum\n",
       "experiment                                                         \n",
       "BDF2_1_KO48       1.054660  1.000000  1.429394  1.000000   4.484054\n",
       "BDF3_1_KO24       2.459381  1.025548  6.231531  1.025548  10.742007\n",
       "BET151_1_Drug12h  1.000000  1.000000  0.967858  1.000000   3.967858\n",
       "BET151_1_Drug24h  0.862891  1.000000  0.920897  1.000000   3.783788\n",
       "BET151_1_Drug3h   1.077385  1.000000  1.093596  1.000000   4.170982"
      ]
     },
     "execution_count": 37,
     "metadata": {},
     "output_type": "execute_result"
    }
   ],
   "source": [
    "df_2 = pd.read_csv('vsgs_web_server/data/silentCSVdata.csv')\n",
    "df_2.columns = ['experiment']+list(df_2.columns)[1:]\n",
    "df_2=df_2.set_index('experiment')\n",
    "#df_2=np.log2(df_2)\n",
    "df_2.head()"
   ]
  },
  {
   "cell_type": "code",
   "execution_count": 38,
   "id": "a030d27f-f518-43ef-942c-b6fc3e5ffdc1",
   "metadata": {},
   "outputs": [],
   "source": [
    "merge = df_2.join(df_1)"
   ]
  },
  {
   "cell_type": "code",
   "execution_count": 39,
   "id": "b2264822-8bae-4c96-8ad8-70cc4db0fef3",
   "metadata": {},
   "outputs": [
    {
     "data": {
      "text/html": [
       "<div>\n",
       "<style scoped>\n",
       "    .dataframe tbody tr th:only-of-type {\n",
       "        vertical-align: middle;\n",
       "    }\n",
       "\n",
       "    .dataframe tbody tr th {\n",
       "        vertical-align: top;\n",
       "    }\n",
       "\n",
       "    .dataframe thead th {\n",
       "        text-align: right;\n",
       "    }\n",
       "</style>\n",
       "<table border=\"1\" class=\"dataframe\">\n",
       "  <thead>\n",
       "    <tr style=\"text-align: right;\">\n",
       "      <th></th>\n",
       "      <th>BES</th>\n",
       "      <th>MC</th>\n",
       "      <th>MES</th>\n",
       "      <th>array</th>\n",
       "      <th>sum</th>\n",
       "      <th>main_vsg</th>\n",
       "    </tr>\n",
       "    <tr>\n",
       "      <th>experiment</th>\n",
       "      <th></th>\n",
       "      <th></th>\n",
       "      <th></th>\n",
       "      <th></th>\n",
       "      <th></th>\n",
       "      <th></th>\n",
       "    </tr>\n",
       "  </thead>\n",
       "  <tbody>\n",
       "    <tr>\n",
       "      <th>BDF2_1_KO48</th>\n",
       "      <td>1.054660</td>\n",
       "      <td>1.000000</td>\n",
       "      <td>1.429394</td>\n",
       "      <td>1.000000</td>\n",
       "      <td>4.484054</td>\n",
       "      <td>-0.371607</td>\n",
       "    </tr>\n",
       "    <tr>\n",
       "      <th>BDF3_1_KO24</th>\n",
       "      <td>2.459381</td>\n",
       "      <td>1.025548</td>\n",
       "      <td>6.231531</td>\n",
       "      <td>1.025548</td>\n",
       "      <td>10.742007</td>\n",
       "      <td>-0.555349</td>\n",
       "    </tr>\n",
       "    <tr>\n",
       "      <th>BET151_1_Drug12h</th>\n",
       "      <td>1.000000</td>\n",
       "      <td>1.000000</td>\n",
       "      <td>0.967858</td>\n",
       "      <td>1.000000</td>\n",
       "      <td>3.967858</td>\n",
       "      <td>-0.027553</td>\n",
       "    </tr>\n",
       "    <tr>\n",
       "      <th>BET151_1_Drug24h</th>\n",
       "      <td>0.862891</td>\n",
       "      <td>1.000000</td>\n",
       "      <td>0.920897</td>\n",
       "      <td>1.000000</td>\n",
       "      <td>3.783788</td>\n",
       "      <td>-0.709358</td>\n",
       "    </tr>\n",
       "    <tr>\n",
       "      <th>BET151_1_Drug3h</th>\n",
       "      <td>1.077385</td>\n",
       "      <td>1.000000</td>\n",
       "      <td>1.093596</td>\n",
       "      <td>1.000000</td>\n",
       "      <td>4.170982</td>\n",
       "      <td>0.482766</td>\n",
       "    </tr>\n",
       "  </tbody>\n",
       "</table>\n",
       "</div>"
      ],
      "text/plain": [
       "                       BES        MC       MES     array        sum  main_vsg\n",
       "experiment                                                                   \n",
       "BDF2_1_KO48       1.054660  1.000000  1.429394  1.000000   4.484054 -0.371607\n",
       "BDF3_1_KO24       2.459381  1.025548  6.231531  1.025548  10.742007 -0.555349\n",
       "BET151_1_Drug12h  1.000000  1.000000  0.967858  1.000000   3.967858 -0.027553\n",
       "BET151_1_Drug24h  0.862891  1.000000  0.920897  1.000000   3.783788 -0.709358\n",
       "BET151_1_Drug3h   1.077385  1.000000  1.093596  1.000000   4.170982  0.482766"
      ]
     },
     "execution_count": 39,
     "metadata": {},
     "output_type": "execute_result"
    }
   ],
   "source": [
    "merge.head()"
   ]
  },
  {
   "cell_type": "code",
   "execution_count": 40,
   "id": "237dc7ac-1516-4c56-9cd8-75a1b3d28988",
   "metadata": {},
   "outputs": [
    {
     "data": {
      "text/plain": [
       "Index(['BES', 'MC', 'MES', 'array', 'sum', 'main_vsg'], dtype='object')"
      ]
     },
     "execution_count": 40,
     "metadata": {},
     "output_type": "execute_result"
    }
   ],
   "source": [
    "merge.to_csv('plot_data.csv')\n",
    "merge.columns"
   ]
  },
  {
   "cell_type": "code",
   "execution_count": 41,
   "id": "19306a8c-38ac-4d19-8e6d-a101169377ba",
   "metadata": {},
   "outputs": [],
   "source": [
    "from ProjectUtility.core import clean_axes"
   ]
  },
  {
   "cell_type": "code",
   "execution_count": 42,
   "id": "b0e4d860-b7be-4a2e-88a3-aacfa36093e9",
   "metadata": {},
   "outputs": [
    {
     "data": {
      "image/png": "[encoded data removed]",
      "text/plain": [
       "<Figure size 640x480 with 1 Axes>"
      ]
     },
     "metadata": {},
     "output_type": "display_data"
    }
   ],
   "source": [
    "import matplotlib.pyplot as plt\n",
    "fig,ax=plt.subplots()\n",
    "merge.plot(x='BES',y='main_vsg',ax=ax,kind='scatter')\n",
    "clean_axes(ax)\n",
    "plt.show()"
   ]
  },
  {
   "cell_type": "code",
   "execution_count": 43,
   "id": "29300b02-94a2-4645-a9ae-b8f7fec0685b",
   "metadata": {},
   "outputs": [],
   "source": [
    "# prepare interactive plots for web server"
   ]
  },
  {
   "cell_type": "code",
   "execution_count": 44,
   "id": "73015383-b842-4ccd-ac13-27c7b63e40c1",
   "metadata": {},
   "outputs": [
    {
     "data": {
      "application/vnd.plotly.v1+json": {
       "config": {
        "plotlyServerURL": "https://plot.ly"
       },
       "data": [
        {
         "hoverinfo": "text",
         "mode": "markers",
         "name": "scatter",
         "showlegend": false,
         "text": [
          "BDF2_1_KO48",
          "BDF3_1_KO24",
          "BET151_1_Drug12h",
          "BET151_1_Drug24h",
          "BET151_1_Drug3h",
          "BET151_1_Drug48h",
          "BET151_1_Drug6h",
          "BET151_1_Drug72h",
          "CAF1b_1_RNAi24",
          "CFB2_1_RNAi9",
          "DFO_1_DFO",
          "DFO_1_DFOFe",
          "DFO_1_Fe",
          "DRBD18_1_RNAi12",
          "H1_1_RNAi96",
          "H3H4_1_KOH3",
          "H3H4_1_KOH3J",
          "H3H4_1_KOH4",
          "H3H4_1_KOH4J",
          "H3H4_1_KOJ2",
          "H3H4_2_KO48",
          "H3H4_3_KO48",
          "H3_1_KOH3",
          "H3_1_KOH3J",
          "H3_1_KOJ",
          "IPMK_1_RNAi36",
          "IPMK_2_RNAi36",
          "MCMBP_1_KO24",
          "MCMBP_1_KO48",
          "PIP5Pase_1_KO",
          "PIP5Pase_2_D360A_N362A",
          "PNUTS_1_RNAi48",
          "RBP10_1_RNAi24",
          "RBP10_2_RNAi24",
          "RBP10_3_RNAi24",
          "RBP33_1_RNAi48",
          "RBP42_1_KO24",
          "RBP42_1_KO48",
          "RBP42_1_KO72",
          "RNaseH1_1_KO",
          "RNaseH2A_1_RNAi24",
          "RNaseH2A_2_RNAi36",
          "SET27_1_KO",
          "SET27_1_sKO",
          "SNF2PH_1_RNAi48",
          "TFR_1_RNAi24",
          "TbATR_1_RNAi24",
          "TbATR_2_RNAi36",
          "TbCMT1_1_KO",
          "TbESB1_1_RNAi24",
          "TbESB1_2_KO48",
          "TbESB1_3_OE24",
          "TbHAT_1_RNAi48HAT1",
          "TbHAT_1_RNAi48HAT2",
          "TbPP1one_1_RNAi24",
          "TbPP1seven_1_RNAi24",
          "TbRAP1_1_2SD",
          "TbRAP1_1_5A",
          "TbRAP1_1_KO",
          "TbRAP1_2_dMyb",
          "TbSAP_1_RNAi72",
          "VEX1_1_Oe72",
          "VEX1_2_RNAi72",
          "VEX1_4_RNAi24",
          "VEX1_5_RNAi48",
          "VEX1_6_RNAi72",
          "VEX1and2_1_RNAi24",
          "VEX1and2_1_RNAi48",
          "VEX2_1_RNAi24",
          "VEX2_1_RNAi48",
          "ZC3H28_1_RNAi10",
          "ZC3H28_1_RNAi14",
          "ZC3H28_1_RNAi16",
          "ZC3H28_1_RNAi24",
          "ZC3H40_1_RNAi72",
          "ZC3H5_2_RNAi12",
          "ZC3H5_3_RNAi12",
          "ZC3H5_4_RNAi12",
          "ZC3H5_5_RNAi12"
         ],
         "type": "scatter",
         "x": {
          "bdata": "CvZy6uLf8D8LNra6z6wDQAAAAAAAAPA/4hndrs2c6z9FrW2O+DzxP1u7nKSzPOg/5oA1AsFR8D/1iCZnjjvrP8Ytjqs7EAxAWIQzIJdR8D9LWqDU8RDwP6YIyTcZC/A/YCtjzKwj8D83MgmyRvbvP7f0l82DWQ9AatysR5/z+D/skCcWIVoHQAAAAAAAAPA/9VhiYWS38D9y+ssNzgfpP4dQ9NN73wBAcvh/WRkJ/z+ZrN0t04kCQGjmFt8wrABAOR08rZuA7D/UtFCtrT/wPwAAAAAAAPA/O2gjyCK0BEDH7xkR79saQA50o9NqjklAlNqoGQCTJkClZPB61CwDQBU+iEhdSPE/AAAAAAAA8D8u8ru42QjvP+k9usrVxvQ/O0goYLXQ8z91WX4VS7/sP8eJK3WDIuw/wOpu/qy28D83FR1zOTz5P4/1ZyvjP/o/1yBmPeAVD0CnW2Xu/ysAQJEsjHykJvM/kp4/UjsN9D9mfufJTmEDQGBtbVcGMChAeGpXYTMN8D+SiOS5GMT+Px8fSaEoiOU/avHT9SooCEBcbuXxrR3eP7xN5zTS7O4/PotU/bLwRkDPP3xAR9rnP64Cki2R+DpA2PmqxDiRM0BuI/XbM1hMQPVrOY0xx1ZAi+IxG7+nBUD4WbFGPlsYQBZQ2L+ChQBAl6k6GFVp9D/zE1nRMOX6P7CM6vMxRgBAEM3m/I3uT0CCnqWORC1NQLS80yhqEEhAP43HcdHcR0BgOkZ3lrvvP7N2IFVaAe4/yjlBzqmz7T/JNESLkE7tP03f2czcg/8/2yZwN0lk7z98JZ6iuj3tP8pZkuevUu4/VIxz4dc25T8=",
          "dtype": "f8"
         },
         "xaxis": "x",
         "y": {
          "bdata": "gmaXC2nI17/ILHm0asXhv1ZDAUPFNpy/rLmsyg6z5r/onqjRoeXeP8FTvOcUnATALZKdJfwbuD8U8O37C8sIwPAUCLwxTt2/NJMiholO9r/Fm0pMuG6hP2BbPXtI4qS/0B34f5Cwqz+1+tNB6k/Uv8ZOXiDp7OC/tMDG9/7s1L9+MyHNKZy+v8bVT0KP0+W/eTq2gWZ55L+kG51AaGnvv66Exnfbh/W/G7PjyNVQAMDsDBHAvyaxv640B3pHKbc/z/U30q1IgT+AJT+gsf3Rv4qEa2SDNMa/NYyQ86E6x794rlDWlZDmv/TN0ezTheC/a3xV07Gf9b9+beQtOya8v/bJODLGeOW/efxjCdgD5r+bzpMD8CLlv1uRTpnXvvG/rqoac6ukxj/o/f1GRGCSv2V/dnihNsy/Kr5xaWlFwr8BrvtRXrjav6E8Yzk0BPi/c9QoLTYzyD+v8O5IMyW6vyRKBiiXmI6/i0hCqckmsL8JvmwbBpLMv3pWqWEsqeW/cE8rtPeR1D+Hm7bALMb9v8T+RzfpFgTASER0OaPUz78ef+IlASLQv46b9BPKicq/zgbxvgj2wb/SvaV4DR7lvwfubZ+88fW/DPL3ClMaAMDSeMOcG1ndv7xLstXXjOe/59PgDSH0g7/7DfP195nKv6RB3didbbk/kUMUmH3pnb8BHX8d3Ya/v6uIyWf7/4a/sX6kYBay3b8UgZ4Dro/sv4HQpf5PeOO/q9XJrkdw5b9BQm631xHEv9fwAhNqd+6/eLCou3RJ6b9cVQnfqdvxv41bF8NAvdC/ynWfMl5Xwr/QJOD2mMqiv33JRoEfEuQ/fkQAXyq4wL8=",
          "dtype": "f8"
         },
         "yaxis": "y"
        }
       ],
       "layout": {
        "height": 500,
        "hovermode": "closest",
        "showlegend": false,
        "template": {
         "data": {
          "bar": [
           {
            "error_x": {
             "color": "#2a3f5f"
            },
            "error_y": {
             "color": "#2a3f5f"
            },
            "marker": {
             "line": {
              "color": "#E5ECF6",
              "width": 0.5
             },
             "pattern": {
              "fillmode": "overlay",
              "size": 10,
              "solidity": 0.2
             }
            },
            "type": "bar"
           }
          ],
          "barpolar": [
           {
            "marker": {
             "line": {
              "color": "#E5ECF6",
              "width": 0.5
             },
             "pattern": {
              "fillmode": "overlay",
              "size": 10,
              "solidity": 0.2
             }
            },
            "type": "barpolar"
           }
          ],
          "carpet": [
           {
            "aaxis": {
             "endlinecolor": "#2a3f5f",
             "gridcolor": "white",
             "linecolor": "white",
             "minorgridcolor": "white",
             "startlinecolor": "#2a3f5f"
            },
            "baxis": {
             "endlinecolor": "#2a3f5f",
             "gridcolor": "white",
             "linecolor": "white",
             "minorgridcolor": "white",
             "startlinecolor": "#2a3f5f"
            },
            "type": "carpet"
           }
          ],
          "choropleth": [
           {
            "colorbar": {
             "outlinewidth": 0,
             "ticks": ""
            },
            "type": "choropleth"
           }
          ],
          "contour": [
           {
            "colorbar": {
             "outlinewidth": 0,
             "ticks": ""
            },
            "colorscale": [
             [
              0,
              "#0d0887"
             ],
             [
              0.1111111111111111,
              "#46039f"
             ],
             [
              0.2222222222222222,
              "#7201a8"
             ],
             [
              0.3333333333333333,
              "#9c179e"
             ],
             [
              0.4444444444444444,
              "#bd3786"
             ],
             [
              0.5555555555555556,
              "#d8576b"
             ],
             [
              0.6666666666666666,
              "#ed7953"
             ],
             [
              0.7777777777777778,
              "#fb9f3a"
             ],
             [
              0.8888888888888888,
              "#fdca26"
             ],
             [
              1,
              "#f0f921"
             ]
            ],
            "type": "contour"
           }
          ],
          "contourcarpet": [
           {
            "colorbar": {
             "outlinewidth": 0,
             "ticks": ""
            },
            "type": "contourcarpet"
           }
          ],
          "heatmap": [
           {
            "colorbar": {
             "outlinewidth": 0,
             "ticks": ""
            },
            "colorscale": [
             [
              0,
              "#0d0887"
             ],
             [
              0.1111111111111111,
              "#46039f"
             ],
             [
              0.2222222222222222,
              "#7201a8"
             ],
             [
              0.3333333333333333,
              "#9c179e"
             ],
             [
              0.4444444444444444,
              "#bd3786"
             ],
             [
              0.5555555555555556,
              "#d8576b"
             ],
             [
              0.6666666666666666,
              "#ed7953"
             ],
             [
              0.7777777777777778,
              "#fb9f3a"
             ],
             [
              0.8888888888888888,
              "#fdca26"
             ],
             [
              1,
              "#f0f921"
             ]
            ],
            "type": "heatmap"
           }
          ],
          "histogram": [
           {
            "marker": {
             "pattern": {
              "fillmode": "overlay",
              "size": 10,
              "solidity": 0.2
             }
            },
            "type": "histogram"
           }
          ],
          "histogram2d": [
           {
            "colorbar": {
             "outlinewidth": 0,
             "ticks": ""
            },
            "colorscale": [
             [
              0,
              "#0d0887"
             ],
             [
              0.1111111111111111,
              "#46039f"
             ],
             [
              0.2222222222222222,
              "#7201a8"
             ],
             [
              0.3333333333333333,
              "#9c179e"
             ],
             [
              0.4444444444444444,
              "#bd3786"
             ],
             [
              0.5555555555555556,
              "#d8576b"
             ],
             [
              0.6666666666666666,
              "#ed7953"
             ],
             [
              0.7777777777777778,
              "#fb9f3a"
             ],
             [
              0.8888888888888888,
              "#fdca26"
             ],
             [
              1,
              "#f0f921"
             ]
            ],
            "type": "histogram2d"
           }
          ],
          "histogram2dcontour": [
           {
            "colorbar": {
             "outlinewidth": 0,
             "ticks": ""
            },
            "colorscale": [
             [
              0,
              "#0d0887"
             ],
             [
              0.1111111111111111,
              "#46039f"
             ],
             [
              0.2222222222222222,
              "#7201a8"
             ],
             [
              0.3333333333333333,
              "#9c179e"
             ],
             [
              0.4444444444444444,
              "#bd3786"
             ],
             [
              0.5555555555555556,
              "#d8576b"
             ],
             [
              0.6666666666666666,
              "#ed7953"
             ],
             [
              0.7777777777777778,
              "#fb9f3a"
             ],
             [
              0.8888888888888888,
              "#fdca26"
             ],
             [
              1,
              "#f0f921"
             ]
            ],
            "type": "histogram2dcontour"
           }
          ],
          "mesh3d": [
           {
            "colorbar": {
             "outlinewidth": 0,
             "ticks": ""
            },
            "type": "mesh3d"
           }
          ],
          "parcoords": [
           {
            "line": {
             "colorbar": {
              "outlinewidth": 0,
              "ticks": ""
             }
            },
            "type": "parcoords"
           }
          ],
          "pie": [
           {
            "automargin": true,
            "type": "pie"
           }
          ],
          "scatter": [
           {
            "fillpattern": {
             "fillmode": "overlay",
             "size": 10,
             "solidity": 0.2
            },
            "type": "scatter"
           }
          ],
          "scatter3d": [
           {
            "line": {
             "colorbar": {
              "outlinewidth": 0,
              "ticks": ""
             }
            },
            "marker": {
             "colorbar": {
              "outlinewidth": 0,
              "ticks": ""
             }
            },
            "type": "scatter3d"
           }
          ],
          "scattercarpet": [
           {
            "marker": {
             "colorbar": {
              "outlinewidth": 0,
              "ticks": ""
             }
            },
            "type": "scattercarpet"
           }
          ],
          "scattergeo": [
           {
            "marker": {
             "colorbar": {
              "outlinewidth": 0,
              "ticks": ""
             }
            },
            "type": "scattergeo"
           }
          ],
          "scattergl": [
           {
            "marker": {
             "colorbar": {
              "outlinewidth": 0,
              "ticks": ""
             }
            },
            "type": "scattergl"
           }
          ],
          "scattermap": [
           {
            "marker": {
             "colorbar": {
              "outlinewidth": 0,
              "ticks": ""
             }
            },
            "type": "scattermap"
           }
          ],
          "scattermapbox": [
           {
            "marker": {
             "colorbar": {
              "outlinewidth": 0,
              "ticks": ""
             }
            },
            "type": "scattermapbox"
           }
          ],
          "scatterpolar": [
           {
            "marker": {
             "colorbar": {
              "outlinewidth": 0,
              "ticks": ""
             }
            },
            "type": "scatterpolar"
           }
          ],
          "scatterpolargl": [
           {
            "marker": {
             "colorbar": {
              "outlinewidth": 0,
              "ticks": ""
             }
            },
            "type": "scatterpolargl"
           }
          ],
          "scatterternary": [
           {
            "marker": {
             "colorbar": {
              "outlinewidth": 0,
              "ticks": ""
             }
            },
            "type": "scatterternary"
           }
          ],
          "surface": [
           {
            "colorbar": {
             "outlinewidth": 0,
             "ticks": ""
            },
            "colorscale": [
             [
              0,
              "#0d0887"
             ],
             [
              0.1111111111111111,
              "#46039f"
             ],
             [
              0.2222222222222222,
              "#7201a8"
             ],
             [
              0.3333333333333333,
              "#9c179e"
             ],
             [
              0.4444444444444444,
              "#bd3786"
             ],
             [
              0.5555555555555556,
              "#d8576b"
             ],
             [
              0.6666666666666666,
              "#ed7953"
             ],
             [
              0.7777777777777778,
              "#fb9f3a"
             ],
             [
              0.8888888888888888,
              "#fdca26"
             ],
             [
              1,
              "#f0f921"
             ]
            ],
            "type": "surface"
           }
          ],
          "table": [
           {
            "cells": {
             "fill": {
              "color": "#EBF0F8"
             },
             "line": {
              "color": "white"
             }
            },
            "header": {
             "fill": {
              "color": "#C8D4E3"
             },
             "line": {
              "color": "white"
             }
            },
            "type": "table"
           }
          ]
         },
         "layout": {
          "annotationdefaults": {
           "arrowcolor": "#2a3f5f",
           "arrowhead": 0,
           "arrowwidth": 1
          },
          "autotypenumbers": "strict",
          "coloraxis": {
           "colorbar": {
            "outlinewidth": 0,
            "ticks": ""
           }
          },
          "colorscale": {
           "diverging": [
            [
             0,
             "#8e0152"
            ],
            [
             0.1,
             "#c51b7d"
            ],
            [
             0.2,
             "#de77ae"
            ],
            [
             0.3,
             "#f1b6da"
            ],
            [
             0.4,
             "#fde0ef"
            ],
            [
             0.5,
             "#f7f7f7"
            ],
            [
             0.6,
             "#e6f5d0"
            ],
            [
             0.7,
             "#b8e186"
            ],
            [
             0.8,
             "#7fbc41"
            ],
            [
             0.9,
             "#4d9221"
            ],
            [
             1,
             "#276419"
            ]
           ],
           "sequential": [
            [
             0,
             "#0d0887"
            ],
            [
             0.1111111111111111,
             "#46039f"
            ],
            [
             0.2222222222222222,
             "#7201a8"
            ],
            [
             0.3333333333333333,
             "#9c179e"
            ],
            [
             0.4444444444444444,
             "#bd3786"
            ],
            [
             0.5555555555555556,
             "#d8576b"
            ],
            [
             0.6666666666666666,
             "#ed7953"
            ],
            [
             0.7777777777777778,
             "#fb9f3a"
            ],
            [
             0.8888888888888888,
             "#fdca26"
            ],
            [
             1,
             "#f0f921"
            ]
           ],
           "sequentialminus": [
            [
             0,
             "#0d0887"
            ],
            [
             0.1111111111111111,
             "#46039f"
            ],
            [
             0.2222222222222222,
             "#7201a8"
            ],
            [
             0.3333333333333333,
             "#9c179e"
            ],
            [
             0.4444444444444444,
             "#bd3786"
            ],
            [
             0.5555555555555556,
             "#d8576b"
            ],
            [
             0.6666666666666666,
             "#ed7953"
            ],
            [
             0.7777777777777778,
             "#fb9f3a"
            ],
            [
             0.8888888888888888,
             "#fdca26"
            ],
            [
             1,
             "#f0f921"
            ]
           ]
          },
          "colorway": [
           "#636efa",
           "#EF553B",
           "#00cc96",
           "#ab63fa",
           "#FFA15A",
           "#19d3f3",
           "#FF6692",
           "#B6E880",
           "#FF97FF",
           "#FECB52"
          ],
          "font": {
           "color": "#2a3f5f"
          },
          "geo": {
           "bgcolor": "white",
           "lakecolor": "white",
           "landcolor": "#E5ECF6",
           "showlakes": true,
           "showland": true,
           "subunitcolor": "white"
          },
          "hoverlabel": {
           "align": "left"
          },
          "hovermode": "closest",
          "mapbox": {
           "style": "light"
          },
          "paper_bgcolor": "white",
          "plot_bgcolor": "#E5ECF6",
          "polar": {
           "angularaxis": {
            "gridcolor": "white",
            "linecolor": "white",
            "ticks": ""
           },
           "bgcolor": "#E5ECF6",
           "radialaxis": {
            "gridcolor": "white",
            "linecolor": "white",
            "ticks": ""
           }
          },
          "scene": {
           "xaxis": {
            "backgroundcolor": "#E5ECF6",
            "gridcolor": "white",
            "gridwidth": 2,
            "linecolor": "white",
            "showbackground": true,
            "ticks": "",
            "zerolinecolor": "white"
           },
           "yaxis": {
            "backgroundcolor": "#E5ECF6",
            "gridcolor": "white",
            "gridwidth": 2,
            "linecolor": "white",
            "showbackground": true,
            "ticks": "",
            "zerolinecolor": "white"
           },
           "zaxis": {
            "backgroundcolor": "#E5ECF6",
            "gridcolor": "white",
            "gridwidth": 2,
            "linecolor": "white",
            "showbackground": true,
            "ticks": "",
            "zerolinecolor": "white"
           }
          },
          "shapedefaults": {
           "line": {
            "color": "#2a3f5f"
           }
          },
          "ternary": {
           "aaxis": {
            "gridcolor": "white",
            "linecolor": "white",
            "ticks": ""
           },
           "baxis": {
            "gridcolor": "white",
            "linecolor": "white",
            "ticks": ""
           },
           "bgcolor": "#E5ECF6",
           "caxis": {
            "gridcolor": "white",
            "linecolor": "white",
            "ticks": ""
           }
          },
          "title": {
           "x": 0.05
          },
          "xaxis": {
           "automargin": true,
           "gridcolor": "white",
           "linecolor": "white",
           "ticks": "",
           "title": {
            "standoff": 15
           },
           "zerolinecolor": "white",
           "zerolinewidth": 2
          },
          "yaxis": {
           "automargin": true,
           "gridcolor": "white",
           "linecolor": "white",
           "ticks": "",
           "title": {
            "standoff": 15
           },
           "zerolinecolor": "white",
           "zerolinewidth": 2
          }
         }
        },
        "width": 500,
        "xaxis": {
         "anchor": "y",
         "domain": [
          0,
          1
         ],
         "title": {
          "text": "BES Average Fold Change"
         }
        },
        "yaxis": {
         "anchor": "x",
         "domain": [
          0,
          1
         ],
         "title": {
          "text": "Main VSG Log2 Fold Change"
         }
        }
       }
      },
      "image/png": "[encoded data removed]"
     },
     "metadata": {},
     "output_type": "display_data"
    }
   ],
   "source": [
    "from plotly.subplots import make_subplots\n",
    "import plotly.graph_objects as go\n",
    "import plotly.io as pio\n",
    "\n",
    "fig = make_subplots(\n",
    "    rows=1,\n",
    "    cols=1,\n",
    "    #subplot_titles=[\"BES vs Main VSG\"],\n",
    ")\n",
    "\n",
    "scatter = go.Scatter(\n",
    "    x=merge['BES'],\n",
    "    y=merge['main_vsg'],\n",
    "    mode='markers',\n",
    "    text=list(merge.index.values),\n",
    "    hoverinfo='text',\n",
    "    name='scatter',\n",
    "    showlegend=False,\n",
    "    # hovertemplate='%{text}'\n",
    ")\n",
    "fig.add_trace(scatter, row=1, col=1)\n",
    "\n",
    "fig.update_layout(\n",
    "    width=500,\n",
    "    height=500,\n",
    "    showlegend=False,\n",
    "    hovermode='closest',\n",
    "    xaxis_title=\"BES Average Fold Change\",\n",
    "    yaxis_title=\"Main VSG Log2 Fold Change\",\n",
    ")\n",
    "\n",
    "# Save as an exportable HTML file\n",
    "pio.write_html(\n",
    "    fig,\n",
    "    file=\"vsgs_web_server/scatter_plots/bes_vs_main_vsg.html\",   # change path/name if you like\n",
    "    include_plotlyjs=\"cdn\",\n",
    "    full_html=True,\n",
    "    auto_open=False,\n",
    ")\n",
    "fig"
   ]
  },
  {
   "cell_type": "code",
   "execution_count": 45,
   "id": "bf9eb324-983f-4e9f-a560-dddf18820c25",
   "metadata": {},
   "outputs": [
    {
     "data": {
      "application/vnd.plotly.v1+json": {
       "config": {
        "plotlyServerURL": "https://plot.ly"
       },
       "data": [
        {
         "hoverinfo": "text",
         "mode": "markers",
         "name": "scatter",
         "showlegend": false,
         "text": [
          "BDF2_1_KO48",
          "BDF3_1_KO24",
          "BET151_1_Drug12h",
          "BET151_1_Drug24h",
          "BET151_1_Drug3h",
          "BET151_1_Drug48h",
          "BET151_1_Drug6h",
          "BET151_1_Drug72h",
          "CAF1b_1_RNAi24",
          "CFB2_1_RNAi9",
          "DFO_1_DFO",
          "DFO_1_DFOFe",
          "DFO_1_Fe",
          "DRBD18_1_RNAi12",
          "H1_1_RNAi96",
          "H3H4_1_KOH3",
          "H3H4_1_KOH3J",
          "H3H4_1_KOH4",
          "H3H4_1_KOH4J",
          "H3H4_1_KOJ2",
          "H3H4_2_KO48",
          "H3H4_3_KO48",
          "H3_1_KOH3",
          "H3_1_KOH3J",
          "H3_1_KOJ",
          "IPMK_1_RNAi36",
          "IPMK_2_RNAi36",
          "MCMBP_1_KO24",
          "MCMBP_1_KO48",
          "PIP5Pase_1_KO",
          "PIP5Pase_2_D360A_N362A",
          "PNUTS_1_RNAi48",
          "RBP10_1_RNAi24",
          "RBP10_2_RNAi24",
          "RBP10_3_RNAi24",
          "RBP33_1_RNAi48",
          "RBP42_1_KO24",
          "RBP42_1_KO48",
          "RBP42_1_KO72",
          "RNaseH1_1_KO",
          "RNaseH2A_1_RNAi24",
          "RNaseH2A_2_RNAi36",
          "SET27_1_KO",
          "SET27_1_sKO",
          "SNF2PH_1_RNAi48",
          "TFR_1_RNAi24",
          "TbATR_1_RNAi24",
          "TbATR_2_RNAi36",
          "TbCMT1_1_KO",
          "TbESB1_1_RNAi24",
          "TbESB1_2_KO48",
          "TbESB1_3_OE24",
          "TbHAT_1_RNAi48HAT1",
          "TbHAT_1_RNAi48HAT2",
          "TbPP1one_1_RNAi24",
          "TbPP1seven_1_RNAi24",
          "TbRAP1_1_2SD",
          "TbRAP1_1_5A",
          "TbRAP1_1_KO",
          "TbRAP1_2_dMyb",
          "TbSAP_1_RNAi72",
          "VEX1_1_Oe72",
          "VEX1_2_RNAi72",
          "VEX1_4_RNAi24",
          "VEX1_5_RNAi48",
          "VEX1_6_RNAi72",
          "VEX1and2_1_RNAi24",
          "VEX1and2_1_RNAi48",
          "VEX2_1_RNAi24",
          "VEX2_1_RNAi48",
          "ZC3H28_1_RNAi10",
          "ZC3H28_1_RNAi14",
          "ZC3H28_1_RNAi16",
          "ZC3H28_1_RNAi24",
          "ZC3H40_1_RNAi72",
          "ZC3H5_2_RNAi12",
          "ZC3H5_3_RNAi12",
          "ZC3H5_4_RNAi12",
          "ZC3H5_5_RNAi12"
         ],
         "type": "scatter",
         "x": {
          "bdata": "AAAAAAAA8D/OUk2QpGjwPwAAAAAAAPA/AAAAAAAA8D8AAAAAAADwPwAAAAAAAPA/AAAAAAAA8D9SWyP7XpzwP1lAJZt2xvA/8fLLvxDF7z8AAAAAAADwPwAAAAAAAPA/AAAAAAAA8D8AAAAAAADwPwAAAAAAAPA/AAAAAAAA8D8AAAAAAADwPwAAAAAAAPA/AAAAAAAA8D8AAAAAAADwP/FFr2j1yvA/rDTmZkeU8D8AAAAAAADwP7M60ie2FvA/AAAAAAAA8D/2cUySVQHwPwAAAAAAAPA/rAZFTo9b8D8BwFFRJs7yP9rkg2VVWDBAEv/MGcUREEBB5vWZ/9zwPwAAAAAAAPA/AAAAAAAA8D8AAAAAAADwP8Z7059qdwVAsZkPfs4D8D8x6oaoDTLwP78etbsh1vE/AAAAAAAA8D8AAAAAAADwP4b59JV2tPA/2HUVjfn+8D8AAAAAAADwPwAAAAAAAPA/2zLRJnoV8D/9r8pg3znwP/Ml2kbJ1/E/AAAAAAAA8D91dA1CMEPwP1ovGOzr1PA/AAAAAAAA8D8AAAAAAADwP5EngEGoBvA/sdu8KbyWEEAAAAAAAADwPzWoyrQMyRlAYLaujhmrDUDMzHttvZoRQJJDJGvNxiFAgUTloeoL8T8C8ONBUSvxPwAAAAAAAPA/AAAAAAAA8D8AAAAAAADwPwAAAAAAAPA/9xFq9Cw68D/sQ9/DPo/wP650g69rS/A/eSzTyhBz8D82HuinGKHvPwAAAAAAAPA/TLWFFWy57z9O0F4vN43vPwAAAAAAAPA/WxAxmM8E8T8AAAAAAADwPwAAAAAAAPA/AAAAAAAA8D8=",
          "dtype": "f8"
         },
         "xaxis": "x",
         "y": {
          "bdata": "gmaXC2nI17/ILHm0asXhv1ZDAUPFNpy/rLmsyg6z5r/onqjRoeXeP8FTvOcUnATALZKdJfwbuD8U8O37C8sIwPAUCLwxTt2/NJMiholO9r/Fm0pMuG6hP2BbPXtI4qS/0B34f5Cwqz+1+tNB6k/Uv8ZOXiDp7OC/tMDG9/7s1L9+MyHNKZy+v8bVT0KP0+W/eTq2gWZ55L+kG51AaGnvv66Exnfbh/W/G7PjyNVQAMDsDBHAvyaxv640B3pHKbc/z/U30q1IgT+AJT+gsf3Rv4qEa2SDNMa/NYyQ86E6x794rlDWlZDmv/TN0ezTheC/a3xV07Gf9b9+beQtOya8v/bJODLGeOW/efxjCdgD5r+bzpMD8CLlv1uRTpnXvvG/rqoac6ukxj/o/f1GRGCSv2V/dnihNsy/Kr5xaWlFwr8BrvtRXrjav6E8Yzk0BPi/c9QoLTYzyD+v8O5IMyW6vyRKBiiXmI6/i0hCqckmsL8JvmwbBpLMv3pWqWEsqeW/cE8rtPeR1D+Hm7bALMb9v8T+RzfpFgTASER0OaPUz78ef+IlASLQv46b9BPKicq/zgbxvgj2wb/SvaV4DR7lvwfubZ+88fW/DPL3ClMaAMDSeMOcG1ndv7xLstXXjOe/59PgDSH0g7/7DfP195nKv6RB3didbbk/kUMUmH3pnb8BHX8d3Ya/v6uIyWf7/4a/sX6kYBay3b8UgZ4Dro/sv4HQpf5PeOO/q9XJrkdw5b9BQm631xHEv9fwAhNqd+6/eLCou3RJ6b9cVQnfqdvxv41bF8NAvdC/ynWfMl5Xwr/QJOD2mMqiv33JRoEfEuQ/fkQAXyq4wL8=",
          "dtype": "f8"
         },
         "yaxis": "y"
        }
       ],
       "layout": {
        "height": 500,
        "hovermode": "closest",
        "showlegend": false,
        "template": {
         "data": {
          "bar": [
           {
            "error_x": {
             "color": "#2a3f5f"
            },
            "error_y": {
             "color": "#2a3f5f"
            },
            "marker": {
             "line": {
              "color": "#E5ECF6",
              "width": 0.5
             },
             "pattern": {
              "fillmode": "overlay",
              "size": 10,
              "solidity": 0.2
             }
            },
            "type": "bar"
           }
          ],
          "barpolar": [
           {
            "marker": {
             "line": {
              "color": "#E5ECF6",
              "width": 0.5
             },
             "pattern": {
              "fillmode": "overlay",
              "size": 10,
              "solidity": 0.2
             }
            },
            "type": "barpolar"
           }
          ],
          "carpet": [
           {
            "aaxis": {
             "endlinecolor": "#2a3f5f",
             "gridcolor": "white",
             "linecolor": "white",
             "minorgridcolor": "white",
             "startlinecolor": "#2a3f5f"
            },
            "baxis": {
             "endlinecolor": "#2a3f5f",
             "gridcolor": "white",
             "linecolor": "white",
             "minorgridcolor": "white",
             "startlinecolor": "#2a3f5f"
            },
            "type": "carpet"
           }
          ],
          "choropleth": [
           {
            "colorbar": {
             "outlinewidth": 0,
             "ticks": ""
            },
            "type": "choropleth"
           }
          ],
          "contour": [
           {
            "colorbar": {
             "outlinewidth": 0,
             "ticks": ""
            },
            "colorscale": [
             [
              0,
              "#0d0887"
             ],
             [
              0.1111111111111111,
              "#46039f"
             ],
             [
              0.2222222222222222,
              "#7201a8"
             ],
             [
              0.3333333333333333,
              "#9c179e"
             ],
             [
              0.4444444444444444,
              "#bd3786"
             ],
             [
              0.5555555555555556,
              "#d8576b"
             ],
             [
              0.6666666666666666,
              "#ed7953"
             ],
             [
              0.7777777777777778,
              "#fb9f3a"
             ],
             [
              0.8888888888888888,
              "#fdca26"
             ],
             [
              1,
              "#f0f921"
             ]
            ],
            "type": "contour"
           }
          ],
          "contourcarpet": [
           {
            "colorbar": {
             "outlinewidth": 0,
             "ticks": ""
            },
            "type": "contourcarpet"
           }
          ],
          "heatmap": [
           {
            "colorbar": {
             "outlinewidth": 0,
             "ticks": ""
            },
            "colorscale": [
             [
              0,
              "#0d0887"
             ],
             [
              0.1111111111111111,
              "#46039f"
             ],
             [
              0.2222222222222222,
              "#7201a8"
             ],
             [
              0.3333333333333333,
              "#9c179e"
             ],
             [
              0.4444444444444444,
              "#bd3786"
             ],
             [
              0.5555555555555556,
              "#d8576b"
             ],
             [
              0.6666666666666666,
              "#ed7953"
             ],
             [
              0.7777777777777778,
              "#fb9f3a"
             ],
             [
              0.8888888888888888,
              "#fdca26"
             ],
             [
              1,
              "#f0f921"
             ]
            ],
            "type": "heatmap"
           }
          ],
          "histogram": [
           {
            "marker": {
             "pattern": {
              "fillmode": "overlay",
              "size": 10,
              "solidity": 0.2
             }
            },
            "type": "histogram"
           }
          ],
          "histogram2d": [
           {
            "colorbar": {
             "outlinewidth": 0,
             "ticks": ""
            },
            "colorscale": [
             [
              0,
              "#0d0887"
             ],
             [
              0.1111111111111111,
              "#46039f"
             ],
             [
              0.2222222222222222,
              "#7201a8"
             ],
             [
              0.3333333333333333,
              "#9c179e"
             ],
             [
              0.4444444444444444,
              "#bd3786"
             ],
             [
              0.5555555555555556,
              "#d8576b"
             ],
             [
              0.6666666666666666,
              "#ed7953"
             ],
             [
              0.7777777777777778,
              "#fb9f3a"
             ],
             [
              0.8888888888888888,
              "#fdca26"
             ],
             [
              1,
              "#f0f921"
             ]
            ],
            "type": "histogram2d"
           }
          ],
          "histogram2dcontour": [
           {
            "colorbar": {
             "outlinewidth": 0,
             "ticks": ""
            },
            "colorscale": [
             [
              0,
              "#0d0887"
             ],
             [
              0.1111111111111111,
              "#46039f"
             ],
             [
              0.2222222222222222,
              "#7201a8"
             ],
             [
              0.3333333333333333,
              "#9c179e"
             ],
             [
              0.4444444444444444,
              "#bd3786"
             ],
             [
              0.5555555555555556,
              "#d8576b"
             ],
             [
              0.6666666666666666,
              "#ed7953"
             ],
             [
              0.7777777777777778,
              "#fb9f3a"
             ],
             [
              0.8888888888888888,
              "#fdca26"
             ],
             [
              1,
              "#f0f921"
             ]
            ],
            "type": "histogram2dcontour"
           }
          ],
          "mesh3d": [
           {
            "colorbar": {
             "outlinewidth": 0,
             "ticks": ""
            },
            "type": "mesh3d"
           }
          ],
          "parcoords": [
           {
            "line": {
             "colorbar": {
              "outlinewidth": 0,
              "ticks": ""
             }
            },
            "type": "parcoords"
           }
          ],
          "pie": [
           {
            "automargin": true,
            "type": "pie"
           }
          ],
          "scatter": [
           {
            "fillpattern": {
             "fillmode": "overlay",
             "size": 10,
             "solidity": 0.2
            },
            "type": "scatter"
           }
          ],
          "scatter3d": [
           {
            "line": {
             "colorbar": {
              "outlinewidth": 0,
              "ticks": ""
             }
            },
            "marker": {
             "colorbar": {
              "outlinewidth": 0,
              "ticks": ""
             }
            },
            "type": "scatter3d"
           }
          ],
          "scattercarpet": [
           {
            "marker": {
             "colorbar": {
              "outlinewidth": 0,
              "ticks": ""
             }
            },
            "type": "scattercarpet"
           }
          ],
          "scattergeo": [
           {
            "marker": {
             "colorbar": {
              "outlinewidth": 0,
              "ticks": ""
             }
            },
            "type": "scattergeo"
           }
          ],
          "scattergl": [
           {
            "marker": {
             "colorbar": {
              "outlinewidth": 0,
              "ticks": ""
             }
            },
            "type": "scattergl"
           }
          ],
          "scattermap": [
           {
            "marker": {
             "colorbar": {
              "outlinewidth": 0,
              "ticks": ""
             }
            },
            "type": "scattermap"
           }
          ],
          "scattermapbox": [
           {
            "marker": {
             "colorbar": {
              "outlinewidth": 0,
              "ticks": ""
             }
            },
            "type": "scattermapbox"
           }
          ],
          "scatterpolar": [
           {
            "marker": {
             "colorbar": {
              "outlinewidth": 0,
              "ticks": ""
             }
            },
            "type": "scatterpolar"
           }
          ],
          "scatterpolargl": [
           {
            "marker": {
             "colorbar": {
              "outlinewidth": 0,
              "ticks": ""
             }
            },
            "type": "scatterpolargl"
           }
          ],
          "scatterternary": [
           {
            "marker": {
             "colorbar": {
              "outlinewidth": 0,
              "ticks": ""
             }
            },
            "type": "scatterternary"
           }
          ],
          "surface": [
           {
            "colorbar": {
             "outlinewidth": 0,
             "ticks": ""
            },
            "colorscale": [
             [
              0,
              "#0d0887"
             ],
             [
              0.1111111111111111,
              "#46039f"
             ],
             [
              0.2222222222222222,
              "#7201a8"
             ],
             [
              0.3333333333333333,
              "#9c179e"
             ],
             [
              0.4444444444444444,
              "#bd3786"
             ],
             [
              0.5555555555555556,
              "#d8576b"
             ],
             [
              0.6666666666666666,
              "#ed7953"
             ],
             [
              0.7777777777777778,
              "#fb9f3a"
             ],
             [
              0.8888888888888888,
              "#fdca26"
             ],
             [
              1,
              "#f0f921"
             ]
            ],
            "type": "surface"
           }
          ],
          "table": [
           {
            "cells": {
             "fill": {
              "color": "#EBF0F8"
             },
             "line": {
              "color": "white"
             }
            },
            "header": {
             "fill": {
              "color": "#C8D4E3"
             },
             "line": {
              "color": "white"
             }
            },
            "type": "table"
           }
          ]
         },
         "layout": {
          "annotationdefaults": {
           "arrowcolor": "#2a3f5f",
           "arrowhead": 0,
           "arrowwidth": 1
          },
          "autotypenumbers": "strict",
          "coloraxis": {
           "colorbar": {
            "outlinewidth": 0,
            "ticks": ""
           }
          },
          "colorscale": {
           "diverging": [
            [
             0,
             "#8e0152"
            ],
            [
             0.1,
             "#c51b7d"
            ],
            [
             0.2,
             "#de77ae"
            ],
            [
             0.3,
             "#f1b6da"
            ],
            [
             0.4,
             "#fde0ef"
            ],
            [
             0.5,
             "#f7f7f7"
            ],
            [
             0.6,
             "#e6f5d0"
            ],
            [
             0.7,
             "#b8e186"
            ],
            [
             0.8,
             "#7fbc41"
            ],
            [
             0.9,
             "#4d9221"
            ],
            [
             1,
             "#276419"
            ]
           ],
           "sequential": [
            [
             0,
             "#0d0887"
            ],
            [
             0.1111111111111111,
             "#46039f"
            ],
            [
             0.2222222222222222,
             "#7201a8"
            ],
            [
             0.3333333333333333,
             "#9c179e"
            ],
            [
             0.4444444444444444,
             "#bd3786"
            ],
            [
             0.5555555555555556,
             "#d8576b"
            ],
            [
             0.6666666666666666,
             "#ed7953"
            ],
            [
             0.7777777777777778,
             "#fb9f3a"
            ],
            [
             0.8888888888888888,
             "#fdca26"
            ],
            [
             1,
             "#f0f921"
            ]
           ],
           "sequentialminus": [
            [
             0,
             "#0d0887"
            ],
            [
             0.1111111111111111,
             "#46039f"
            ],
            [
             0.2222222222222222,
             "#7201a8"
            ],
            [
             0.3333333333333333,
             "#9c179e"
            ],
            [
             0.4444444444444444,
             "#bd3786"
            ],
            [
             0.5555555555555556,
             "#d8576b"
            ],
            [
             0.6666666666666666,
             "#ed7953"
            ],
            [
             0.7777777777777778,
             "#fb9f3a"
            ],
            [
             0.8888888888888888,
             "#fdca26"
            ],
            [
             1,
             "#f0f921"
            ]
           ]
          },
          "colorway": [
           "#636efa",
           "#EF553B",
           "#00cc96",
           "#ab63fa",
           "#FFA15A",
           "#19d3f3",
           "#FF6692",
           "#B6E880",
           "#FF97FF",
           "#FECB52"
          ],
          "font": {
           "color": "#2a3f5f"
          },
          "geo": {
           "bgcolor": "white",
           "lakecolor": "white",
           "landcolor": "#E5ECF6",
           "showlakes": true,
           "showland": true,
           "subunitcolor": "white"
          },
          "hoverlabel": {
           "align": "left"
          },
          "hovermode": "closest",
          "mapbox": {
           "style": "light"
          },
          "paper_bgcolor": "white",
          "plot_bgcolor": "#E5ECF6",
          "polar": {
           "angularaxis": {
            "gridcolor": "white",
            "linecolor": "white",
            "ticks": ""
           },
           "bgcolor": "#E5ECF6",
           "radialaxis": {
            "gridcolor": "white",
            "linecolor": "white",
            "ticks": ""
           }
          },
          "scene": {
           "xaxis": {
            "backgroundcolor": "#E5ECF6",
            "gridcolor": "white",
            "gridwidth": 2,
            "linecolor": "white",
            "showbackground": true,
            "ticks": "",
            "zerolinecolor": "white"
           },
           "yaxis": {
            "backgroundcolor": "#E5ECF6",
            "gridcolor": "white",
            "gridwidth": 2,
            "linecolor": "white",
            "showbackground": true,
            "ticks": "",
            "zerolinecolor": "white"
           },
           "zaxis": {
            "backgroundcolor": "#E5ECF6",
            "gridcolor": "white",
            "gridwidth": 2,
            "linecolor": "white",
            "showbackground": true,
            "ticks": "",
            "zerolinecolor": "white"
           }
          },
          "shapedefaults": {
           "line": {
            "color": "#2a3f5f"
           }
          },
          "ternary": {
           "aaxis": {
            "gridcolor": "white",
            "linecolor": "white",
            "ticks": ""
           },
           "baxis": {
            "gridcolor": "white",
            "linecolor": "white",
            "ticks": ""
           },
           "bgcolor": "#E5ECF6",
           "caxis": {
            "gridcolor": "white",
            "linecolor": "white",
            "ticks": ""
           }
          },
          "title": {
           "x": 0.05
          },
          "xaxis": {
           "automargin": true,
           "gridcolor": "white",
           "linecolor": "white",
           "ticks": "",
           "title": {
            "standoff": 15
           },
           "zerolinecolor": "white",
           "zerolinewidth": 2
          },
          "yaxis": {
           "automargin": true,
           "gridcolor": "white",
           "linecolor": "white",
           "ticks": "",
           "title": {
            "standoff": 15
           },
           "zerolinecolor": "white",
           "zerolinewidth": 2
          }
         }
        },
        "width": 500,
        "xaxis": {
         "anchor": "y",
         "domain": [
          0,
          1
         ],
         "title": {
          "text": "Array Average Fold Change"
         }
        },
        "yaxis": {
         "anchor": "x",
         "domain": [
          0,
          1
         ],
         "title": {
          "text": "Main VSG Log2 Fold Change"
         }
        }
       }
      },
      "image/png": "[encoded data removed]"
     },
     "metadata": {},
     "output_type": "display_data"
    }
   ],
   "source": [
    "from plotly.subplots import make_subplots\n",
    "import plotly.graph_objects as go\n",
    "import plotly.io as pio\n",
    "\n",
    "fig = make_subplots(\n",
    "    rows=1,\n",
    "    cols=1,\n",
    "    #subplot_titles=[\"array vs Main VSG\"],\n",
    ")\n",
    "\n",
    "scatter = go.Scatter(\n",
    "    x=merge['array'],\n",
    "    y=merge['main_vsg'],\n",
    "    mode='markers',\n",
    "    text=list(merge.index.values),\n",
    "    hoverinfo='text',\n",
    "    name='scatter',\n",
    "    showlegend=False,\n",
    "    # hovertemplate='%{text}'\n",
    ")\n",
    "fig.add_trace(scatter, row=1, col=1)\n",
    "\n",
    "fig.update_layout(\n",
    "    width=500,\n",
    "    height=500,\n",
    "    showlegend=False,\n",
    "    hovermode='closest',\n",
    "    xaxis_title=\"Array Average Fold Change\",\n",
    "    yaxis_title=\"Main VSG Log2 Fold Change\",\n",
    ")\n",
    "\n",
    "# Save as an exportable HTML file\n",
    "pio.write_html(\n",
    "    fig,\n",
    "    file=\"vsgs_web_server/scatter_plots/array_vs_main_vsg.html\",   # change path/name if you like\n",
    "    include_plotlyjs=\"cdn\",\n",
    "    full_html=True,\n",
    "    auto_open=False,\n",
    ")\n",
    "fig"
   ]
  },
  {
   "cell_type": "code",
   "execution_count": 46,
   "id": "5edb7731-f297-402b-979c-c9db77f20785",
   "metadata": {},
   "outputs": [
    {
     "data": {
      "application/vnd.plotly.v1+json": {
       "config": {
        "plotlyServerURL": "https://plot.ly"
       },
       "data": [
        {
         "hoverinfo": "text",
         "mode": "markers",
         "name": "scatter",
         "showlegend": false,
         "text": [
          "BDF2_1_KO48",
          "BDF3_1_KO24",
          "BET151_1_Drug12h",
          "BET151_1_Drug24h",
          "BET151_1_Drug3h",
          "BET151_1_Drug48h",
          "BET151_1_Drug6h",
          "BET151_1_Drug72h",
          "CAF1b_1_RNAi24",
          "CFB2_1_RNAi9",
          "DFO_1_DFO",
          "DFO_1_DFOFe",
          "DFO_1_Fe",
          "DRBD18_1_RNAi12",
          "H1_1_RNAi96",
          "H3H4_1_KOH3",
          "H3H4_1_KOH3J",
          "H3H4_1_KOH4",
          "H3H4_1_KOH4J",
          "H3H4_1_KOJ2",
          "H3H4_2_KO48",
          "H3H4_3_KO48",
          "H3_1_KOH3",
          "H3_1_KOH3J",
          "H3_1_KOJ",
          "IPMK_1_RNAi36",
          "IPMK_2_RNAi36",
          "MCMBP_1_KO24",
          "MCMBP_1_KO48",
          "PIP5Pase_1_KO",
          "PIP5Pase_2_D360A_N362A",
          "PNUTS_1_RNAi48",
          "RBP10_1_RNAi24",
          "RBP10_2_RNAi24",
          "RBP10_3_RNAi24",
          "RBP33_1_RNAi48",
          "RBP42_1_KO24",
          "RBP42_1_KO48",
          "RBP42_1_KO72",
          "RNaseH1_1_KO",
          "RNaseH2A_1_RNAi24",
          "RNaseH2A_2_RNAi36",
          "SET27_1_KO",
          "SET27_1_sKO",
          "SNF2PH_1_RNAi48",
          "TFR_1_RNAi24",
          "TbATR_1_RNAi24",
          "TbATR_2_RNAi36",
          "TbCMT1_1_KO",
          "TbESB1_1_RNAi24",
          "TbESB1_2_KO48",
          "TbESB1_3_OE24",
          "TbHAT_1_RNAi48HAT1",
          "TbHAT_1_RNAi48HAT2",
          "TbPP1one_1_RNAi24",
          "TbPP1seven_1_RNAi24",
          "TbRAP1_1_2SD",
          "TbRAP1_1_5A",
          "TbRAP1_1_KO",
          "TbRAP1_2_dMyb",
          "TbSAP_1_RNAi72",
          "VEX1_1_Oe72",
          "VEX1_2_RNAi72",
          "VEX1_4_RNAi24",
          "VEX1_5_RNAi48",
          "VEX1_6_RNAi72",
          "VEX1and2_1_RNAi24",
          "VEX1and2_1_RNAi48",
          "VEX2_1_RNAi24",
          "VEX2_1_RNAi48",
          "ZC3H28_1_RNAi10",
          "ZC3H28_1_RNAi14",
          "ZC3H28_1_RNAi16",
          "ZC3H28_1_RNAi24",
          "ZC3H40_1_RNAi72",
          "ZC3H5_2_RNAi12",
          "ZC3H5_3_RNAi12",
          "ZC3H5_4_RNAi12",
          "ZC3H5_5_RNAi12"
         ],
         "type": "scatter",
         "x": {
          "bdata": "AAAAAAAA8D/OUk2QpGjwPwAAAAAAAPA/AAAAAAAA8D8AAAAAAADwPwAAAAAAAPA/AAAAAAAA8D8AAAAAAADwP5UB+MVAhvA/E0wAJWHI7z8AAAAAAADwPwAAAAAAAPA/AAAAAAAA8D8AAAAAAADwPwAAAAAAAPA/YEXlO9JD8D+KxBF2cJjxPwAAAAAAAPA/AAAAAAAA8D8AAAAAAADwP28luks/WPI/gAaNBLvq8T/32j5mAT7wP5PmVrKkqPA/AAAAAAAA8D8AAAAAAADwPwAAAAAAAPA/OuKgV7kI8D8UeIpfg/LxP4ySLZMPghJAENHyXCD/AUAht2o2BiPxPwAAAAAAAPA/AAAAAAAA8D8AAAAAAADwP1nXVIjQTfQ//78GdA4H8D+ieu2GKxXwP4AmokBYD/E/AAAAAAAA8D8AAAAAAADwP3lXGRqkCvE/YF6/PVBf8D8AAAAAAADwPwAAAAAAAPA/+Fka+D8B8D+8yfTN1EXwP2TwTixUH/I/AAAAAAAA8D8COaFmLC/wPyhySMTYWPA/kXLY5tz27z/SnphRP8HuP/PcodwDEu8/LQFIh3AOAkABm9ekpbPvP+P1/N/wNQVApSO37lzM+T8NJo01rzABQBIv7/vMywxAlBM8vzQJ8T/WhDg7B5bwPxt+kcpJZfA/AAAAAAAA8D8AAAAAAADwPwAAAAAAAPA/Bwnzv8Fv8D8DVZ60INHwP/wRbCAISPA/1oEGYEac8D9sTVieZKXvPxhk4Gc9c/A/aNVPcyAO8D+3qeccTWHvP+nJ7peHBPA//0HwHNcN8T8AAAAAAADwPwAAAAAAAPA/AAAAAAAA8D8=",
          "dtype": "f8"
         },
         "xaxis": "x",
         "y": {
          "bdata": "gmaXC2nI17/ILHm0asXhv1ZDAUPFNpy/rLmsyg6z5r/onqjRoeXeP8FTvOcUnATALZKdJfwbuD8U8O37C8sIwPAUCLwxTt2/NJMiholO9r/Fm0pMuG6hP2BbPXtI4qS/0B34f5Cwqz+1+tNB6k/Uv8ZOXiDp7OC/tMDG9/7s1L9+MyHNKZy+v8bVT0KP0+W/eTq2gWZ55L+kG51AaGnvv66Exnfbh/W/G7PjyNVQAMDsDBHAvyaxv640B3pHKbc/z/U30q1IgT+AJT+gsf3Rv4qEa2SDNMa/NYyQ86E6x794rlDWlZDmv/TN0ezTheC/a3xV07Gf9b9+beQtOya8v/bJODLGeOW/efxjCdgD5r+bzpMD8CLlv1uRTpnXvvG/rqoac6ukxj/o/f1GRGCSv2V/dnihNsy/Kr5xaWlFwr8BrvtRXrjav6E8Yzk0BPi/c9QoLTYzyD+v8O5IMyW6vyRKBiiXmI6/i0hCqckmsL8JvmwbBpLMv3pWqWEsqeW/cE8rtPeR1D+Hm7bALMb9v8T+RzfpFgTASER0OaPUz78ef+IlASLQv46b9BPKicq/zgbxvgj2wb/SvaV4DR7lvwfubZ+88fW/DPL3ClMaAMDSeMOcG1ndv7xLstXXjOe/59PgDSH0g7/7DfP195nKv6RB3didbbk/kUMUmH3pnb8BHX8d3Ya/v6uIyWf7/4a/sX6kYBay3b8UgZ4Dro/sv4HQpf5PeOO/q9XJrkdw5b9BQm631xHEv9fwAhNqd+6/eLCou3RJ6b9cVQnfqdvxv41bF8NAvdC/ynWfMl5Xwr/QJOD2mMqiv33JRoEfEuQ/fkQAXyq4wL8=",
          "dtype": "f8"
         },
         "yaxis": "y"
        }
       ],
       "layout": {
        "height": 500,
        "hovermode": "closest",
        "showlegend": false,
        "template": {
         "data": {
          "bar": [
           {
            "error_x": {
             "color": "#2a3f5f"
            },
            "error_y": {
             "color": "#2a3f5f"
            },
            "marker": {
             "line": {
              "color": "#E5ECF6",
              "width": 0.5
             },
             "pattern": {
              "fillmode": "overlay",
              "size": 10,
              "solidity": 0.2
             }
            },
            "type": "bar"
           }
          ],
          "barpolar": [
           {
            "marker": {
             "line": {
              "color": "#E5ECF6",
              "width": 0.5
             },
             "pattern": {
              "fillmode": "overlay",
              "size": 10,
              "solidity": 0.2
             }
            },
            "type": "barpolar"
           }
          ],
          "carpet": [
           {
            "aaxis": {
             "endlinecolor": "#2a3f5f",
             "gridcolor": "white",
             "linecolor": "white",
             "minorgridcolor": "white",
             "startlinecolor": "#2a3f5f"
            },
            "baxis": {
             "endlinecolor": "#2a3f5f",
             "gridcolor": "white",
             "linecolor": "white",
             "minorgridcolor": "white",
             "startlinecolor": "#2a3f5f"
            },
            "type": "carpet"
           }
          ],
          "choropleth": [
           {
            "colorbar": {
             "outlinewidth": 0,
             "ticks": ""
            },
            "type": "choropleth"
           }
          ],
          "contour": [
           {
            "colorbar": {
             "outlinewidth": 0,
             "ticks": ""
            },
            "colorscale": [
             [
              0,
              "#0d0887"
             ],
             [
              0.1111111111111111,
              "#46039f"
             ],
             [
              0.2222222222222222,
              "#7201a8"
             ],
             [
              0.3333333333333333,
              "#9c179e"
             ],
             [
              0.4444444444444444,
              "#bd3786"
             ],
             [
              0.5555555555555556,
              "#d8576b"
             ],
             [
              0.6666666666666666,
              "#ed7953"
             ],
             [
              0.7777777777777778,
              "#fb9f3a"
             ],
             [
              0.8888888888888888,
              "#fdca26"
             ],
             [
              1,
              "#f0f921"
             ]
            ],
            "type": "contour"
           }
          ],
          "contourcarpet": [
           {
            "colorbar": {
             "outlinewidth": 0,
             "ticks": ""
            },
            "type": "contourcarpet"
           }
          ],
          "heatmap": [
           {
            "colorbar": {
             "outlinewidth": 0,
             "ticks": ""
            },
            "colorscale": [
             [
              0,
              "#0d0887"
             ],
             [
              0.1111111111111111,
              "#46039f"
             ],
             [
              0.2222222222222222,
              "#7201a8"
             ],
             [
              0.3333333333333333,
              "#9c179e"
             ],
             [
              0.4444444444444444,
              "#bd3786"
             ],
             [
              0.5555555555555556,
              "#d8576b"
             ],
             [
              0.6666666666666666,
              "#ed7953"
             ],
             [
              0.7777777777777778,
              "#fb9f3a"
             ],
             [
              0.8888888888888888,
              "#fdca26"
             ],
             [
              1,
              "#f0f921"
             ]
            ],
            "type": "heatmap"
           }
          ],
          "histogram": [
           {
            "marker": {
             "pattern": {
              "fillmode": "overlay",
              "size": 10,
              "solidity": 0.2
             }
            },
            "type": "histogram"
           }
          ],
          "histogram2d": [
           {
            "colorbar": {
             "outlinewidth": 0,
             "ticks": ""
            },
            "colorscale": [
             [
              0,
              "#0d0887"
             ],
             [
              0.1111111111111111,
              "#46039f"
             ],
             [
              0.2222222222222222,
              "#7201a8"
             ],
             [
              0.3333333333333333,
              "#9c179e"
             ],
             [
              0.4444444444444444,
              "#bd3786"
             ],
             [
              0.5555555555555556,
              "#d8576b"
             ],
             [
              0.6666666666666666,
              "#ed7953"
             ],
             [
              0.7777777777777778,
              "#fb9f3a"
             ],
             [
              0.8888888888888888,
              "#fdca26"
             ],
             [
              1,
              "#f0f921"
             ]
            ],
            "type": "histogram2d"
           }
          ],
          "histogram2dcontour": [
           {
            "colorbar": {
             "outlinewidth": 0,
             "ticks": ""
            },
            "colorscale": [
             [
              0,
              "#0d0887"
             ],
             [
              0.1111111111111111,
              "#46039f"
             ],
             [
              0.2222222222222222,
              "#7201a8"
             ],
             [
              0.3333333333333333,
              "#9c179e"
             ],
             [
              0.4444444444444444,
              "#bd3786"
             ],
             [
              0.5555555555555556,
              "#d8576b"
             ],
             [
              0.6666666666666666,
              "#ed7953"
             ],
             [
              0.7777777777777778,
              "#fb9f3a"
             ],
             [
              0.8888888888888888,
              "#fdca26"
             ],
             [
              1,
              "#f0f921"
             ]
            ],
            "type": "histogram2dcontour"
           }
          ],
          "mesh3d": [
           {
            "colorbar": {
             "outlinewidth": 0,
             "ticks": ""
            },
            "type": "mesh3d"
           }
          ],
          "parcoords": [
           {
            "line": {
             "colorbar": {
              "outlinewidth": 0,
              "ticks": ""
             }
            },
            "type": "parcoords"
           }
          ],
          "pie": [
           {
            "automargin": true,
            "type": "pie"
           }
          ],
          "scatter": [
           {
            "fillpattern": {
             "fillmode": "overlay",
             "size": 10,
             "solidity": 0.2
            },
            "type": "scatter"
           }
          ],
          "scatter3d": [
           {
            "line": {
             "colorbar": {
              "outlinewidth": 0,
              "ticks": ""
             }
            },
            "marker": {
             "colorbar": {
              "outlinewidth": 0,
              "ticks": ""
             }
            },
            "type": "scatter3d"
           }
          ],
          "scattercarpet": [
           {
            "marker": {
             "colorbar": {
              "outlinewidth": 0,
              "ticks": ""
             }
            },
            "type": "scattercarpet"
           }
          ],
          "scattergeo": [
           {
            "marker": {
             "colorbar": {
              "outlinewidth": 0,
              "ticks": ""
             }
            },
            "type": "scattergeo"
           }
          ],
          "scattergl": [
           {
            "marker": {
             "colorbar": {
              "outlinewidth": 0,
              "ticks": ""
             }
            },
            "type": "scattergl"
           }
          ],
          "scattermap": [
           {
            "marker": {
             "colorbar": {
              "outlinewidth": 0,
              "ticks": ""
             }
            },
            "type": "scattermap"
           }
          ],
          "scattermapbox": [
           {
            "marker": {
             "colorbar": {
              "outlinewidth": 0,
              "ticks": ""
             }
            },
            "type": "scattermapbox"
           }
          ],
          "scatterpolar": [
           {
            "marker": {
             "colorbar": {
              "outlinewidth": 0,
              "ticks": ""
             }
            },
            "type": "scatterpolar"
           }
          ],
          "scatterpolargl": [
           {
            "marker": {
             "colorbar": {
              "outlinewidth": 0,
              "ticks": ""
             }
            },
            "type": "scatterpolargl"
           }
          ],
          "scatterternary": [
           {
            "marker": {
             "colorbar": {
              "outlinewidth": 0,
              "ticks": ""
             }
            },
            "type": "scatterternary"
           }
          ],
          "surface": [
           {
            "colorbar": {
             "outlinewidth": 0,
             "ticks": ""
            },
            "colorscale": [
             [
              0,
              "#0d0887"
             ],
             [
              0.1111111111111111,
              "#46039f"
             ],
             [
              0.2222222222222222,
              "#7201a8"
             ],
             [
              0.3333333333333333,
              "#9c179e"
             ],
             [
              0.4444444444444444,
              "#bd3786"
             ],
             [
              0.5555555555555556,
              "#d8576b"
             ],
             [
              0.6666666666666666,
              "#ed7953"
             ],
             [
              0.7777777777777778,
              "#fb9f3a"
             ],
             [
              0.8888888888888888,
              "#fdca26"
             ],
             [
              1,
              "#f0f921"
             ]
            ],
            "type": "surface"
           }
          ],
          "table": [
           {
            "cells": {
             "fill": {
              "color": "#EBF0F8"
             },
             "line": {
              "color": "white"
             }
            },
            "header": {
             "fill": {
              "color": "#C8D4E3"
             },
             "line": {
              "color": "white"
             }
            },
            "type": "table"
           }
          ]
         },
         "layout": {
          "annotationdefaults": {
           "arrowcolor": "#2a3f5f",
           "arrowhead": 0,
           "arrowwidth": 1
          },
          "autotypenumbers": "strict",
          "coloraxis": {
           "colorbar": {
            "outlinewidth": 0,
            "ticks": ""
           }
          },
          "colorscale": {
           "diverging": [
            [
             0,
             "#8e0152"
            ],
            [
             0.1,
             "#c51b7d"
            ],
            [
             0.2,
             "#de77ae"
            ],
            [
             0.3,
             "#f1b6da"
            ],
            [
             0.4,
             "#fde0ef"
            ],
            [
             0.5,
             "#f7f7f7"
            ],
            [
             0.6,
             "#e6f5d0"
            ],
            [
             0.7,
             "#b8e186"
            ],
            [
             0.8,
             "#7fbc41"
            ],
            [
             0.9,
             "#4d9221"
            ],
            [
             1,
             "#276419"
            ]
           ],
           "sequential": [
            [
             0,
             "#0d0887"
            ],
            [
             0.1111111111111111,
             "#46039f"
            ],
            [
             0.2222222222222222,
             "#7201a8"
            ],
            [
             0.3333333333333333,
             "#9c179e"
            ],
            [
             0.4444444444444444,
             "#bd3786"
            ],
            [
             0.5555555555555556,
             "#d8576b"
            ],
            [
             0.6666666666666666,
             "#ed7953"
            ],
            [
             0.7777777777777778,
             "#fb9f3a"
            ],
            [
             0.8888888888888888,
             "#fdca26"
            ],
            [
             1,
             "#f0f921"
            ]
           ],
           "sequentialminus": [
            [
             0,
             "#0d0887"
            ],
            [
             0.1111111111111111,
             "#46039f"
            ],
            [
             0.2222222222222222,
             "#7201a8"
            ],
            [
             0.3333333333333333,
             "#9c179e"
            ],
            [
             0.4444444444444444,
             "#bd3786"
            ],
            [
             0.5555555555555556,
             "#d8576b"
            ],
            [
             0.6666666666666666,
             "#ed7953"
            ],
            [
             0.7777777777777778,
             "#fb9f3a"
            ],
            [
             0.8888888888888888,
             "#fdca26"
            ],
            [
             1,
             "#f0f921"
            ]
           ]
          },
          "colorway": [
           "#636efa",
           "#EF553B",
           "#00cc96",
           "#ab63fa",
           "#FFA15A",
           "#19d3f3",
           "#FF6692",
           "#B6E880",
           "#FF97FF",
           "#FECB52"
          ],
          "font": {
           "color": "#2a3f5f"
          },
          "geo": {
           "bgcolor": "white",
           "lakecolor": "white",
           "landcolor": "#E5ECF6",
           "showlakes": true,
           "showland": true,
           "subunitcolor": "white"
          },
          "hoverlabel": {
           "align": "left"
          },
          "hovermode": "closest",
          "mapbox": {
           "style": "light"
          },
          "paper_bgcolor": "white",
          "plot_bgcolor": "#E5ECF6",
          "polar": {
           "angularaxis": {
            "gridcolor": "white",
            "linecolor": "white",
            "ticks": ""
           },
           "bgcolor": "#E5ECF6",
           "radialaxis": {
            "gridcolor": "white",
            "linecolor": "white",
            "ticks": ""
           }
          },
          "scene": {
           "xaxis": {
            "backgroundcolor": "#E5ECF6",
            "gridcolor": "white",
            "gridwidth": 2,
            "linecolor": "white",
            "showbackground": true,
            "ticks": "",
            "zerolinecolor": "white"
           },
           "yaxis": {
            "backgroundcolor": "#E5ECF6",
            "gridcolor": "white",
            "gridwidth": 2,
            "linecolor": "white",
            "showbackground": true,
            "ticks": "",
            "zerolinecolor": "white"
           },
           "zaxis": {
            "backgroundcolor": "#E5ECF6",
            "gridcolor": "white",
            "gridwidth": 2,
            "linecolor": "white",
            "showbackground": true,
            "ticks": "",
            "zerolinecolor": "white"
           }
          },
          "shapedefaults": {
           "line": {
            "color": "#2a3f5f"
           }
          },
          "ternary": {
           "aaxis": {
            "gridcolor": "white",
            "linecolor": "white",
            "ticks": ""
           },
           "baxis": {
            "gridcolor": "white",
            "linecolor": "white",
            "ticks": ""
           },
           "bgcolor": "#E5ECF6",
           "caxis": {
            "gridcolor": "white",
            "linecolor": "white",
            "ticks": ""
           }
          },
          "title": {
           "x": 0.05
          },
          "xaxis": {
           "automargin": true,
           "gridcolor": "white",
           "linecolor": "white",
           "ticks": "",
           "title": {
            "standoff": 15
           },
           "zerolinecolor": "white",
           "zerolinewidth": 2
          },
          "yaxis": {
           "automargin": true,
           "gridcolor": "white",
           "linecolor": "white",
           "ticks": "",
           "title": {
            "standoff": 15
           },
           "zerolinecolor": "white",
           "zerolinewidth": 2
          }
         }
        },
        "width": 500,
        "xaxis": {
         "anchor": "y",
         "domain": [
          0,
          1
         ],
         "title": {
          "text": "MC Average Fold Change"
         }
        },
        "yaxis": {
         "anchor": "x",
         "domain": [
          0,
          1
         ],
         "title": {
          "text": "Main VSG Log2 Fold Change"
         }
        }
       }
      },
      "image/png": "[encoded data removed]"
     },
     "metadata": {},
     "output_type": "display_data"
    }
   ],
   "source": [
    "from plotly.subplots import make_subplots\n",
    "import plotly.graph_objects as go\n",
    "import plotly.io as pio\n",
    "\n",
    "fig = make_subplots(\n",
    "    rows=1,\n",
    "    cols=1,\n",
    "    #subplot_titles=[\"MC vs Main VSG\"],\n",
    ")\n",
    "\n",
    "scatter = go.Scatter(\n",
    "    x=merge['MC'],\n",
    "    y=merge['main_vsg'],\n",
    "    mode='markers',\n",
    "    text=list(merge.index.values),\n",
    "    hoverinfo='text',\n",
    "    name='scatter',\n",
    "    showlegend=False,\n",
    "    # hovertemplate='%{text}'\n",
    ")\n",
    "fig.add_trace(scatter, row=1, col=1)\n",
    "\n",
    "fig.update_layout(\n",
    "    width=500,\n",
    "    height=500,\n",
    "    showlegend=False,\n",
    "    hovermode='closest',\n",
    "    xaxis_title=\"MC Average Fold Change\",\n",
    "    yaxis_title=\"Main VSG Log2 Fold Change\",\n",
    ")\n",
    "\n",
    "# Save as an exportable HTML file\n",
    "pio.write_html(\n",
    "    fig,\n",
    "    file=\"vsgs_web_server/scatter_plots/MC_vs_main_vsg.html\",   # change path/name if you like\n",
    "    include_plotlyjs=\"cdn\",\n",
    "    full_html=True,\n",
    "    auto_open=False,\n",
    ")\n",
    "fig"
   ]
  },
  {
   "cell_type": "code",
   "execution_count": 47,
   "id": "b0fb3c4d-5522-4560-a85c-73a1a0fbfece",
   "metadata": {},
   "outputs": [
    {
     "data": {
      "application/vnd.plotly.v1+json": {
       "config": {
        "plotlyServerURL": "https://plot.ly"
       },
       "data": [
        {
         "hoverinfo": "text",
         "mode": "markers",
         "name": "scatter",
         "showlegend": false,
         "text": [
          "BDF2_1_KO48",
          "BDF3_1_KO24",
          "BET151_1_Drug12h",
          "BET151_1_Drug24h",
          "BET151_1_Drug3h",
          "BET151_1_Drug48h",
          "BET151_1_Drug6h",
          "BET151_1_Drug72h",
          "CAF1b_1_RNAi24",
          "CFB2_1_RNAi9",
          "DFO_1_DFO",
          "DFO_1_DFOFe",
          "DFO_1_Fe",
          "DRBD18_1_RNAi12",
          "H1_1_RNAi96",
          "H3H4_1_KOH3",
          "H3H4_1_KOH3J",
          "H3H4_1_KOH4",
          "H3H4_1_KOH4J",
          "H3H4_1_KOJ2",
          "H3H4_2_KO48",
          "H3H4_3_KO48",
          "H3_1_KOH3",
          "H3_1_KOH3J",
          "H3_1_KOJ",
          "IPMK_1_RNAi36",
          "IPMK_2_RNAi36",
          "MCMBP_1_KO24",
          "MCMBP_1_KO48",
          "PIP5Pase_1_KO",
          "PIP5Pase_2_D360A_N362A",
          "PNUTS_1_RNAi48",
          "RBP10_1_RNAi24",
          "RBP10_2_RNAi24",
          "RBP10_3_RNAi24",
          "RBP33_1_RNAi48",
          "RBP42_1_KO24",
          "RBP42_1_KO48",
          "RBP42_1_KO72",
          "RNaseH1_1_KO",
          "RNaseH2A_1_RNAi24",
          "RNaseH2A_2_RNAi36",
          "SET27_1_KO",
          "SET27_1_sKO",
          "SNF2PH_1_RNAi48",
          "TFR_1_RNAi24",
          "TbATR_1_RNAi24",
          "TbATR_2_RNAi36",
          "TbCMT1_1_KO",
          "TbESB1_1_RNAi24",
          "TbESB1_2_KO48",
          "TbESB1_3_OE24",
          "TbHAT_1_RNAi48HAT1",
          "TbHAT_1_RNAi48HAT2",
          "TbPP1one_1_RNAi24",
          "TbPP1seven_1_RNAi24",
          "TbRAP1_1_2SD",
          "TbRAP1_1_5A",
          "TbRAP1_1_KO",
          "TbRAP1_2_dMyb",
          "TbSAP_1_RNAi72",
          "VEX1_1_Oe72",
          "VEX1_2_RNAi72",
          "VEX1_4_RNAi24",
          "VEX1_5_RNAi48",
          "VEX1_6_RNAi72",
          "VEX1and2_1_RNAi24",
          "VEX1and2_1_RNAi48",
          "VEX2_1_RNAi24",
          "VEX2_1_RNAi48",
          "ZC3H28_1_RNAi10",
          "ZC3H28_1_RNAi14",
          "ZC3H28_1_RNAi16",
          "ZC3H28_1_RNAi24",
          "ZC3H40_1_RNAi72",
          "ZC3H5_2_RNAi12",
          "ZC3H5_3_RNAi12",
          "ZC3H5_4_RNAi12",
          "ZC3H5_5_RNAi12"
         ],
         "type": "scatter",
         "x": {
          "bdata": "B+/oRsze9j9RjwF2Fu0YQOxMQ6mw+O4/jGhcBfx37T/JQV/sXn/xP+kmvsCvRwVARAYK4vbL8T/9zaQmc5MlQBQ2c44grkJAop1oP0SgBkCFkZUz2uvwP3dbAWxjR+4/stWiAxVU7z9A63YXp7rqPyUrlQiJAgNA3Xe3TMpPAkAqn36vpM4TQAONxPYRvOA/M+yFhnoW6T9ECyo4HNfUP1Lqs+A3hyVAR0E/1h31L0B8VpwwOVsSQCzrgXD2hxhAiKZRStL58D9UFkWR14PxP1K5TSq8luw/w8+j+0ETE0As9cZdR5MqQMLrTLZlqzhA95Ha9R7TJkBcHSX35PMkQKyi2C3HX+w/v2m/6min7T/J0fPMeI7kPzbtOsuhLidA0RsGeX4h9T8kiBeyjOzzP0dvLwV5ygNAzidxcdAd8T/bZVcSlbkEQFH2+rTzZh9AtmwhmZ6XDUAgQ5yOUsL/P0XlbWo11QZAslkn0a/C9j96EmPVarELQKmm5V6EDjBAY2/J0gJ77j9iejTJBawAQFniqFnX3gBAM2jdZhN5HUCq+nKA0QAHQKsXzwgSrgxANWG0HM6wQUALsUcicJXiPzjw8xppETFAZELLs9l2J0CaQDmSlGw8QAs0qBXtY0tAHEgDUKdEJ0CNgz96FDQeQCqIgnRPuRNAIJiqovQhCkDBRxMwog0gQI21QNQbkx5ArEIwxhKNTkB1FtgGzRpXQG3AMe5UeTFAyr22XXKBJUBGd1MIOHfvP9eJIdp3B+g/McDLLqsA6D83MvKLMvftP9sCZ3wrXwJA24lzFxkb8j9tJCFrlobyP9vl2xGMAf4/1RA+8ijO7T8=",
          "dtype": "f8"
         },
         "xaxis": "x",
         "y": {
          "bdata": "gmaXC2nI17/ILHm0asXhv1ZDAUPFNpy/rLmsyg6z5r/onqjRoeXeP8FTvOcUnATALZKdJfwbuD8U8O37C8sIwPAUCLwxTt2/NJMiholO9r/Fm0pMuG6hP2BbPXtI4qS/0B34f5Cwqz+1+tNB6k/Uv8ZOXiDp7OC/tMDG9/7s1L9+MyHNKZy+v8bVT0KP0+W/eTq2gWZ55L+kG51AaGnvv66Exnfbh/W/G7PjyNVQAMDsDBHAvyaxv640B3pHKbc/z/U30q1IgT+AJT+gsf3Rv4qEa2SDNMa/NYyQ86E6x794rlDWlZDmv/TN0ezTheC/a3xV07Gf9b9+beQtOya8v/bJODLGeOW/efxjCdgD5r+bzpMD8CLlv1uRTpnXvvG/rqoac6ukxj/o/f1GRGCSv2V/dnihNsy/Kr5xaWlFwr8BrvtRXrjav6E8Yzk0BPi/c9QoLTYzyD+v8O5IMyW6vyRKBiiXmI6/i0hCqckmsL8JvmwbBpLMv3pWqWEsqeW/cE8rtPeR1D+Hm7bALMb9v8T+RzfpFgTASER0OaPUz78ef+IlASLQv46b9BPKicq/zgbxvgj2wb/SvaV4DR7lvwfubZ+88fW/DPL3ClMaAMDSeMOcG1ndv7xLstXXjOe/59PgDSH0g7/7DfP195nKv6RB3didbbk/kUMUmH3pnb8BHX8d3Ya/v6uIyWf7/4a/sX6kYBay3b8UgZ4Dro/sv4HQpf5PeOO/q9XJrkdw5b9BQm631xHEv9fwAhNqd+6/eLCou3RJ6b9cVQnfqdvxv41bF8NAvdC/ynWfMl5Xwr/QJOD2mMqiv33JRoEfEuQ/fkQAXyq4wL8=",
          "dtype": "f8"
         },
         "yaxis": "y"
        }
       ],
       "layout": {
        "height": 500,
        "hovermode": "closest",
        "showlegend": false,
        "template": {
         "data": {
          "bar": [
           {
            "error_x": {
             "color": "#2a3f5f"
            },
            "error_y": {
             "color": "#2a3f5f"
            },
            "marker": {
             "line": {
              "color": "#E5ECF6",
              "width": 0.5
             },
             "pattern": {
              "fillmode": "overlay",
              "size": 10,
              "solidity": 0.2
             }
            },
            "type": "bar"
           }
          ],
          "barpolar": [
           {
            "marker": {
             "line": {
              "color": "#E5ECF6",
              "width": 0.5
             },
             "pattern": {
              "fillmode": "overlay",
              "size": 10,
              "solidity": 0.2
             }
            },
            "type": "barpolar"
           }
          ],
          "carpet": [
           {
            "aaxis": {
             "endlinecolor": "#2a3f5f",
             "gridcolor": "white",
             "linecolor": "white",
             "minorgridcolor": "white",
             "startlinecolor": "#2a3f5f"
            },
            "baxis": {
             "endlinecolor": "#2a3f5f",
             "gridcolor": "white",
             "linecolor": "white",
             "minorgridcolor": "white",
             "startlinecolor": "#2a3f5f"
            },
            "type": "carpet"
           }
          ],
          "choropleth": [
           {
            "colorbar": {
             "outlinewidth": 0,
             "ticks": ""
            },
            "type": "choropleth"
           }
          ],
          "contour": [
           {
            "colorbar": {
             "outlinewidth": 0,
             "ticks": ""
            },
            "colorscale": [
             [
              0,
              "#0d0887"
             ],
             [
              0.1111111111111111,
              "#46039f"
             ],
             [
              0.2222222222222222,
              "#7201a8"
             ],
             [
              0.3333333333333333,
              "#9c179e"
             ],
             [
              0.4444444444444444,
              "#bd3786"
             ],
             [
              0.5555555555555556,
              "#d8576b"
             ],
             [
              0.6666666666666666,
              "#ed7953"
             ],
             [
              0.7777777777777778,
              "#fb9f3a"
             ],
             [
              0.8888888888888888,
              "#fdca26"
             ],
             [
              1,
              "#f0f921"
             ]
            ],
            "type": "contour"
           }
          ],
          "contourcarpet": [
           {
            "colorbar": {
             "outlinewidth": 0,
             "ticks": ""
            },
            "type": "contourcarpet"
           }
          ],
          "heatmap": [
           {
            "colorbar": {
             "outlinewidth": 0,
             "ticks": ""
            },
            "colorscale": [
             [
              0,
              "#0d0887"
             ],
             [
              0.1111111111111111,
              "#46039f"
             ],
             [
              0.2222222222222222,
              "#7201a8"
             ],
             [
              0.3333333333333333,
              "#9c179e"
             ],
             [
              0.4444444444444444,
              "#bd3786"
             ],
             [
              0.5555555555555556,
              "#d8576b"
             ],
             [
              0.6666666666666666,
              "#ed7953"
             ],
             [
              0.7777777777777778,
              "#fb9f3a"
             ],
             [
              0.8888888888888888,
              "#fdca26"
             ],
             [
              1,
              "#f0f921"
             ]
            ],
            "type": "heatmap"
           }
          ],
          "histogram": [
           {
            "marker": {
             "pattern": {
              "fillmode": "overlay",
              "size": 10,
              "solidity": 0.2
             }
            },
            "type": "histogram"
           }
          ],
          "histogram2d": [
           {
            "colorbar": {
             "outlinewidth": 0,
             "ticks": ""
            },
            "colorscale": [
             [
              0,
              "#0d0887"
             ],
             [
              0.1111111111111111,
              "#46039f"
             ],
             [
              0.2222222222222222,
              "#7201a8"
             ],
             [
              0.3333333333333333,
              "#9c179e"
             ],
             [
              0.4444444444444444,
              "#bd3786"
             ],
             [
              0.5555555555555556,
              "#d8576b"
             ],
             [
              0.6666666666666666,
              "#ed7953"
             ],
             [
              0.7777777777777778,
              "#fb9f3a"
             ],
             [
              0.8888888888888888,
              "#fdca26"
             ],
             [
              1,
              "#f0f921"
             ]
            ],
            "type": "histogram2d"
           }
          ],
          "histogram2dcontour": [
           {
            "colorbar": {
             "outlinewidth": 0,
             "ticks": ""
            },
            "colorscale": [
             [
              0,
              "#0d0887"
             ],
             [
              0.1111111111111111,
              "#46039f"
             ],
             [
              0.2222222222222222,
              "#7201a8"
             ],
             [
              0.3333333333333333,
              "#9c179e"
             ],
             [
              0.4444444444444444,
              "#bd3786"
             ],
             [
              0.5555555555555556,
              "#d8576b"
             ],
             [
              0.6666666666666666,
              "#ed7953"
             ],
             [
              0.7777777777777778,
              "#fb9f3a"
             ],
             [
              0.8888888888888888,
              "#fdca26"
             ],
             [
              1,
              "#f0f921"
             ]
            ],
            "type": "histogram2dcontour"
           }
          ],
          "mesh3d": [
           {
            "colorbar": {
             "outlinewidth": 0,
             "ticks": ""
            },
            "type": "mesh3d"
           }
          ],
          "parcoords": [
           {
            "line": {
             "colorbar": {
              "outlinewidth": 0,
              "ticks": ""
             }
            },
            "type": "parcoords"
           }
          ],
          "pie": [
           {
            "automargin": true,
            "type": "pie"
           }
          ],
          "scatter": [
           {
            "fillpattern": {
             "fillmode": "overlay",
             "size": 10,
             "solidity": 0.2
            },
            "type": "scatter"
           }
          ],
          "scatter3d": [
           {
            "line": {
             "colorbar": {
              "outlinewidth": 0,
              "ticks": ""
             }
            },
            "marker": {
             "colorbar": {
              "outlinewidth": 0,
              "ticks": ""
             }
            },
            "type": "scatter3d"
           }
          ],
          "scattercarpet": [
           {
            "marker": {
             "colorbar": {
              "outlinewidth": 0,
              "ticks": ""
             }
            },
            "type": "scattercarpet"
           }
          ],
          "scattergeo": [
           {
            "marker": {
             "colorbar": {
              "outlinewidth": 0,
              "ticks": ""
             }
            },
            "type": "scattergeo"
           }
          ],
          "scattergl": [
           {
            "marker": {
             "colorbar": {
              "outlinewidth": 0,
              "ticks": ""
             }
            },
            "type": "scattergl"
           }
          ],
          "scattermap": [
           {
            "marker": {
             "colorbar": {
              "outlinewidth": 0,
              "ticks": ""
             }
            },
            "type": "scattermap"
           }
          ],
          "scattermapbox": [
           {
            "marker": {
             "colorbar": {
              "outlinewidth": 0,
              "ticks": ""
             }
            },
            "type": "scattermapbox"
           }
          ],
          "scatterpolar": [
           {
            "marker": {
             "colorbar": {
              "outlinewidth": 0,
              "ticks": ""
             }
            },
            "type": "scatterpolar"
           }
          ],
          "scatterpolargl": [
           {
            "marker": {
             "colorbar": {
              "outlinewidth": 0,
              "ticks": ""
             }
            },
            "type": "scatterpolargl"
           }
          ],
          "scatterternary": [
           {
            "marker": {
             "colorbar": {
              "outlinewidth": 0,
              "ticks": ""
             }
            },
            "type": "scatterternary"
           }
          ],
          "surface": [
           {
            "colorbar": {
             "outlinewidth": 0,
             "ticks": ""
            },
            "colorscale": [
             [
              0,
              "#0d0887"
             ],
             [
              0.1111111111111111,
              "#46039f"
             ],
             [
              0.2222222222222222,
              "#7201a8"
             ],
             [
              0.3333333333333333,
              "#9c179e"
             ],
             [
              0.4444444444444444,
              "#bd3786"
             ],
             [
              0.5555555555555556,
              "#d8576b"
             ],
             [
              0.6666666666666666,
              "#ed7953"
             ],
             [
              0.7777777777777778,
              "#fb9f3a"
             ],
             [
              0.8888888888888888,
              "#fdca26"
             ],
             [
              1,
              "#f0f921"
             ]
            ],
            "type": "surface"
           }
          ],
          "table": [
           {
            "cells": {
             "fill": {
              "color": "#EBF0F8"
             },
             "line": {
              "color": "white"
             }
            },
            "header": {
             "fill": {
              "color": "#C8D4E3"
             },
             "line": {
              "color": "white"
             }
            },
            "type": "table"
           }
          ]
         },
         "layout": {
          "annotationdefaults": {
           "arrowcolor": "#2a3f5f",
           "arrowhead": 0,
           "arrowwidth": 1
          },
          "autotypenumbers": "strict",
          "coloraxis": {
           "colorbar": {
            "outlinewidth": 0,
            "ticks": ""
           }
          },
          "colorscale": {
           "diverging": [
            [
             0,
             "#8e0152"
            ],
            [
             0.1,
             "#c51b7d"
            ],
            [
             0.2,
             "#de77ae"
            ],
            [
             0.3,
             "#f1b6da"
            ],
            [
             0.4,
             "#fde0ef"
            ],
            [
             0.5,
             "#f7f7f7"
            ],
            [
             0.6,
             "#e6f5d0"
            ],
            [
             0.7,
             "#b8e186"
            ],
            [
             0.8,
             "#7fbc41"
            ],
            [
             0.9,
             "#4d9221"
            ],
            [
             1,
             "#276419"
            ]
           ],
           "sequential": [
            [
             0,
             "#0d0887"
            ],
            [
             0.1111111111111111,
             "#46039f"
            ],
            [
             0.2222222222222222,
             "#7201a8"
            ],
            [
             0.3333333333333333,
             "#9c179e"
            ],
            [
             0.4444444444444444,
             "#bd3786"
            ],
            [
             0.5555555555555556,
             "#d8576b"
            ],
            [
             0.6666666666666666,
             "#ed7953"
            ],
            [
             0.7777777777777778,
             "#fb9f3a"
            ],
            [
             0.8888888888888888,
             "#fdca26"
            ],
            [
             1,
             "#f0f921"
            ]
           ],
           "sequentialminus": [
            [
             0,
             "#0d0887"
            ],
            [
             0.1111111111111111,
             "#46039f"
            ],
            [
             0.2222222222222222,
             "#7201a8"
            ],
            [
             0.3333333333333333,
             "#9c179e"
            ],
            [
             0.4444444444444444,
             "#bd3786"
            ],
            [
             0.5555555555555556,
             "#d8576b"
            ],
            [
             0.6666666666666666,
             "#ed7953"
            ],
            [
             0.7777777777777778,
             "#fb9f3a"
            ],
            [
             0.8888888888888888,
             "#fdca26"
            ],
            [
             1,
             "#f0f921"
            ]
           ]
          },
          "colorway": [
           "#636efa",
           "#EF553B",
           "#00cc96",
           "#ab63fa",
           "#FFA15A",
           "#19d3f3",
           "#FF6692",
           "#B6E880",
           "#FF97FF",
           "#FECB52"
          ],
          "font": {
           "color": "#2a3f5f"
          },
          "geo": {
           "bgcolor": "white",
           "lakecolor": "white",
           "landcolor": "#E5ECF6",
           "showlakes": true,
           "showland": true,
           "subunitcolor": "white"
          },
          "hoverlabel": {
           "align": "left"
          },
          "hovermode": "closest",
          "mapbox": {
           "style": "light"
          },
          "paper_bgcolor": "white",
          "plot_bgcolor": "#E5ECF6",
          "polar": {
           "angularaxis": {
            "gridcolor": "white",
            "linecolor": "white",
            "ticks": ""
           },
           "bgcolor": "#E5ECF6",
           "radialaxis": {
            "gridcolor": "white",
            "linecolor": "white",
            "ticks": ""
           }
          },
          "scene": {
           "xaxis": {
            "backgroundcolor": "#E5ECF6",
            "gridcolor": "white",
            "gridwidth": 2,
            "linecolor": "white",
            "showbackground": true,
            "ticks": "",
            "zerolinecolor": "white"
           },
           "yaxis": {
            "backgroundcolor": "#E5ECF6",
            "gridcolor": "white",
            "gridwidth": 2,
            "linecolor": "white",
            "showbackground": true,
            "ticks": "",
            "zerolinecolor": "white"
           },
           "zaxis": {
            "backgroundcolor": "#E5ECF6",
            "gridcolor": "white",
            "gridwidth": 2,
            "linecolor": "white",
            "showbackground": true,
            "ticks": "",
            "zerolinecolor": "white"
           }
          },
          "shapedefaults": {
           "line": {
            "color": "#2a3f5f"
           }
          },
          "ternary": {
           "aaxis": {
            "gridcolor": "white",
            "linecolor": "white",
            "ticks": ""
           },
           "baxis": {
            "gridcolor": "white",
            "linecolor": "white",
            "ticks": ""
           },
           "bgcolor": "#E5ECF6",
           "caxis": {
            "gridcolor": "white",
            "linecolor": "white",
            "ticks": ""
           }
          },
          "title": {
           "x": 0.05
          },
          "xaxis": {
           "automargin": true,
           "gridcolor": "white",
           "linecolor": "white",
           "ticks": "",
           "title": {
            "standoff": 15
           },
           "zerolinecolor": "white",
           "zerolinewidth": 2
          },
          "yaxis": {
           "automargin": true,
           "gridcolor": "white",
           "linecolor": "white",
           "ticks": "",
           "title": {
            "standoff": 15
           },
           "zerolinecolor": "white",
           "zerolinewidth": 2
          }
         }
        },
        "width": 500,
        "xaxis": {
         "anchor": "y",
         "domain": [
          0,
          1
         ],
         "title": {
          "text": "MES Average Fold Change"
         }
        },
        "yaxis": {
         "anchor": "x",
         "domain": [
          0,
          1
         ],
         "title": {
          "text": "Main VSG Log2 Fold Change"
         }
        }
       }
      },
      "image/png": "[encoded data removed]"
     },
     "metadata": {},
     "output_type": "display_data"
    }
   ],
   "source": [
    "from plotly.subplots import make_subplots\n",
    "import plotly.graph_objects as go\n",
    "import plotly.io as pio\n",
    "\n",
    "fig = make_subplots(\n",
    "    rows=1,\n",
    "    cols=1,\n",
    "    #subplot_titles=[\"MES vs Main VSG\"],\n",
    ")\n",
    "\n",
    "scatter = go.Scatter(\n",
    "    x=merge['MES'],\n",
    "    y=merge['main_vsg'],\n",
    "    mode='markers',\n",
    "    text=list(merge.index.values),\n",
    "    hoverinfo='text',\n",
    "    name='scatter',\n",
    "    showlegend=False,\n",
    "    # hovertemplate='%{text}'\n",
    ")\n",
    "fig.add_trace(scatter, row=1, col=1)\n",
    "\n",
    "fig.update_layout(\n",
    "    width=500,\n",
    "    height=500,\n",
    "    showlegend=False,\n",
    "    hovermode='closest',\n",
    "    xaxis_title=\"MES Average Fold Change\",\n",
    "    yaxis_title=\"Main VSG Log2 Fold Change\",\n",
    ")\n",
    "\n",
    "# Save as an exportable HTML file\n",
    "pio.write_html(\n",
    "    fig,\n",
    "    file=\"vsgs_web_server/scatter_plots/MES_vs_main_vsg.html\",   # change path/name if you like\n",
    "    include_plotlyjs=\"cdn\",\n",
    "    full_html=True,\n",
    "    auto_open=False,\n",
    ")\n",
    "fig"
   ]
  },
  {
   "cell_type": "code",
   "execution_count": 48,
   "id": "0fc20dfa-21a7-46b3-9745-d20d46b04122",
   "metadata": {},
   "outputs": [
    {
     "data": {
      "application/vnd.plotly.v1+json": {
       "config": {
        "plotlyServerURL": "https://plot.ly"
       },
       "data": [
        {
         "hoverinfo": "text",
         "mode": "markers",
         "name": "scatter",
         "showlegend": false,
         "text": [
          "BDF2_1_KO48",
          "BDF3_1_KO24",
          "BET151_1_Drug12h",
          "BET151_1_Drug24h",
          "BET151_1_Drug3h",
          "BET151_1_Drug48h",
          "BET151_1_Drug6h",
          "BET151_1_Drug72h",
          "CAF1b_1_RNAi24",
          "CFB2_1_RNAi9",
          "DFO_1_DFO",
          "DFO_1_DFOFe",
          "DFO_1_Fe",
          "DRBD18_1_RNAi12",
          "H1_1_RNAi96",
          "H3H4_1_KOH3",
          "H3H4_1_KOH3J",
          "H3H4_1_KOH4",
          "H3H4_1_KOH4J",
          "H3H4_1_KOJ2",
          "H3H4_2_KO48",
          "H3H4_3_KO48",
          "H3_1_KOH3",
          "H3_1_KOH3J",
          "H3_1_KOJ",
          "IPMK_1_RNAi36",
          "IPMK_2_RNAi36",
          "MCMBP_1_KO24",
          "MCMBP_1_KO48",
          "PIP5Pase_1_KO",
          "PIP5Pase_2_D360A_N362A",
          "PNUTS_1_RNAi48",
          "RBP10_1_RNAi24",
          "RBP10_2_RNAi24",
          "RBP10_3_RNAi24",
          "RBP33_1_RNAi48",
          "RBP42_1_KO24",
          "RBP42_1_KO48",
          "RBP42_1_KO72",
          "RNaseH1_1_KO",
          "RNaseH2A_1_RNAi24",
          "RNaseH2A_2_RNAi36",
          "SET27_1_KO",
          "SET27_1_sKO",
          "SNF2PH_1_RNAi48",
          "TFR_1_RNAi24",
          "TbATR_1_RNAi24",
          "TbATR_2_RNAi36",
          "TbCMT1_1_KO",
          "TbESB1_1_RNAi24",
          "TbESB1_2_KO48",
          "TbESB1_3_OE24",
          "TbHAT_1_RNAi48HAT1",
          "TbHAT_1_RNAi48HAT2",
          "TbPP1one_1_RNAi24",
          "TbPP1seven_1_RNAi24",
          "TbRAP1_1_2SD",
          "TbRAP1_1_5A",
          "TbRAP1_1_KO",
          "TbRAP1_2_dMyb",
          "TbSAP_1_RNAi72",
          "VEX1_1_Oe72",
          "VEX1_2_RNAi72",
          "VEX1_4_RNAi24",
          "VEX1_5_RNAi48",
          "VEX1_6_RNAi72",
          "VEX1and2_1_RNAi24",
          "VEX1and2_1_RNAi48",
          "VEX2_1_RNAi24",
          "VEX2_1_RNAi48",
          "ZC3H28_1_RNAi10",
          "ZC3H28_1_RNAi14",
          "ZC3H28_1_RNAi16",
          "ZC3H28_1_RNAi24",
          "ZC3H40_1_RNAi72",
          "ZC3H5_2_RNAi12",
          "ZC3H5_3_RNAi12",
          "ZC3H5_4_RNAi12",
          "ZC3H5_5_RNAi12"
         ],
         "type": "scatter",
         "x": {
          "bdata": "CvZy6uLf8D8LNra6z6wDQAAAAAAAAPA/4hndrs2c6z9FrW2O+DzxP1u7nKSzPOg/5oA1AsFR8D/1iCZnjjvrP8Ytjqs7EAxAWIQzIJdR8D9LWqDU8RDwP6YIyTcZC/A/YCtjzKwj8D83MgmyRvbvP7f0l82DWQ9AatysR5/z+D/skCcWIVoHQAAAAAAAAPA/9VhiYWS38D9y+ssNzgfpP4dQ9NN73wBAcvh/WRkJ/z+ZrN0t04kCQGjmFt8wrABAOR08rZuA7D/UtFCtrT/wPwAAAAAAAPA/O2gjyCK0BEDH7xkR79saQA50o9NqjklAlNqoGQCTJkClZPB61CwDQBU+iEhdSPE/AAAAAAAA8D8u8ru42QjvP+k9usrVxvQ/O0goYLXQ8z91WX4VS7/sP8eJK3WDIuw/wOpu/qy28D83FR1zOTz5P4/1ZyvjP/o/1yBmPeAVD0CnW2Xu/ysAQJEsjHykJvM/kp4/UjsN9D9mfufJTmEDQGBtbVcGMChAeGpXYTMN8D+SiOS5GMT+Px8fSaEoiOU/avHT9SooCEBcbuXxrR3eP7xN5zTS7O4/PotU/bLwRkDPP3xAR9rnP64Cki2R+DpA2PmqxDiRM0BuI/XbM1hMQPVrOY0xx1ZAi+IxG7+nBUD4WbFGPlsYQBZQ2L+ChQBAl6k6GFVp9D/zE1nRMOX6P7CM6vMxRgBAEM3m/I3uT0CCnqWORC1NQLS80yhqEEhAP43HcdHcR0BgOkZ3lrvvP7N2IFVaAe4/yjlBzqmz7T/JNESLkE7tP03f2czcg/8/2yZwN0lk7z98JZ6iuj3tP8pZkuevUu4/VIxz4dc25T8=",
          "dtype": "f8"
         },
         "xaxis": "x",
         "y": {
          "bdata": "B+/oRsze9j9RjwF2Fu0YQOxMQ6mw+O4/jGhcBfx37T/JQV/sXn/xP+kmvsCvRwVARAYK4vbL8T/9zaQmc5MlQBQ2c44grkJAop1oP0SgBkCFkZUz2uvwP3dbAWxjR+4/stWiAxVU7z9A63YXp7rqPyUrlQiJAgNA3Xe3TMpPAkAqn36vpM4TQAONxPYRvOA/M+yFhnoW6T9ECyo4HNfUP1Lqs+A3hyVAR0E/1h31L0B8VpwwOVsSQCzrgXD2hxhAiKZRStL58D9UFkWR14PxP1K5TSq8luw/w8+j+0ETE0As9cZdR5MqQMLrTLZlqzhA95Ha9R7TJkBcHSX35PMkQKyi2C3HX+w/v2m/6min7T/J0fPMeI7kPzbtOsuhLidA0RsGeX4h9T8kiBeyjOzzP0dvLwV5ygNAzidxcdAd8T/bZVcSlbkEQFH2+rTzZh9AtmwhmZ6XDUAgQ5yOUsL/P0XlbWo11QZAslkn0a/C9j96EmPVarELQKmm5V6EDjBAY2/J0gJ77j9iejTJBawAQFniqFnX3gBAM2jdZhN5HUCq+nKA0QAHQKsXzwgSrgxANWG0HM6wQUALsUcicJXiPzjw8xppETFAZELLs9l2J0CaQDmSlGw8QAs0qBXtY0tAHEgDUKdEJ0CNgz96FDQeQCqIgnRPuRNAIJiqovQhCkDBRxMwog0gQI21QNQbkx5ArEIwxhKNTkB1FtgGzRpXQG3AMe5UeTFAyr22XXKBJUBGd1MIOHfvP9eJIdp3B+g/McDLLqsA6D83MvKLMvftP9sCZ3wrXwJA24lzFxkb8j9tJCFrlobyP9vl2xGMAf4/1RA+8ijO7T8=",
          "dtype": "f8"
         },
         "yaxis": "y"
        }
       ],
       "layout": {
        "height": 500,
        "hovermode": "closest",
        "showlegend": false,
        "template": {
         "data": {
          "bar": [
           {
            "error_x": {
             "color": "#2a3f5f"
            },
            "error_y": {
             "color": "#2a3f5f"
            },
            "marker": {
             "line": {
              "color": "#E5ECF6",
              "width": 0.5
             },
             "pattern": {
              "fillmode": "overlay",
              "size": 10,
              "solidity": 0.2
             }
            },
            "type": "bar"
           }
          ],
          "barpolar": [
           {
            "marker": {
             "line": {
              "color": "#E5ECF6",
              "width": 0.5
             },
             "pattern": {
              "fillmode": "overlay",
              "size": 10,
              "solidity": 0.2
             }
            },
            "type": "barpolar"
           }
          ],
          "carpet": [
           {
            "aaxis": {
             "endlinecolor": "#2a3f5f",
             "gridcolor": "white",
             "linecolor": "white",
             "minorgridcolor": "white",
             "startlinecolor": "#2a3f5f"
            },
            "baxis": {
             "endlinecolor": "#2a3f5f",
             "gridcolor": "white",
             "linecolor": "white",
             "minorgridcolor": "white",
             "startlinecolor": "#2a3f5f"
            },
            "type": "carpet"
           }
          ],
          "choropleth": [
           {
            "colorbar": {
             "outlinewidth": 0,
             "ticks": ""
            },
            "type": "choropleth"
           }
          ],
          "contour": [
           {
            "colorbar": {
             "outlinewidth": 0,
             "ticks": ""
            },
            "colorscale": [
             [
              0,
              "#0d0887"
             ],
             [
              0.1111111111111111,
              "#46039f"
             ],
             [
              0.2222222222222222,
              "#7201a8"
             ],
             [
              0.3333333333333333,
              "#9c179e"
             ],
             [
              0.4444444444444444,
              "#bd3786"
             ],
             [
              0.5555555555555556,
              "#d8576b"
             ],
             [
              0.6666666666666666,
              "#ed7953"
             ],
             [
              0.7777777777777778,
              "#fb9f3a"
             ],
             [
              0.8888888888888888,
              "#fdca26"
             ],
             [
              1,
              "#f0f921"
             ]
            ],
            "type": "contour"
           }
          ],
          "contourcarpet": [
           {
            "colorbar": {
             "outlinewidth": 0,
             "ticks": ""
            },
            "type": "contourcarpet"
           }
          ],
          "heatmap": [
           {
            "colorbar": {
             "outlinewidth": 0,
             "ticks": ""
            },
            "colorscale": [
             [
              0,
              "#0d0887"
             ],
             [
              0.1111111111111111,
              "#46039f"
             ],
             [
              0.2222222222222222,
              "#7201a8"
             ],
             [
              0.3333333333333333,
              "#9c179e"
             ],
             [
              0.4444444444444444,
              "#bd3786"
             ],
             [
              0.5555555555555556,
              "#d8576b"
             ],
             [
              0.6666666666666666,
              "#ed7953"
             ],
             [
              0.7777777777777778,
              "#fb9f3a"
             ],
             [
              0.8888888888888888,
              "#fdca26"
             ],
             [
              1,
              "#f0f921"
             ]
            ],
            "type": "heatmap"
           }
          ],
          "histogram": [
           {
            "marker": {
             "pattern": {
              "fillmode": "overlay",
              "size": 10,
              "solidity": 0.2
             }
            },
            "type": "histogram"
           }
          ],
          "histogram2d": [
           {
            "colorbar": {
             "outlinewidth": 0,
             "ticks": ""
            },
            "colorscale": [
             [
              0,
              "#0d0887"
             ],
             [
              0.1111111111111111,
              "#46039f"
             ],
             [
              0.2222222222222222,
              "#7201a8"
             ],
             [
              0.3333333333333333,
              "#9c179e"
             ],
             [
              0.4444444444444444,
              "#bd3786"
             ],
             [
              0.5555555555555556,
              "#d8576b"
             ],
             [
              0.6666666666666666,
              "#ed7953"
             ],
             [
              0.7777777777777778,
              "#fb9f3a"
             ],
             [
              0.8888888888888888,
              "#fdca26"
             ],
             [
              1,
              "#f0f921"
             ]
            ],
            "type": "histogram2d"
           }
          ],
          "histogram2dcontour": [
           {
            "colorbar": {
             "outlinewidth": 0,
             "ticks": ""
            },
            "colorscale": [
             [
              0,
              "#0d0887"
             ],
             [
              0.1111111111111111,
              "#46039f"
             ],
             [
              0.2222222222222222,
              "#7201a8"
             ],
             [
              0.3333333333333333,
              "#9c179e"
             ],
             [
              0.4444444444444444,
              "#bd3786"
             ],
             [
              0.5555555555555556,
              "#d8576b"
             ],
             [
              0.6666666666666666,
              "#ed7953"
             ],
             [
              0.7777777777777778,
              "#fb9f3a"
             ],
             [
              0.8888888888888888,
              "#fdca26"
             ],
             [
              1,
              "#f0f921"
             ]
            ],
            "type": "histogram2dcontour"
           }
          ],
          "mesh3d": [
           {
            "colorbar": {
             "outlinewidth": 0,
             "ticks": ""
            },
            "type": "mesh3d"
           }
          ],
          "parcoords": [
           {
            "line": {
             "colorbar": {
              "outlinewidth": 0,
              "ticks": ""
             }
            },
            "type": "parcoords"
           }
          ],
          "pie": [
           {
            "automargin": true,
            "type": "pie"
           }
          ],
          "scatter": [
           {
            "fillpattern": {
             "fillmode": "overlay",
             "size": 10,
             "solidity": 0.2
            },
            "type": "scatter"
           }
          ],
          "scatter3d": [
           {
            "line": {
             "colorbar": {
              "outlinewidth": 0,
              "ticks": ""
             }
            },
            "marker": {
             "colorbar": {
              "outlinewidth": 0,
              "ticks": ""
             }
            },
            "type": "scatter3d"
           }
          ],
          "scattercarpet": [
           {
            "marker": {
             "colorbar": {
              "outlinewidth": 0,
              "ticks": ""
             }
            },
            "type": "scattercarpet"
           }
          ],
          "scattergeo": [
           {
            "marker": {
             "colorbar": {
              "outlinewidth": 0,
              "ticks": ""
             }
            },
            "type": "scattergeo"
           }
          ],
          "scattergl": [
           {
            "marker": {
             "colorbar": {
              "outlinewidth": 0,
              "ticks": ""
             }
            },
            "type": "scattergl"
           }
          ],
          "scattermap": [
           {
            "marker": {
             "colorbar": {
              "outlinewidth": 0,
              "ticks": ""
             }
            },
            "type": "scattermap"
           }
          ],
          "scattermapbox": [
           {
            "marker": {
             "colorbar": {
              "outlinewidth": 0,
              "ticks": ""
             }
            },
            "type": "scattermapbox"
           }
          ],
          "scatterpolar": [
           {
            "marker": {
             "colorbar": {
              "outlinewidth": 0,
              "ticks": ""
             }
            },
            "type": "scatterpolar"
           }
          ],
          "scatterpolargl": [
           {
            "marker": {
             "colorbar": {
              "outlinewidth": 0,
              "ticks": ""
             }
            },
            "type": "scatterpolargl"
           }
          ],
          "scatterternary": [
           {
            "marker": {
             "colorbar": {
              "outlinewidth": 0,
              "ticks": ""
             }
            },
            "type": "scatterternary"
           }
          ],
          "surface": [
           {
            "colorbar": {
             "outlinewidth": 0,
             "ticks": ""
            },
            "colorscale": [
             [
              0,
              "#0d0887"
             ],
             [
              0.1111111111111111,
              "#46039f"
             ],
             [
              0.2222222222222222,
              "#7201a8"
             ],
             [
              0.3333333333333333,
              "#9c179e"
             ],
             [
              0.4444444444444444,
              "#bd3786"
             ],
             [
              0.5555555555555556,
              "#d8576b"
             ],
             [
              0.6666666666666666,
              "#ed7953"
             ],
             [
              0.7777777777777778,
              "#fb9f3a"
             ],
             [
              0.8888888888888888,
              "#fdca26"
             ],
             [
              1,
              "#f0f921"
             ]
            ],
            "type": "surface"
           }
          ],
          "table": [
           {
            "cells": {
             "fill": {
              "color": "#EBF0F8"
             },
             "line": {
              "color": "white"
             }
            },
            "header": {
             "fill": {
              "color": "#C8D4E3"
             },
             "line": {
              "color": "white"
             }
            },
            "type": "table"
           }
          ]
         },
         "layout": {
          "annotationdefaults": {
           "arrowcolor": "#2a3f5f",
           "arrowhead": 0,
           "arrowwidth": 1
          },
          "autotypenumbers": "strict",
          "coloraxis": {
           "colorbar": {
            "outlinewidth": 0,
            "ticks": ""
           }
          },
          "colorscale": {
           "diverging": [
            [
             0,
             "#8e0152"
            ],
            [
             0.1,
             "#c51b7d"
            ],
            [
             0.2,
             "#de77ae"
            ],
            [
             0.3,
             "#f1b6da"
            ],
            [
             0.4,
             "#fde0ef"
            ],
            [
             0.5,
             "#f7f7f7"
            ],
            [
             0.6,
             "#e6f5d0"
            ],
            [
             0.7,
             "#b8e186"
            ],
            [
             0.8,
             "#7fbc41"
            ],
            [
             0.9,
             "#4d9221"
            ],
            [
             1,
             "#276419"
            ]
           ],
           "sequential": [
            [
             0,
             "#0d0887"
            ],
            [
             0.1111111111111111,
             "#46039f"
            ],
            [
             0.2222222222222222,
             "#7201a8"
            ],
            [
             0.3333333333333333,
             "#9c179e"
            ],
            [
             0.4444444444444444,
             "#bd3786"
            ],
            [
             0.5555555555555556,
             "#d8576b"
            ],
            [
             0.6666666666666666,
             "#ed7953"
            ],
            [
             0.7777777777777778,
             "#fb9f3a"
            ],
            [
             0.8888888888888888,
             "#fdca26"
            ],
            [
             1,
             "#f0f921"
            ]
           ],
           "sequentialminus": [
            [
             0,
             "#0d0887"
            ],
            [
             0.1111111111111111,
             "#46039f"
            ],
            [
             0.2222222222222222,
             "#7201a8"
            ],
            [
             0.3333333333333333,
             "#9c179e"
            ],
            [
             0.4444444444444444,
             "#bd3786"
            ],
            [
             0.5555555555555556,
             "#d8576b"
            ],
            [
             0.6666666666666666,
             "#ed7953"
            ],
            [
             0.7777777777777778,
             "#fb9f3a"
            ],
            [
             0.8888888888888888,
             "#fdca26"
            ],
            [
             1,
             "#f0f921"
            ]
           ]
          },
          "colorway": [
           "#636efa",
           "#EF553B",
           "#00cc96",
           "#ab63fa",
           "#FFA15A",
           "#19d3f3",
           "#FF6692",
           "#B6E880",
           "#FF97FF",
           "#FECB52"
          ],
          "font": {
           "color": "#2a3f5f"
          },
          "geo": {
           "bgcolor": "white",
           "lakecolor": "white",
           "landcolor": "#E5ECF6",
           "showlakes": true,
           "showland": true,
           "subunitcolor": "white"
          },
          "hoverlabel": {
           "align": "left"
          },
          "hovermode": "closest",
          "mapbox": {
           "style": "light"
          },
          "paper_bgcolor": "white",
          "plot_bgcolor": "#E5ECF6",
          "polar": {
           "angularaxis": {
            "gridcolor": "white",
            "linecolor": "white",
            "ticks": ""
           },
           "bgcolor": "#E5ECF6",
           "radialaxis": {
            "gridcolor": "white",
            "linecolor": "white",
            "ticks": ""
           }
          },
          "scene": {
           "xaxis": {
            "backgroundcolor": "#E5ECF6",
            "gridcolor": "white",
            "gridwidth": 2,
            "linecolor": "white",
            "showbackground": true,
            "ticks": "",
            "zerolinecolor": "white"
           },
           "yaxis": {
            "backgroundcolor": "#E5ECF6",
            "gridcolor": "white",
            "gridwidth": 2,
            "linecolor": "white",
            "showbackground": true,
            "ticks": "",
            "zerolinecolor": "white"
           },
           "zaxis": {
            "backgroundcolor": "#E5ECF6",
            "gridcolor": "white",
            "gridwidth": 2,
            "linecolor": "white",
            "showbackground": true,
            "ticks": "",
            "zerolinecolor": "white"
           }
          },
          "shapedefaults": {
           "line": {
            "color": "#2a3f5f"
           }
          },
          "ternary": {
           "aaxis": {
            "gridcolor": "white",
            "linecolor": "white",
            "ticks": ""
           },
           "baxis": {
            "gridcolor": "white",
            "linecolor": "white",
            "ticks": ""
           },
           "bgcolor": "#E5ECF6",
           "caxis": {
            "gridcolor": "white",
            "linecolor": "white",
            "ticks": ""
           }
          },
          "title": {
           "x": 0.05
          },
          "xaxis": {
           "automargin": true,
           "gridcolor": "white",
           "linecolor": "white",
           "ticks": "",
           "title": {
            "standoff": 15
           },
           "zerolinecolor": "white",
           "zerolinewidth": 2
          },
          "yaxis": {
           "automargin": true,
           "gridcolor": "white",
           "linecolor": "white",
           "ticks": "",
           "title": {
            "standoff": 15
           },
           "zerolinecolor": "white",
           "zerolinewidth": 2
          }
         }
        },
        "width": 500,
        "xaxis": {
         "anchor": "y",
         "domain": [
          0,
          1
         ],
         "title": {
          "text": "BES Average Fold Change"
         }
        },
        "yaxis": {
         "anchor": "x",
         "domain": [
          0,
          1
         ],
         "title": {
          "text": "MES Average Fold Change"
         }
        }
       }
      },
      "image/png": "[encoded data removed]"
     },
     "metadata": {},
     "output_type": "display_data"
    }
   ],
   "source": [
    "\n",
    "# MC MES array\n",
    "from plotly.subplots import make_subplots\n",
    "import plotly.graph_objects as go\n",
    "import plotly.io as pio\n",
    "\n",
    "fig = make_subplots(\n",
    "    rows=1,\n",
    "    cols=1,\n",
    "    #subplot_titles=[\"MES vs Main VSG\"],\n",
    ")\n",
    "\n",
    "scatter = go.Scatter(\n",
    "    x=merge['BES'],\n",
    "    y=merge['MES'],\n",
    "    mode='markers',\n",
    "    text=list(merge.index.values),\n",
    "    hoverinfo='text',\n",
    "    name='scatter',\n",
    "    showlegend=False,\n",
    "    # hovertemplate='%{text}'\n",
    ")\n",
    "fig.add_trace(scatter, row=1, col=1)\n",
    "\n",
    "fig.update_layout(\n",
    "    width=500,\n",
    "    height=500,\n",
    "    showlegend=False,\n",
    "    hovermode='closest',\n",
    "    xaxis_title=\"BES Average Fold Change\",\n",
    "    yaxis_title=\"MES Average Fold Change\",\n",
    ")\n",
    "\n",
    "# Save as an exportable HTML file\n",
    "pio.write_html(\n",
    "    fig,\n",
    "    file=\"vsgs_web_server/scatter_plots/BES_vs_MES.html\",   # change path/name if you like\n",
    "    include_plotlyjs=\"cdn\",\n",
    "    full_html=True,\n",
    "    auto_open=False,\n",
    ")\n",
    "fig"
   ]
  },
  {
   "cell_type": "code",
   "execution_count": 49,
   "id": "9d88061d-eeba-4ec6-a288-ff6e1a0deaca",
   "metadata": {},
   "outputs": [
    {
     "data": {
      "application/vnd.plotly.v1+json": {
       "config": {
        "plotlyServerURL": "https://plot.ly"
       },
       "data": [
        {
         "hoverinfo": "text",
         "mode": "markers",
         "name": "scatter",
         "showlegend": false,
         "text": [
          "BDF2_1_KO48",
          "BDF3_1_KO24",
          "BET151_1_Drug12h",
          "BET151_1_Drug24h",
          "BET151_1_Drug3h",
          "BET151_1_Drug48h",
          "BET151_1_Drug6h",
          "BET151_1_Drug72h",
          "CAF1b_1_RNAi24",
          "CFB2_1_RNAi9",
          "DFO_1_DFO",
          "DFO_1_DFOFe",
          "DFO_1_Fe",
          "DRBD18_1_RNAi12",
          "H1_1_RNAi96",
          "H3H4_1_KOH3",
          "H3H4_1_KOH3J",
          "H3H4_1_KOH4",
          "H3H4_1_KOH4J",
          "H3H4_1_KOJ2",
          "H3H4_2_KO48",
          "H3H4_3_KO48",
          "H3_1_KOH3",
          "H3_1_KOH3J",
          "H3_1_KOJ",
          "IPMK_1_RNAi36",
          "IPMK_2_RNAi36",
          "MCMBP_1_KO24",
          "MCMBP_1_KO48",
          "PIP5Pase_1_KO",
          "PIP5Pase_2_D360A_N362A",
          "PNUTS_1_RNAi48",
          "RBP10_1_RNAi24",
          "RBP10_2_RNAi24",
          "RBP10_3_RNAi24",
          "RBP33_1_RNAi48",
          "RBP42_1_KO24",
          "RBP42_1_KO48",
          "RBP42_1_KO72",
          "RNaseH1_1_KO",
          "RNaseH2A_1_RNAi24",
          "RNaseH2A_2_RNAi36",
          "SET27_1_KO",
          "SET27_1_sKO",
          "SNF2PH_1_RNAi48",
          "TFR_1_RNAi24",
          "TbATR_1_RNAi24",
          "TbATR_2_RNAi36",
          "TbCMT1_1_KO",
          "TbESB1_1_RNAi24",
          "TbESB1_2_KO48",
          "TbESB1_3_OE24",
          "TbHAT_1_RNAi48HAT1",
          "TbHAT_1_RNAi48HAT2",
          "TbPP1one_1_RNAi24",
          "TbPP1seven_1_RNAi24",
          "TbRAP1_1_2SD",
          "TbRAP1_1_5A",
          "TbRAP1_1_KO",
          "TbRAP1_2_dMyb",
          "TbSAP_1_RNAi72",
          "VEX1_1_Oe72",
          "VEX1_2_RNAi72",
          "VEX1_4_RNAi24",
          "VEX1_5_RNAi48",
          "VEX1_6_RNAi72",
          "VEX1and2_1_RNAi24",
          "VEX1and2_1_RNAi48",
          "VEX2_1_RNAi24",
          "VEX2_1_RNAi48",
          "ZC3H28_1_RNAi10",
          "ZC3H28_1_RNAi14",
          "ZC3H28_1_RNAi16",
          "ZC3H28_1_RNAi24",
          "ZC3H40_1_RNAi72",
          "ZC3H5_2_RNAi12",
          "ZC3H5_3_RNAi12",
          "ZC3H5_4_RNAi12",
          "ZC3H5_5_RNAi12"
         ],
         "type": "scatter",
         "x": {
          "bdata": "CvZy6uLf8D8LNra6z6wDQAAAAAAAAPA/4hndrs2c6z9FrW2O+DzxP1u7nKSzPOg/5oA1AsFR8D/1iCZnjjvrP8Ytjqs7EAxAWIQzIJdR8D9LWqDU8RDwP6YIyTcZC/A/YCtjzKwj8D83MgmyRvbvP7f0l82DWQ9AatysR5/z+D/skCcWIVoHQAAAAAAAAPA/9VhiYWS38D9y+ssNzgfpP4dQ9NN73wBAcvh/WRkJ/z+ZrN0t04kCQGjmFt8wrABAOR08rZuA7D/UtFCtrT/wPwAAAAAAAPA/O2gjyCK0BEDH7xkR79saQA50o9NqjklAlNqoGQCTJkClZPB61CwDQBU+iEhdSPE/AAAAAAAA8D8u8ru42QjvP+k9usrVxvQ/O0goYLXQ8z91WX4VS7/sP8eJK3WDIuw/wOpu/qy28D83FR1zOTz5P4/1ZyvjP/o/1yBmPeAVD0CnW2Xu/ysAQJEsjHykJvM/kp4/UjsN9D9mfufJTmEDQGBtbVcGMChAeGpXYTMN8D+SiOS5GMT+Px8fSaEoiOU/avHT9SooCEBcbuXxrR3eP7xN5zTS7O4/PotU/bLwRkDPP3xAR9rnP64Cki2R+DpA2PmqxDiRM0BuI/XbM1hMQPVrOY0xx1ZAi+IxG7+nBUD4WbFGPlsYQBZQ2L+ChQBAl6k6GFVp9D/zE1nRMOX6P7CM6vMxRgBAEM3m/I3uT0CCnqWORC1NQLS80yhqEEhAP43HcdHcR0BgOkZ3lrvvP7N2IFVaAe4/yjlBzqmz7T/JNESLkE7tP03f2czcg/8/2yZwN0lk7z98JZ6iuj3tP8pZkuevUu4/VIxz4dc25T8=",
          "dtype": "f8"
         },
         "xaxis": "x",
         "y": {
          "bdata": "AAAAAAAA8D/OUk2QpGjwPwAAAAAAAPA/AAAAAAAA8D8AAAAAAADwPwAAAAAAAPA/AAAAAAAA8D8AAAAAAADwP5UB+MVAhvA/E0wAJWHI7z8AAAAAAADwPwAAAAAAAPA/AAAAAAAA8D8AAAAAAADwPwAAAAAAAPA/YEXlO9JD8D+KxBF2cJjxPwAAAAAAAPA/AAAAAAAA8D8AAAAAAADwP28luks/WPI/gAaNBLvq8T/32j5mAT7wP5PmVrKkqPA/AAAAAAAA8D8AAAAAAADwPwAAAAAAAPA/OuKgV7kI8D8UeIpfg/LxP4ySLZMPghJAENHyXCD/AUAht2o2BiPxPwAAAAAAAPA/AAAAAAAA8D8AAAAAAADwP1nXVIjQTfQ//78GdA4H8D+ieu2GKxXwP4AmokBYD/E/AAAAAAAA8D8AAAAAAADwP3lXGRqkCvE/YF6/PVBf8D8AAAAAAADwPwAAAAAAAPA/+Fka+D8B8D+8yfTN1EXwP2TwTixUH/I/AAAAAAAA8D8COaFmLC/wPyhySMTYWPA/kXLY5tz27z/SnphRP8HuP/PcodwDEu8/LQFIh3AOAkABm9ekpbPvP+P1/N/wNQVApSO37lzM+T8NJo01rzABQBIv7/vMywxAlBM8vzQJ8T/WhDg7B5bwPxt+kcpJZfA/AAAAAAAA8D8AAAAAAADwPwAAAAAAAPA/Bwnzv8Fv8D8DVZ60INHwP/wRbCAISPA/1oEGYEac8D9sTVieZKXvPxhk4Gc9c/A/aNVPcyAO8D+3qeccTWHvP+nJ7peHBPA//0HwHNcN8T8AAAAAAADwPwAAAAAAAPA/AAAAAAAA8D8=",
          "dtype": "f8"
         },
         "yaxis": "y"
        }
       ],
       "layout": {
        "height": 500,
        "hovermode": "closest",
        "showlegend": false,
        "template": {
         "data": {
          "bar": [
           {
            "error_x": {
             "color": "#2a3f5f"
            },
            "error_y": {
             "color": "#2a3f5f"
            },
            "marker": {
             "line": {
              "color": "#E5ECF6",
              "width": 0.5
             },
             "pattern": {
              "fillmode": "overlay",
              "size": 10,
              "solidity": 0.2
             }
            },
            "type": "bar"
           }
          ],
          "barpolar": [
           {
            "marker": {
             "line": {
              "color": "#E5ECF6",
              "width": 0.5
             },
             "pattern": {
              "fillmode": "overlay",
              "size": 10,
              "solidity": 0.2
             }
            },
            "type": "barpolar"
           }
          ],
          "carpet": [
           {
            "aaxis": {
             "endlinecolor": "#2a3f5f",
             "gridcolor": "white",
             "linecolor": "white",
             "minorgridcolor": "white",
             "startlinecolor": "#2a3f5f"
            },
            "baxis": {
             "endlinecolor": "#2a3f5f",
             "gridcolor": "white",
             "linecolor": "white",
             "minorgridcolor": "white",
             "startlinecolor": "#2a3f5f"
            },
            "type": "carpet"
           }
          ],
          "choropleth": [
           {
            "colorbar": {
             "outlinewidth": 0,
             "ticks": ""
            },
            "type": "choropleth"
           }
          ],
          "contour": [
           {
            "colorbar": {
             "outlinewidth": 0,
             "ticks": ""
            },
            "colorscale": [
             [
              0,
              "#0d0887"
             ],
             [
              0.1111111111111111,
              "#46039f"
             ],
             [
              0.2222222222222222,
              "#7201a8"
             ],
             [
              0.3333333333333333,
              "#9c179e"
             ],
             [
              0.4444444444444444,
              "#bd3786"
             ],
             [
              0.5555555555555556,
              "#d8576b"
             ],
             [
              0.6666666666666666,
              "#ed7953"
             ],
             [
              0.7777777777777778,
              "#fb9f3a"
             ],
             [
              0.8888888888888888,
              "#fdca26"
             ],
             [
              1,
              "#f0f921"
             ]
            ],
            "type": "contour"
           }
          ],
          "contourcarpet": [
           {
            "colorbar": {
             "outlinewidth": 0,
             "ticks": ""
            },
            "type": "contourcarpet"
           }
          ],
          "heatmap": [
           {
            "colorbar": {
             "outlinewidth": 0,
             "ticks": ""
            },
            "colorscale": [
             [
              0,
              "#0d0887"
             ],
             [
              0.1111111111111111,
              "#46039f"
             ],
             [
              0.2222222222222222,
              "#7201a8"
             ],
             [
              0.3333333333333333,
              "#9c179e"
             ],
             [
              0.4444444444444444,
              "#bd3786"
             ],
             [
              0.5555555555555556,
              "#d8576b"
             ],
             [
              0.6666666666666666,
              "#ed7953"
             ],
             [
              0.7777777777777778,
              "#fb9f3a"
             ],
             [
              0.8888888888888888,
              "#fdca26"
             ],
             [
              1,
              "#f0f921"
             ]
            ],
            "type": "heatmap"
           }
          ],
          "histogram": [
           {
            "marker": {
             "pattern": {
              "fillmode": "overlay",
              "size": 10,
              "solidity": 0.2
             }
            },
            "type": "histogram"
           }
          ],
          "histogram2d": [
           {
            "colorbar": {
             "outlinewidth": 0,
             "ticks": ""
            },
            "colorscale": [
             [
              0,
              "#0d0887"
             ],
             [
              0.1111111111111111,
              "#46039f"
             ],
             [
              0.2222222222222222,
              "#7201a8"
             ],
             [
              0.3333333333333333,
              "#9c179e"
             ],
             [
              0.4444444444444444,
              "#bd3786"
             ],
             [
              0.5555555555555556,
              "#d8576b"
             ],
             [
              0.6666666666666666,
              "#ed7953"
             ],
             [
              0.7777777777777778,
              "#fb9f3a"
             ],
             [
              0.8888888888888888,
              "#fdca26"
             ],
             [
              1,
              "#f0f921"
             ]
            ],
            "type": "histogram2d"
           }
          ],
          "histogram2dcontour": [
           {
            "colorbar": {
             "outlinewidth": 0,
             "ticks": ""
            },
            "colorscale": [
             [
              0,
              "#0d0887"
             ],
             [
              0.1111111111111111,
              "#46039f"
             ],
             [
              0.2222222222222222,
              "#7201a8"
             ],
             [
              0.3333333333333333,
              "#9c179e"
             ],
             [
              0.4444444444444444,
              "#bd3786"
             ],
             [
              0.5555555555555556,
              "#d8576b"
             ],
             [
              0.6666666666666666,
              "#ed7953"
             ],
             [
              0.7777777777777778,
              "#fb9f3a"
             ],
             [
              0.8888888888888888,
              "#fdca26"
             ],
             [
              1,
              "#f0f921"
             ]
            ],
            "type": "histogram2dcontour"
           }
          ],
          "mesh3d": [
           {
            "colorbar": {
             "outlinewidth": 0,
             "ticks": ""
            },
            "type": "mesh3d"
           }
          ],
          "parcoords": [
           {
            "line": {
             "colorbar": {
              "outlinewidth": 0,
              "ticks": ""
             }
            },
            "type": "parcoords"
           }
          ],
          "pie": [
           {
            "automargin": true,
            "type": "pie"
           }
          ],
          "scatter": [
           {
            "fillpattern": {
             "fillmode": "overlay",
             "size": 10,
             "solidity": 0.2
            },
            "type": "scatter"
           }
          ],
          "scatter3d": [
           {
            "line": {
             "colorbar": {
              "outlinewidth": 0,
              "ticks": ""
             }
            },
            "marker": {
             "colorbar": {
              "outlinewidth": 0,
              "ticks": ""
             }
            },
            "type": "scatter3d"
           }
          ],
          "scattercarpet": [
           {
            "marker": {
             "colorbar": {
              "outlinewidth": 0,
              "ticks": ""
             }
            },
            "type": "scattercarpet"
           }
          ],
          "scattergeo": [
           {
            "marker": {
             "colorbar": {
              "outlinewidth": 0,
              "ticks": ""
             }
            },
            "type": "scattergeo"
           }
          ],
          "scattergl": [
           {
            "marker": {
             "colorbar": {
              "outlinewidth": 0,
              "ticks": ""
             }
            },
            "type": "scattergl"
           }
          ],
          "scattermap": [
           {
            "marker": {
             "colorbar": {
              "outlinewidth": 0,
              "ticks": ""
             }
            },
            "type": "scattermap"
           }
          ],
          "scattermapbox": [
           {
            "marker": {
             "colorbar": {
              "outlinewidth": 0,
              "ticks": ""
             }
            },
            "type": "scattermapbox"
           }
          ],
          "scatterpolar": [
           {
            "marker": {
             "colorbar": {
              "outlinewidth": 0,
              "ticks": ""
             }
            },
            "type": "scatterpolar"
           }
          ],
          "scatterpolargl": [
           {
            "marker": {
             "colorbar": {
              "outlinewidth": 0,
              "ticks": ""
             }
            },
            "type": "scatterpolargl"
           }
          ],
          "scatterternary": [
           {
            "marker": {
             "colorbar": {
              "outlinewidth": 0,
              "ticks": ""
             }
            },
            "type": "scatterternary"
           }
          ],
          "surface": [
           {
            "colorbar": {
             "outlinewidth": 0,
             "ticks": ""
            },
            "colorscale": [
             [
              0,
              "#0d0887"
             ],
             [
              0.1111111111111111,
              "#46039f"
             ],
             [
              0.2222222222222222,
              "#7201a8"
             ],
             [
              0.3333333333333333,
              "#9c179e"
             ],
             [
              0.4444444444444444,
              "#bd3786"
             ],
             [
              0.5555555555555556,
              "#d8576b"
             ],
             [
              0.6666666666666666,
              "#ed7953"
             ],
             [
              0.7777777777777778,
              "#fb9f3a"
             ],
             [
              0.8888888888888888,
              "#fdca26"
             ],
             [
              1,
              "#f0f921"
             ]
            ],
            "type": "surface"
           }
          ],
          "table": [
           {
            "cells": {
             "fill": {
              "color": "#EBF0F8"
             },
             "line": {
              "color": "white"
             }
            },
            "header": {
             "fill": {
              "color": "#C8D4E3"
             },
             "line": {
              "color": "white"
             }
            },
            "type": "table"
           }
          ]
         },
         "layout": {
          "annotationdefaults": {
           "arrowcolor": "#2a3f5f",
           "arrowhead": 0,
           "arrowwidth": 1
          },
          "autotypenumbers": "strict",
          "coloraxis": {
           "colorbar": {
            "outlinewidth": 0,
            "ticks": ""
           }
          },
          "colorscale": {
           "diverging": [
            [
             0,
             "#8e0152"
            ],
            [
             0.1,
             "#c51b7d"
            ],
            [
             0.2,
             "#de77ae"
            ],
            [
             0.3,
             "#f1b6da"
            ],
            [
             0.4,
             "#fde0ef"
            ],
            [
             0.5,
             "#f7f7f7"
            ],
            [
             0.6,
             "#e6f5d0"
            ],
            [
             0.7,
             "#b8e186"
            ],
            [
             0.8,
             "#7fbc41"
            ],
            [
             0.9,
             "#4d9221"
            ],
            [
             1,
             "#276419"
            ]
           ],
           "sequential": [
            [
             0,
             "#0d0887"
            ],
            [
             0.1111111111111111,
             "#46039f"
            ],
            [
             0.2222222222222222,
             "#7201a8"
            ],
            [
             0.3333333333333333,
             "#9c179e"
            ],
            [
             0.4444444444444444,
             "#bd3786"
            ],
            [
             0.5555555555555556,
             "#d8576b"
            ],
            [
             0.6666666666666666,
             "#ed7953"
            ],
            [
             0.7777777777777778,
             "#fb9f3a"
            ],
            [
             0.8888888888888888,
             "#fdca26"
            ],
            [
             1,
             "#f0f921"
            ]
           ],
           "sequentialminus": [
            [
             0,
             "#0d0887"
            ],
            [
             0.1111111111111111,
             "#46039f"
            ],
            [
             0.2222222222222222,
             "#7201a8"
            ],
            [
             0.3333333333333333,
             "#9c179e"
            ],
            [
             0.4444444444444444,
             "#bd3786"
            ],
            [
             0.5555555555555556,
             "#d8576b"
            ],
            [
             0.6666666666666666,
             "#ed7953"
            ],
            [
             0.7777777777777778,
             "#fb9f3a"
            ],
            [
             0.8888888888888888,
             "#fdca26"
            ],
            [
             1,
             "#f0f921"
            ]
           ]
          },
          "colorway": [
           "#636efa",
           "#EF553B",
           "#00cc96",
           "#ab63fa",
           "#FFA15A",
           "#19d3f3",
           "#FF6692",
           "#B6E880",
           "#FF97FF",
           "#FECB52"
          ],
          "font": {
           "color": "#2a3f5f"
          },
          "geo": {
           "bgcolor": "white",
           "lakecolor": "white",
           "landcolor": "#E5ECF6",
           "showlakes": true,
           "showland": true,
           "subunitcolor": "white"
          },
          "hoverlabel": {
           "align": "left"
          },
          "hovermode": "closest",
          "mapbox": {
           "style": "light"
          },
          "paper_bgcolor": "white",
          "plot_bgcolor": "#E5ECF6",
          "polar": {
           "angularaxis": {
            "gridcolor": "white",
            "linecolor": "white",
            "ticks": ""
           },
           "bgcolor": "#E5ECF6",
           "radialaxis": {
            "gridcolor": "white",
            "linecolor": "white",
            "ticks": ""
           }
          },
          "scene": {
           "xaxis": {
            "backgroundcolor": "#E5ECF6",
            "gridcolor": "white",
            "gridwidth": 2,
            "linecolor": "white",
            "showbackground": true,
            "ticks": "",
            "zerolinecolor": "white"
           },
           "yaxis": {
            "backgroundcolor": "#E5ECF6",
            "gridcolor": "white",
            "gridwidth": 2,
            "linecolor": "white",
            "showbackground": true,
            "ticks": "",
            "zerolinecolor": "white"
           },
           "zaxis": {
            "backgroundcolor": "#E5ECF6",
            "gridcolor": "white",
            "gridwidth": 2,
            "linecolor": "white",
            "showbackground": true,
            "ticks": "",
            "zerolinecolor": "white"
           }
          },
          "shapedefaults": {
           "line": {
            "color": "#2a3f5f"
           }
          },
          "ternary": {
           "aaxis": {
            "gridcolor": "white",
            "linecolor": "white",
            "ticks": ""
           },
           "baxis": {
            "gridcolor": "white",
            "linecolor": "white",
            "ticks": ""
           },
           "bgcolor": "#E5ECF6",
           "caxis": {
            "gridcolor": "white",
            "linecolor": "white",
            "ticks": ""
           }
          },
          "title": {
           "x": 0.05
          },
          "xaxis": {
           "automargin": true,
           "gridcolor": "white",
           "linecolor": "white",
           "ticks": "",
           "title": {
            "standoff": 15
           },
           "zerolinecolor": "white",
           "zerolinewidth": 2
          },
          "yaxis": {
           "automargin": true,
           "gridcolor": "white",
           "linecolor": "white",
           "ticks": "",
           "title": {
            "standoff": 15
           },
           "zerolinecolor": "white",
           "zerolinewidth": 2
          }
         }
        },
        "width": 500,
        "xaxis": {
         "anchor": "y",
         "domain": [
          0,
          1
         ],
         "title": {
          "text": "BES Average Fold Change"
         }
        },
        "yaxis": {
         "anchor": "x",
         "domain": [
          0,
          1
         ],
         "title": {
          "text": "MC Average Fold Change"
         }
        }
       }
      },
      "image/png": "[encoded data removed]"
     },
     "metadata": {},
     "output_type": "display_data"
    }
   ],
   "source": [
    "# MC MES array\n",
    "from plotly.subplots import make_subplots\n",
    "import plotly.graph_objects as go\n",
    "import plotly.io as pio\n",
    "\n",
    "fig = make_subplots(\n",
    "    rows=1,\n",
    "    cols=1,\n",
    "    #subplot_titles=[\"MES vs Main VSG\"],\n",
    ")\n",
    "\n",
    "scatter = go.Scatter(\n",
    "    x=merge['BES'],\n",
    "    y=merge['MC'],\n",
    "    mode='markers',\n",
    "    text=list(merge.index.values),\n",
    "    hoverinfo='text',\n",
    "    name='scatter',\n",
    "    showlegend=False,\n",
    "    # hovertemplate='%{text}'\n",
    ")\n",
    "fig.add_trace(scatter, row=1, col=1)\n",
    "\n",
    "fig.update_layout(\n",
    "    width=500,\n",
    "    height=500,\n",
    "    showlegend=False,\n",
    "    hovermode='closest',\n",
    "    xaxis_title=\"BES Average Fold Change\",\n",
    "    yaxis_title=\"MC Average Fold Change\",\n",
    ")\n",
    "\n",
    "# Save as an exportable HTML file\n",
    "pio.write_html(\n",
    "    fig,\n",
    "    file=\"vsgs_web_server/scatter_plots/BES_vs_MC.html\",   # change path/name if you like\n",
    "    include_plotlyjs=\"cdn\",\n",
    "    full_html=True,\n",
    "    auto_open=False,\n",
    ")\n",
    "fig"
   ]
  },
  {
   "cell_type": "code",
   "execution_count": 50,
   "id": "4fcfbef1-0d80-4caa-a6d5-550d16ea79f4",
   "metadata": {},
   "outputs": [
    {
     "data": {
      "application/vnd.plotly.v1+json": {
       "config": {
        "plotlyServerURL": "https://plot.ly"
       },
       "data": [
        {
         "hoverinfo": "text",
         "mode": "markers",
         "name": "scatter",
         "showlegend": false,
         "text": [
          "BDF2_1_KO48",
          "BDF3_1_KO24",
          "BET151_1_Drug12h",
          "BET151_1_Drug24h",
          "BET151_1_Drug3h",
          "BET151_1_Drug48h",
          "BET151_1_Drug6h",
          "BET151_1_Drug72h",
          "CAF1b_1_RNAi24",
          "CFB2_1_RNAi9",
          "DFO_1_DFO",
          "DFO_1_DFOFe",
          "DFO_1_Fe",
          "DRBD18_1_RNAi12",
          "H1_1_RNAi96",
          "H3H4_1_KOH3",
          "H3H4_1_KOH3J",
          "H3H4_1_KOH4",
          "H3H4_1_KOH4J",
          "H3H4_1_KOJ2",
          "H3H4_2_KO48",
          "H3H4_3_KO48",
          "H3_1_KOH3",
          "H3_1_KOH3J",
          "H3_1_KOJ",
          "IPMK_1_RNAi36",
          "IPMK_2_RNAi36",
          "MCMBP_1_KO24",
          "MCMBP_1_KO48",
          "PIP5Pase_1_KO",
          "PIP5Pase_2_D360A_N362A",
          "PNUTS_1_RNAi48",
          "RBP10_1_RNAi24",
          "RBP10_2_RNAi24",
          "RBP10_3_RNAi24",
          "RBP33_1_RNAi48",
          "RBP42_1_KO24",
          "RBP42_1_KO48",
          "RBP42_1_KO72",
          "RNaseH1_1_KO",
          "RNaseH2A_1_RNAi24",
          "RNaseH2A_2_RNAi36",
          "SET27_1_KO",
          "SET27_1_sKO",
          "SNF2PH_1_RNAi48",
          "TFR_1_RNAi24",
          "TbATR_1_RNAi24",
          "TbATR_2_RNAi36",
          "TbCMT1_1_KO",
          "TbESB1_1_RNAi24",
          "TbESB1_2_KO48",
          "TbESB1_3_OE24",
          "TbHAT_1_RNAi48HAT1",
          "TbHAT_1_RNAi48HAT2",
          "TbPP1one_1_RNAi24",
          "TbPP1seven_1_RNAi24",
          "TbRAP1_1_2SD",
          "TbRAP1_1_5A",
          "TbRAP1_1_KO",
          "TbRAP1_2_dMyb",
          "TbSAP_1_RNAi72",
          "VEX1_1_Oe72",
          "VEX1_2_RNAi72",
          "VEX1_4_RNAi24",
          "VEX1_5_RNAi48",
          "VEX1_6_RNAi72",
          "VEX1and2_1_RNAi24",
          "VEX1and2_1_RNAi48",
          "VEX2_1_RNAi24",
          "VEX2_1_RNAi48",
          "ZC3H28_1_RNAi10",
          "ZC3H28_1_RNAi14",
          "ZC3H28_1_RNAi16",
          "ZC3H28_1_RNAi24",
          "ZC3H40_1_RNAi72",
          "ZC3H5_2_RNAi12",
          "ZC3H5_3_RNAi12",
          "ZC3H5_4_RNAi12",
          "ZC3H5_5_RNAi12"
         ],
         "type": "scatter",
         "x": {
          "bdata": "CvZy6uLf8D8LNra6z6wDQAAAAAAAAPA/4hndrs2c6z9FrW2O+DzxP1u7nKSzPOg/5oA1AsFR8D/1iCZnjjvrP8Ytjqs7EAxAWIQzIJdR8D9LWqDU8RDwP6YIyTcZC/A/YCtjzKwj8D83MgmyRvbvP7f0l82DWQ9AatysR5/z+D/skCcWIVoHQAAAAAAAAPA/9VhiYWS38D9y+ssNzgfpP4dQ9NN73wBAcvh/WRkJ/z+ZrN0t04kCQGjmFt8wrABAOR08rZuA7D/UtFCtrT/wPwAAAAAAAPA/O2gjyCK0BEDH7xkR79saQA50o9NqjklAlNqoGQCTJkClZPB61CwDQBU+iEhdSPE/AAAAAAAA8D8u8ru42QjvP+k9usrVxvQ/O0goYLXQ8z91WX4VS7/sP8eJK3WDIuw/wOpu/qy28D83FR1zOTz5P4/1ZyvjP/o/1yBmPeAVD0CnW2Xu/ysAQJEsjHykJvM/kp4/UjsN9D9mfufJTmEDQGBtbVcGMChAeGpXYTMN8D+SiOS5GMT+Px8fSaEoiOU/avHT9SooCEBcbuXxrR3eP7xN5zTS7O4/PotU/bLwRkDPP3xAR9rnP64Cki2R+DpA2PmqxDiRM0BuI/XbM1hMQPVrOY0xx1ZAi+IxG7+nBUD4WbFGPlsYQBZQ2L+ChQBAl6k6GFVp9D/zE1nRMOX6P7CM6vMxRgBAEM3m/I3uT0CCnqWORC1NQLS80yhqEEhAP43HcdHcR0BgOkZ3lrvvP7N2IFVaAe4/yjlBzqmz7T/JNESLkE7tP03f2czcg/8/2yZwN0lk7z98JZ6iuj3tP8pZkuevUu4/VIxz4dc25T8=",
          "dtype": "f8"
         },
         "xaxis": "x",
         "y": {
          "bdata": "AAAAAAAA8D/OUk2QpGjwPwAAAAAAAPA/AAAAAAAA8D8AAAAAAADwPwAAAAAAAPA/AAAAAAAA8D9SWyP7XpzwP1lAJZt2xvA/8fLLvxDF7z8AAAAAAADwPwAAAAAAAPA/AAAAAAAA8D8AAAAAAADwPwAAAAAAAPA/AAAAAAAA8D8AAAAAAADwPwAAAAAAAPA/AAAAAAAA8D8AAAAAAADwP/FFr2j1yvA/rDTmZkeU8D8AAAAAAADwP7M60ie2FvA/AAAAAAAA8D/2cUySVQHwPwAAAAAAAPA/rAZFTo9b8D8BwFFRJs7yP9rkg2VVWDBAEv/MGcUREEBB5vWZ/9zwPwAAAAAAAPA/AAAAAAAA8D8AAAAAAADwP8Z7059qdwVAsZkPfs4D8D8x6oaoDTLwP78etbsh1vE/AAAAAAAA8D8AAAAAAADwP4b59JV2tPA/2HUVjfn+8D8AAAAAAADwPwAAAAAAAPA/2zLRJnoV8D/9r8pg3znwP/Ml2kbJ1/E/AAAAAAAA8D91dA1CMEPwP1ovGOzr1PA/AAAAAAAA8D8AAAAAAADwP5EngEGoBvA/sdu8KbyWEEAAAAAAAADwPzWoyrQMyRlAYLaujhmrDUDMzHttvZoRQJJDJGvNxiFAgUTloeoL8T8C8ONBUSvxPwAAAAAAAPA/AAAAAAAA8D8AAAAAAADwPwAAAAAAAPA/9xFq9Cw68D/sQ9/DPo/wP650g69rS/A/eSzTyhBz8D82HuinGKHvPwAAAAAAAPA/TLWFFWy57z9O0F4vN43vPwAAAAAAAPA/WxAxmM8E8T8AAAAAAADwPwAAAAAAAPA/AAAAAAAA8D8=",
          "dtype": "f8"
         },
         "yaxis": "y"
        }
       ],
       "layout": {
        "height": 500,
        "hovermode": "closest",
        "showlegend": false,
        "template": {
         "data": {
          "bar": [
           {
            "error_x": {
             "color": "#2a3f5f"
            },
            "error_y": {
             "color": "#2a3f5f"
            },
            "marker": {
             "line": {
              "color": "#E5ECF6",
              "width": 0.5
             },
             "pattern": {
              "fillmode": "overlay",
              "size": 10,
              "solidity": 0.2
             }
            },
            "type": "bar"
           }
          ],
          "barpolar": [
           {
            "marker": {
             "line": {
              "color": "#E5ECF6",
              "width": 0.5
             },
             "pattern": {
              "fillmode": "overlay",
              "size": 10,
              "solidity": 0.2
             }
            },
            "type": "barpolar"
           }
          ],
          "carpet": [
           {
            "aaxis": {
             "endlinecolor": "#2a3f5f",
             "gridcolor": "white",
             "linecolor": "white",
             "minorgridcolor": "white",
             "startlinecolor": "#2a3f5f"
            },
            "baxis": {
             "endlinecolor": "#2a3f5f",
             "gridcolor": "white",
             "linecolor": "white",
             "minorgridcolor": "white",
             "startlinecolor": "#2a3f5f"
            },
            "type": "carpet"
           }
          ],
          "choropleth": [
           {
            "colorbar": {
             "outlinewidth": 0,
             "ticks": ""
            },
            "type": "choropleth"
           }
          ],
          "contour": [
           {
            "colorbar": {
             "outlinewidth": 0,
             "ticks": ""
            },
            "colorscale": [
             [
              0,
              "#0d0887"
             ],
             [
              0.1111111111111111,
              "#46039f"
             ],
             [
              0.2222222222222222,
              "#7201a8"
             ],
             [
              0.3333333333333333,
              "#9c179e"
             ],
             [
              0.4444444444444444,
              "#bd3786"
             ],
             [
              0.5555555555555556,
              "#d8576b"
             ],
             [
              0.6666666666666666,
              "#ed7953"
             ],
             [
              0.7777777777777778,
              "#fb9f3a"
             ],
             [
              0.8888888888888888,
              "#fdca26"
             ],
             [
              1,
              "#f0f921"
             ]
            ],
            "type": "contour"
           }
          ],
          "contourcarpet": [
           {
            "colorbar": {
             "outlinewidth": 0,
             "ticks": ""
            },
            "type": "contourcarpet"
           }
          ],
          "heatmap": [
           {
            "colorbar": {
             "outlinewidth": 0,
             "ticks": ""
            },
            "colorscale": [
             [
              0,
              "#0d0887"
             ],
             [
              0.1111111111111111,
              "#46039f"
             ],
             [
              0.2222222222222222,
              "#7201a8"
             ],
             [
              0.3333333333333333,
              "#9c179e"
             ],
             [
              0.4444444444444444,
              "#bd3786"
             ],
             [
              0.5555555555555556,
              "#d8576b"
             ],
             [
              0.6666666666666666,
              "#ed7953"
             ],
             [
              0.7777777777777778,
              "#fb9f3a"
             ],
             [
              0.8888888888888888,
              "#fdca26"
             ],
             [
              1,
              "#f0f921"
             ]
            ],
            "type": "heatmap"
           }
          ],
          "histogram": [
           {
            "marker": {
             "pattern": {
              "fillmode": "overlay",
              "size": 10,
              "solidity": 0.2
             }
            },
            "type": "histogram"
           }
          ],
          "histogram2d": [
           {
            "colorbar": {
             "outlinewidth": 0,
             "ticks": ""
            },
            "colorscale": [
             [
              0,
              "#0d0887"
             ],
             [
              0.1111111111111111,
              "#46039f"
             ],
             [
              0.2222222222222222,
              "#7201a8"
             ],
             [
              0.3333333333333333,
              "#9c179e"
             ],
             [
              0.4444444444444444,
              "#bd3786"
             ],
             [
              0.5555555555555556,
              "#d8576b"
             ],
             [
              0.6666666666666666,
              "#ed7953"
             ],
             [
              0.7777777777777778,
              "#fb9f3a"
             ],
             [
              0.8888888888888888,
              "#fdca26"
             ],
             [
              1,
              "#f0f921"
             ]
            ],
            "type": "histogram2d"
           }
          ],
          "histogram2dcontour": [
           {
            "colorbar": {
             "outlinewidth": 0,
             "ticks": ""
            },
            "colorscale": [
             [
              0,
              "#0d0887"
             ],
             [
              0.1111111111111111,
              "#46039f"
             ],
             [
              0.2222222222222222,
              "#7201a8"
             ],
             [
              0.3333333333333333,
              "#9c179e"
             ],
             [
              0.4444444444444444,
              "#bd3786"
             ],
             [
              0.5555555555555556,
              "#d8576b"
             ],
             [
              0.6666666666666666,
              "#ed7953"
             ],
             [
              0.7777777777777778,
              "#fb9f3a"
             ],
             [
              0.8888888888888888,
              "#fdca26"
             ],
             [
              1,
              "#f0f921"
             ]
            ],
            "type": "histogram2dcontour"
           }
          ],
          "mesh3d": [
           {
            "colorbar": {
             "outlinewidth": 0,
             "ticks": ""
            },
            "type": "mesh3d"
           }
          ],
          "parcoords": [
           {
            "line": {
             "colorbar": {
              "outlinewidth": 0,
              "ticks": ""
             }
            },
            "type": "parcoords"
           }
          ],
          "pie": [
           {
            "automargin": true,
            "type": "pie"
           }
          ],
          "scatter": [
           {
            "fillpattern": {
             "fillmode": "overlay",
             "size": 10,
             "solidity": 0.2
            },
            "type": "scatter"
           }
          ],
          "scatter3d": [
           {
            "line": {
             "colorbar": {
              "outlinewidth": 0,
              "ticks": ""
             }
            },
            "marker": {
             "colorbar": {
              "outlinewidth": 0,
              "ticks": ""
             }
            },
            "type": "scatter3d"
           }
          ],
          "scattercarpet": [
           {
            "marker": {
             "colorbar": {
              "outlinewidth": 0,
              "ticks": ""
             }
            },
            "type": "scattercarpet"
           }
          ],
          "scattergeo": [
           {
            "marker": {
             "colorbar": {
              "outlinewidth": 0,
              "ticks": ""
             }
            },
            "type": "scattergeo"
           }
          ],
          "scattergl": [
           {
            "marker": {
             "colorbar": {
              "outlinewidth": 0,
              "ticks": ""
             }
            },
            "type": "scattergl"
           }
          ],
          "scattermap": [
           {
            "marker": {
             "colorbar": {
              "outlinewidth": 0,
              "ticks": ""
             }
            },
            "type": "scattermap"
           }
          ],
          "scattermapbox": [
           {
            "marker": {
             "colorbar": {
              "outlinewidth": 0,
              "ticks": ""
             }
            },
            "type": "scattermapbox"
           }
          ],
          "scatterpolar": [
           {
            "marker": {
             "colorbar": {
              "outlinewidth": 0,
              "ticks": ""
             }
            },
            "type": "scatterpolar"
           }
          ],
          "scatterpolargl": [
           {
            "marker": {
             "colorbar": {
              "outlinewidth": 0,
              "ticks": ""
             }
            },
            "type": "scatterpolargl"
           }
          ],
          "scatterternary": [
           {
            "marker": {
             "colorbar": {
              "outlinewidth": 0,
              "ticks": ""
             }
            },
            "type": "scatterternary"
           }
          ],
          "surface": [
           {
            "colorbar": {
             "outlinewidth": 0,
             "ticks": ""
            },
            "colorscale": [
             [
              0,
              "#0d0887"
             ],
             [
              0.1111111111111111,
              "#46039f"
             ],
             [
              0.2222222222222222,
              "#7201a8"
             ],
             [
              0.3333333333333333,
              "#9c179e"
             ],
             [
              0.4444444444444444,
              "#bd3786"
             ],
             [
              0.5555555555555556,
              "#d8576b"
             ],
             [
              0.6666666666666666,
              "#ed7953"
             ],
             [
              0.7777777777777778,
              "#fb9f3a"
             ],
             [
              0.8888888888888888,
              "#fdca26"
             ],
             [
              1,
              "#f0f921"
             ]
            ],
            "type": "surface"
           }
          ],
          "table": [
           {
            "cells": {
             "fill": {
              "color": "#EBF0F8"
             },
             "line": {
              "color": "white"
             }
            },
            "header": {
             "fill": {
              "color": "#C8D4E3"
             },
             "line": {
              "color": "white"
             }
            },
            "type": "table"
           }
          ]
         },
         "layout": {
          "annotationdefaults": {
           "arrowcolor": "#2a3f5f",
           "arrowhead": 0,
           "arrowwidth": 1
          },
          "autotypenumbers": "strict",
          "coloraxis": {
           "colorbar": {
            "outlinewidth": 0,
            "ticks": ""
           }
          },
          "colorscale": {
           "diverging": [
            [
             0,
             "#8e0152"
            ],
            [
             0.1,
             "#c51b7d"
            ],
            [
             0.2,
             "#de77ae"
            ],
            [
             0.3,
             "#f1b6da"
            ],
            [
             0.4,
             "#fde0ef"
            ],
            [
             0.5,
             "#f7f7f7"
            ],
            [
             0.6,
             "#e6f5d0"
            ],
            [
             0.7,
             "#b8e186"
            ],
            [
             0.8,
             "#7fbc41"
            ],
            [
             0.9,
             "#4d9221"
            ],
            [
             1,
             "#276419"
            ]
           ],
           "sequential": [
            [
             0,
             "#0d0887"
            ],
            [
             0.1111111111111111,
             "#46039f"
            ],
            [
             0.2222222222222222,
             "#7201a8"
            ],
            [
             0.3333333333333333,
             "#9c179e"
            ],
            [
             0.4444444444444444,
             "#bd3786"
            ],
            [
             0.5555555555555556,
             "#d8576b"
            ],
            [
             0.6666666666666666,
             "#ed7953"
            ],
            [
             0.7777777777777778,
             "#fb9f3a"
            ],
            [
             0.8888888888888888,
             "#fdca26"
            ],
            [
             1,
             "#f0f921"
            ]
           ],
           "sequentialminus": [
            [
             0,
             "#0d0887"
            ],
            [
             0.1111111111111111,
             "#46039f"
            ],
            [
             0.2222222222222222,
             "#7201a8"
            ],
            [
             0.3333333333333333,
             "#9c179e"
            ],
            [
             0.4444444444444444,
             "#bd3786"
            ],
            [
             0.5555555555555556,
             "#d8576b"
            ],
            [
             0.6666666666666666,
             "#ed7953"
            ],
            [
             0.7777777777777778,
             "#fb9f3a"
            ],
            [
             0.8888888888888888,
             "#fdca26"
            ],
            [
             1,
             "#f0f921"
            ]
           ]
          },
          "colorway": [
           "#636efa",
           "#EF553B",
           "#00cc96",
           "#ab63fa",
           "#FFA15A",
           "#19d3f3",
           "#FF6692",
           "#B6E880",
           "#FF97FF",
           "#FECB52"
          ],
          "font": {
           "color": "#2a3f5f"
          },
          "geo": {
           "bgcolor": "white",
           "lakecolor": "white",
           "landcolor": "#E5ECF6",
           "showlakes": true,
           "showland": true,
           "subunitcolor": "white"
          },
          "hoverlabel": {
           "align": "left"
          },
          "hovermode": "closest",
          "mapbox": {
           "style": "light"
          },
          "paper_bgcolor": "white",
          "plot_bgcolor": "#E5ECF6",
          "polar": {
           "angularaxis": {
            "gridcolor": "white",
            "linecolor": "white",
            "ticks": ""
           },
           "bgcolor": "#E5ECF6",
           "radialaxis": {
            "gridcolor": "white",
            "linecolor": "white",
            "ticks": ""
           }
          },
          "scene": {
           "xaxis": {
            "backgroundcolor": "#E5ECF6",
            "gridcolor": "white",
            "gridwidth": 2,
            "linecolor": "white",
            "showbackground": true,
            "ticks": "",
            "zerolinecolor": "white"
           },
           "yaxis": {
            "backgroundcolor": "#E5ECF6",
            "gridcolor": "white",
            "gridwidth": 2,
            "linecolor": "white",
            "showbackground": true,
            "ticks": "",
            "zerolinecolor": "white"
           },
           "zaxis": {
            "backgroundcolor": "#E5ECF6",
            "gridcolor": "white",
            "gridwidth": 2,
            "linecolor": "white",
            "showbackground": true,
            "ticks": "",
            "zerolinecolor": "white"
           }
          },
          "shapedefaults": {
           "line": {
            "color": "#2a3f5f"
           }
          },
          "ternary": {
           "aaxis": {
            "gridcolor": "white",
            "linecolor": "white",
            "ticks": ""
           },
           "baxis": {
            "gridcolor": "white",
            "linecolor": "white",
            "ticks": ""
           },
           "bgcolor": "#E5ECF6",
           "caxis": {
            "gridcolor": "white",
            "linecolor": "white",
            "ticks": ""
           }
          },
          "title": {
           "x": 0.05
          },
          "xaxis": {
           "automargin": true,
           "gridcolor": "white",
           "linecolor": "white",
           "ticks": "",
           "title": {
            "standoff": 15
           },
           "zerolinecolor": "white",
           "zerolinewidth": 2
          },
          "yaxis": {
           "automargin": true,
           "gridcolor": "white",
           "linecolor": "white",
           "ticks": "",
           "title": {
            "standoff": 15
           },
           "zerolinecolor": "white",
           "zerolinewidth": 2
          }
         }
        },
        "width": 500,
        "xaxis": {
         "anchor": "y",
         "domain": [
          0,
          1
         ],
         "title": {
          "text": "BES Average Fold Change"
         }
        },
        "yaxis": {
         "anchor": "x",
         "domain": [
          0,
          1
         ],
         "title": {
          "text": "Array Average Fold Change"
         }
        }
       }
      },
      "image/png": "[encoded data removed]"
     },
     "metadata": {},
     "output_type": "display_data"
    }
   ],
   "source": [
    "# MC MES array\n",
    "from plotly.subplots import make_subplots\n",
    "import plotly.graph_objects as go\n",
    "import plotly.io as pio\n",
    "\n",
    "fig = make_subplots(\n",
    "    rows=1,\n",
    "    cols=1,\n",
    "    #subplot_titles=[\"MES vs Main VSG\"],\n",
    ")\n",
    "\n",
    "scatter = go.Scatter(\n",
    "    x=merge['BES'],\n",
    "    y=merge['array'],\n",
    "    mode='markers',\n",
    "    text=list(merge.index.values),\n",
    "    hoverinfo='text',\n",
    "    name='scatter',\n",
    "    showlegend=False,\n",
    "    # hovertemplate='%{text}'\n",
    ")\n",
    "fig.add_trace(scatter, row=1, col=1)\n",
    "\n",
    "fig.update_layout(\n",
    "    width=500,\n",
    "    height=500,\n",
    "    showlegend=False,\n",
    "    hovermode='closest',\n",
    "    xaxis_title=\"BES Average Fold Change\",\n",
    "    yaxis_title=\"Array Average Fold Change\",\n",
    ")\n",
    "\n",
    "# Save as an exportable HTML file\n",
    "pio.write_html(\n",
    "    fig,\n",
    "    file=\"vsgs_web_server/scatter_plots/BES_vs_array.html\",   # change path/name if you like\n",
    "    include_plotlyjs=\"cdn\",\n",
    "    full_html=True,\n",
    "    auto_open=False,\n",
    ")\n",
    "fig"
   ]
  },
  {
   "cell_type": "code",
   "execution_count": 33,
   "id": "30b4adc4-0d46-4675-a8cc-526e5b08e9d2",
   "metadata": {},
   "outputs": [
    {
     "name": "stdout",
     "output_type": "stream",
     "text": [
      "done\n"
     ]
    }
   ],
   "source": [
    "print('done')"
   ]
  },
  {
   "cell_type": "code",
   "execution_count": null,
   "id": "88583d95-8fd9-43aa-a350-8fca68338561",
   "metadata": {},
   "outputs": [],
   "source": []
  }
 ],
 "metadata": {
  "kernelspec": {
   "display_name": "Python 3 (ipykernel)",
   "language": "python",
   "name": "python3"
  },
  "language_info": {
   "codemirror_mode": {
    "name": "ipython",
    "version": 3
   },
   "file_extension": ".py",
   "mimetype": "text/x-python",
   "name": "python",
   "nbconvert_exporter": "python",
   "pygments_lexer": "ipython3",
   "version": "3.11.2"
  }
 },
 "nbformat": 4,
 "nbformat_minor": 5
}
